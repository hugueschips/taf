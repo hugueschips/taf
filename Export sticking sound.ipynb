{
 "cells": [
  {
   "cell_type": "code",
   "execution_count": 12,
   "metadata": {
    "collapsed": true
   },
   "outputs": [],
   "source": [
    "'''\n",
    "Created on 2nd November 2016\n",
    "@author: Daniel Durrenberger\n",
    "daniel.durrenberger@amaris.com\n",
    "\n",
    "Python 2.7.12\n",
    "Pandas 0.18.1\n",
    "Numpy 1.11.1\n",
    "Scipy 0.18.0\n",
    "'''\n",
    "import pyeemd\n",
    "import utils\n",
    "import time\n",
    "import numpy as np\n",
    "import scipy\n",
    "import matplotlib.pyplot as plt\n",
    "import manage_data as md\n",
    "import preprocessing as pp\n",
    "import processing as pc\n",
    "from scipy.io.wavfile import write\n",
    "\n",
    "def export_sticking_sound(\n",
    "        coil=28,\n",
    "        cropTime=None,\n",
    "        normalize=False,\n",
    "        filename='sticking_coil_'\n",
    "        ):\n",
    "    ############################# IMPORT COIL #################################\n",
    "    #print('...import coil '+str(coil)+' from hdf...')\n",
    "    dfi = md.import_dfi()\n",
    "    df = md.import_data(coil=coil)\n",
    "    t, signal, speed, decoiler, coiler = md.dfToArrays(df)\n",
    "    a, b, n, dt, fs = md.xInfo(t)\n",
    "    #print('          ...'+str(n)+' points...')\n",
    "\n",
    "    ############################# ABOUT COIL ##################################\n",
    "    thickness = dfi.thickness[coil]\n",
    "    sticking = dfi.sticking[coil]\n",
    "    duration = dfi.duration[coil]-5\n",
    "    filename = filename + str(coil) + '.wav'\n",
    "    if sticking:\n",
    "        sti, sei = dfi.t_begin[coil], dfi.t_end[coil]\n",
    "        cropTime = [int(sti*0.9), min(sti+120., duration)]\n",
    "        #print('...coil is sticking from '+str(sti)+' to '+str(sei)+'s...')\n",
    "        stick = ' sticking in ['+str(sti)+','+str(sei)+']'\n",
    "    else:\n",
    "        #print('...no marks have been detected on this coil...')\n",
    "        #print('not sticking')\n",
    "        return\n",
    "    metadata = 'Coil '+str(coil)+stick\n",
    "\n",
    "    ############################# DIVIDE BY RMS ###############################\n",
    "    if normalize:\n",
    "        #print('...divide signal by RMS on a 5s window...')\n",
    "        signal /= pp.fast_rms(signal)\n",
    "\n",
    "    ############################# CROP TIME ZONE ##############################\n",
    "    beginning = 0 # used for autocorrelation xaxis\n",
    "    cropTime = None\n",
    "    if cropTime is not None:\n",
    "        i0, iN = int(fs*cropTime[0]), int(fs*cropTime[1])\n",
    "        beginning = cropTime[0]  # used for autocorrelation xaxis\n",
    "        #print('...crop between '+str(cropTime)+'s...')\n",
    "        t, signal, speed, decoiler, coiler = md.dfToArrays(df, i0, iN)\n",
    "        a, b, n, dt, fs = md.xInfo(t)\n",
    "        metadata += ' cropped on '+str(cropTime)\n",
    "        #print('          ...'+str(n)+' points...')\n",
    "\n",
    "    ############################# PRODUCE WAV FILE ###########################\n",
    "    #write(filename, fs, signal)\n",
    "    \n",
    "    return coil, sti, sei\n",
    "\n",
    "def marker(fs, length, begin, end):\n",
    "    sticking = np.zeros(length, dtype=bool)\n",
    "    for start, stop in zip(begin, end):\n",
    "        indx1 = int(start*fs)\n",
    "        indx2 = int(stop*fs)\n",
    "        sticking[indx1:indx2] = True\n",
    "    return sticking"
   ]
  },
  {
   "cell_type": "code",
   "execution_count": null,
   "metadata": {
    "collapsed": false
   },
   "outputs": [],
   "source": [
    "all_coils = list( set(range(88)) - set([31]) )\n",
    "startTime = time.time()\n",
    "coil_list = all_coils\n",
    "n = len(coil_list)\n",
    "c = 0\n",
    "fail = []\n",
    "coil_dict = {}\n",
    "for coil in coil_list:\n",
    "    c += 1\n",
    "    n -= 1\n",
    "    coilname = 'coil_' + str(coil)\n",
    "    if coil<10:\n",
    "        coilname = 'coil_0' + str(coil)\n",
    "    try:\n",
    "        c, sti, sei = export_sticking_sound(\n",
    "                            coil=coil\n",
    "                            )\n",
    "        coil_dict[coilname] = {'startsec':sti, 'endsec':sei}\n",
    "        if np.mod(coil,10)==0:\n",
    "            soFarDuration = np.round((time.time()-startTime)/60,1)\n",
    "            estimatedTimeLeft = np.round((n*soFarDuration/c),1)\n",
    "            print('             ELAPSED TIME : '+str(soFarDuration)+' min')\n",
    "            print('      ESTIMATED LEFT TIME : '+str(estimatedTimeLeft)+' min')\n",
    "    except:\n",
    "        fail.append(coil)\n",
    "        pass\n",
    "totalTime = int((time.time()-startTime)/60)+1\n",
    "print('TOTAL TIME : '+str(totalTime)+' min')\n",
    "print('FAILS : '+str(fail))"
   ]
  },
  {
   "cell_type": "code",
   "execution_count": 1,
   "metadata": {
    "collapsed": false
   },
   "outputs": [],
   "source": [
    "coil_dict = {'coil_02': {'endsec': 125.0, 'startsec': 89.0},\n",
    " 'coil_03': {'endsec': 127.0, 'startsec': 66.0},\n",
    " 'coil_04': {'endsec': 108.0, 'startsec': 83.0},\n",
    " 'coil_06': {'endsec': 271.0, 'startsec': 224.0},\n",
    " 'coil_07': {'endsec': 171.0, 'startsec': 49.0},\n",
    " 'coil_08': {'endsec': 83.0, 'startsec': 51.0},\n",
    " 'coil_09': {'endsec': 228.0, 'startsec': 221.0},\n",
    " 'coil_12': {'endsec': 26.0, 'startsec': 23.0},\n",
    " 'coil_13': {'endsec': 89.0, 'startsec': 21.0},\n",
    " 'coil_17': {'endsec': 62.0, 'startsec': 52.0},\n",
    " 'coil_19': {'endsec': 314.0, 'startsec': 227.0},\n",
    " 'coil_20': {'endsec': 119.0, 'startsec': 71.0},\n",
    " 'coil_21': {'endsec': 112.0, 'startsec': 81.0},\n",
    " 'coil_27': {'endsec': 294.0, 'startsec': 253.0},\n",
    " 'coil_28': {'endsec': 149.0, 'startsec': 94.0},\n",
    " 'coil_29': {'endsec': 120.0, 'startsec': 68.0},\n",
    " 'coil_32': {'endsec': 280.0, 'startsec': 225.0},\n",
    " 'coil_34': {'endsec': 90.0, 'startsec': 72.0},\n",
    " 'coil_37': {'endsec': 88.0, 'startsec': 66.0},\n",
    " 'coil_38': {'endsec': 126.0, 'startsec': 65.0},\n",
    " 'coil_40': {'endsec': 111.0, 'startsec': 8.0},\n",
    " 'coil_43': {'endsec': 73.0, 'startsec': 16.0},\n",
    " 'coil_44': {'endsec': 88.0, 'startsec': 77.0},\n",
    " 'coil_50': {'endsec': 103.0, 'startsec': 23.0},\n",
    " 'coil_52': {'endsec': 109.0, 'startsec': 90.0},\n",
    " 'coil_53': {'endsec': 125.0, 'startsec': 91.0},\n",
    " 'coil_56': {'endsec': 208.0, 'startsec': 177.0},\n",
    " 'coil_62': {'endsec': 103.0, 'startsec': 54.0},\n",
    " 'coil_65': {'endsec': 196.0, 'startsec': 101.0},\n",
    " 'coil_66': {'endsec': 111.0, 'startsec': 70.0},\n",
    " 'coil_71': {'endsec': 303.0, 'startsec': 141.0},\n",
    " 'coil_72': {'endsec': 126.0, 'startsec': 16.0},\n",
    " 'coil_74': {'endsec': 135.0, 'startsec': 84.0},\n",
    " 'coil_78': {'endsec': 206.0, 'startsec': 52.0},\n",
    " 'coil_79': {'endsec': 140.0, 'startsec': 79.0},\n",
    " 'coil_80': {'endsec': 138.0, 'startsec': 75.0},\n",
    " 'coil_81': {'endsec': 171.0, 'startsec': 33.0},\n",
    " 'coil_82': {'endsec': 129.0, 'startsec': 13.0},\n",
    " 'coil_83': {'endsec': 111.0, 'startsec': 59.0}}"
   ]
  },
  {
   "cell_type": "code",
   "execution_count": 5,
   "metadata": {
    "collapsed": false
   },
   "outputs": [
    {
     "data": {
      "text/plain": [
       "39"
      ]
     },
     "execution_count": 5,
     "metadata": {},
     "output_type": "execute_result"
    }
   ],
   "source": [
    "len(coil_dict)"
   ]
  },
  {
   "cell_type": "code",
   "execution_count": 40,
   "metadata": {
    "collapsed": false
   },
   "outputs": [
    {
     "data": {
      "text/plain": [
       "()"
      ]
     },
     "execution_count": 40,
     "metadata": {},
     "output_type": "execute_result"
    }
   ],
   "source": [
    "import xlsxwriter\n",
    "md.export_excelfile(df)"
   ]
  },
  {
   "cell_type": "code",
   "execution_count": 28,
   "metadata": {
    "collapsed": false
   },
   "outputs": [],
   "source": [
    "import pandas as pd\n",
    "df = pd.DataFrame(coil_dict.values(), index=coil_dict.keys())"
   ]
  },
  {
   "cell_type": "code",
   "execution_count": 29,
   "metadata": {
    "collapsed": false
   },
   "outputs": [
    {
     "data": {
      "text/plain": [
       "<function values>"
      ]
     },
     "execution_count": 29,
     "metadata": {},
     "output_type": "execute_result"
    }
   ],
   "source": [
    "coil_dict.values"
   ]
  },
  {
   "cell_type": "code",
   "execution_count": 38,
   "metadata": {
    "collapsed": false
   },
   "outputs": [],
   "source": [
    "df = df.sort_index()"
   ]
  },
  {
   "cell_type": "code",
   "execution_count": 39,
   "metadata": {
    "collapsed": false
   },
   "outputs": [
    {
     "data": {
      "text/html": [
       "<div>\n",
       "<table border=\"1\" class=\"dataframe\">\n",
       "  <thead>\n",
       "    <tr style=\"text-align: right;\">\n",
       "      <th></th>\n",
       "      <th>endsec</th>\n",
       "      <th>startsec</th>\n",
       "    </tr>\n",
       "  </thead>\n",
       "  <tbody>\n",
       "    <tr>\n",
       "      <th>coil_02</th>\n",
       "      <td>125.0</td>\n",
       "      <td>89.0</td>\n",
       "    </tr>\n",
       "    <tr>\n",
       "      <th>coil_03</th>\n",
       "      <td>127.0</td>\n",
       "      <td>66.0</td>\n",
       "    </tr>\n",
       "    <tr>\n",
       "      <th>coil_04</th>\n",
       "      <td>108.0</td>\n",
       "      <td>83.0</td>\n",
       "    </tr>\n",
       "    <tr>\n",
       "      <th>coil_06</th>\n",
       "      <td>271.0</td>\n",
       "      <td>224.0</td>\n",
       "    </tr>\n",
       "    <tr>\n",
       "      <th>coil_07</th>\n",
       "      <td>171.0</td>\n",
       "      <td>49.0</td>\n",
       "    </tr>\n",
       "    <tr>\n",
       "      <th>coil_08</th>\n",
       "      <td>83.0</td>\n",
       "      <td>51.0</td>\n",
       "    </tr>\n",
       "    <tr>\n",
       "      <th>coil_09</th>\n",
       "      <td>228.0</td>\n",
       "      <td>221.0</td>\n",
       "    </tr>\n",
       "    <tr>\n",
       "      <th>coil_12</th>\n",
       "      <td>26.0</td>\n",
       "      <td>23.0</td>\n",
       "    </tr>\n",
       "    <tr>\n",
       "      <th>coil_13</th>\n",
       "      <td>89.0</td>\n",
       "      <td>21.0</td>\n",
       "    </tr>\n",
       "    <tr>\n",
       "      <th>coil_17</th>\n",
       "      <td>62.0</td>\n",
       "      <td>52.0</td>\n",
       "    </tr>\n",
       "    <tr>\n",
       "      <th>coil_19</th>\n",
       "      <td>314.0</td>\n",
       "      <td>227.0</td>\n",
       "    </tr>\n",
       "    <tr>\n",
       "      <th>coil_20</th>\n",
       "      <td>119.0</td>\n",
       "      <td>71.0</td>\n",
       "    </tr>\n",
       "    <tr>\n",
       "      <th>coil_21</th>\n",
       "      <td>112.0</td>\n",
       "      <td>81.0</td>\n",
       "    </tr>\n",
       "    <tr>\n",
       "      <th>coil_27</th>\n",
       "      <td>294.0</td>\n",
       "      <td>253.0</td>\n",
       "    </tr>\n",
       "    <tr>\n",
       "      <th>coil_28</th>\n",
       "      <td>149.0</td>\n",
       "      <td>94.0</td>\n",
       "    </tr>\n",
       "    <tr>\n",
       "      <th>coil_29</th>\n",
       "      <td>120.0</td>\n",
       "      <td>68.0</td>\n",
       "    </tr>\n",
       "    <tr>\n",
       "      <th>coil_32</th>\n",
       "      <td>280.0</td>\n",
       "      <td>225.0</td>\n",
       "    </tr>\n",
       "    <tr>\n",
       "      <th>coil_34</th>\n",
       "      <td>90.0</td>\n",
       "      <td>72.0</td>\n",
       "    </tr>\n",
       "    <tr>\n",
       "      <th>coil_37</th>\n",
       "      <td>88.0</td>\n",
       "      <td>66.0</td>\n",
       "    </tr>\n",
       "    <tr>\n",
       "      <th>coil_38</th>\n",
       "      <td>126.0</td>\n",
       "      <td>65.0</td>\n",
       "    </tr>\n",
       "    <tr>\n",
       "      <th>coil_40</th>\n",
       "      <td>111.0</td>\n",
       "      <td>8.0</td>\n",
       "    </tr>\n",
       "    <tr>\n",
       "      <th>coil_43</th>\n",
       "      <td>73.0</td>\n",
       "      <td>16.0</td>\n",
       "    </tr>\n",
       "    <tr>\n",
       "      <th>coil_44</th>\n",
       "      <td>88.0</td>\n",
       "      <td>77.0</td>\n",
       "    </tr>\n",
       "    <tr>\n",
       "      <th>coil_50</th>\n",
       "      <td>103.0</td>\n",
       "      <td>23.0</td>\n",
       "    </tr>\n",
       "    <tr>\n",
       "      <th>coil_52</th>\n",
       "      <td>109.0</td>\n",
       "      <td>90.0</td>\n",
       "    </tr>\n",
       "    <tr>\n",
       "      <th>coil_53</th>\n",
       "      <td>125.0</td>\n",
       "      <td>91.0</td>\n",
       "    </tr>\n",
       "    <tr>\n",
       "      <th>coil_56</th>\n",
       "      <td>208.0</td>\n",
       "      <td>177.0</td>\n",
       "    </tr>\n",
       "    <tr>\n",
       "      <th>coil_62</th>\n",
       "      <td>103.0</td>\n",
       "      <td>54.0</td>\n",
       "    </tr>\n",
       "    <tr>\n",
       "      <th>coil_65</th>\n",
       "      <td>196.0</td>\n",
       "      <td>101.0</td>\n",
       "    </tr>\n",
       "    <tr>\n",
       "      <th>coil_66</th>\n",
       "      <td>111.0</td>\n",
       "      <td>70.0</td>\n",
       "    </tr>\n",
       "    <tr>\n",
       "      <th>coil_71</th>\n",
       "      <td>303.0</td>\n",
       "      <td>141.0</td>\n",
       "    </tr>\n",
       "    <tr>\n",
       "      <th>coil_72</th>\n",
       "      <td>126.0</td>\n",
       "      <td>16.0</td>\n",
       "    </tr>\n",
       "    <tr>\n",
       "      <th>coil_74</th>\n",
       "      <td>135.0</td>\n",
       "      <td>84.0</td>\n",
       "    </tr>\n",
       "    <tr>\n",
       "      <th>coil_78</th>\n",
       "      <td>206.0</td>\n",
       "      <td>52.0</td>\n",
       "    </tr>\n",
       "    <tr>\n",
       "      <th>coil_79</th>\n",
       "      <td>140.0</td>\n",
       "      <td>79.0</td>\n",
       "    </tr>\n",
       "    <tr>\n",
       "      <th>coil_80</th>\n",
       "      <td>138.0</td>\n",
       "      <td>75.0</td>\n",
       "    </tr>\n",
       "    <tr>\n",
       "      <th>coil_81</th>\n",
       "      <td>171.0</td>\n",
       "      <td>33.0</td>\n",
       "    </tr>\n",
       "    <tr>\n",
       "      <th>coil_82</th>\n",
       "      <td>129.0</td>\n",
       "      <td>13.0</td>\n",
       "    </tr>\n",
       "    <tr>\n",
       "      <th>coil_83</th>\n",
       "      <td>111.0</td>\n",
       "      <td>59.0</td>\n",
       "    </tr>\n",
       "  </tbody>\n",
       "</table>\n",
       "</div>"
      ],
      "text/plain": [
       "         endsec  startsec\n",
       "coil_02   125.0      89.0\n",
       "coil_03   127.0      66.0\n",
       "coil_04   108.0      83.0\n",
       "coil_06   271.0     224.0\n",
       "coil_07   171.0      49.0\n",
       "coil_08    83.0      51.0\n",
       "coil_09   228.0     221.0\n",
       "coil_12    26.0      23.0\n",
       "coil_13    89.0      21.0\n",
       "coil_17    62.0      52.0\n",
       "coil_19   314.0     227.0\n",
       "coil_20   119.0      71.0\n",
       "coil_21   112.0      81.0\n",
       "coil_27   294.0     253.0\n",
       "coil_28   149.0      94.0\n",
       "coil_29   120.0      68.0\n",
       "coil_32   280.0     225.0\n",
       "coil_34    90.0      72.0\n",
       "coil_37    88.0      66.0\n",
       "coil_38   126.0      65.0\n",
       "coil_40   111.0       8.0\n",
       "coil_43    73.0      16.0\n",
       "coil_44    88.0      77.0\n",
       "coil_50   103.0      23.0\n",
       "coil_52   109.0      90.0\n",
       "coil_53   125.0      91.0\n",
       "coil_56   208.0     177.0\n",
       "coil_62   103.0      54.0\n",
       "coil_65   196.0     101.0\n",
       "coil_66   111.0      70.0\n",
       "coil_71   303.0     141.0\n",
       "coil_72   126.0      16.0\n",
       "coil_74   135.0      84.0\n",
       "coil_78   206.0      52.0\n",
       "coil_79   140.0      79.0\n",
       "coil_80   138.0      75.0\n",
       "coil_81   171.0      33.0\n",
       "coil_82   129.0      13.0\n",
       "coil_83   111.0      59.0"
      ]
     },
     "execution_count": 39,
     "metadata": {},
     "output_type": "execute_result"
    }
   ],
   "source": [
    "df"
   ]
  },
  {
   "cell_type": "code",
   "execution_count": 3,
   "metadata": {
    "collapsed": false
   },
   "outputs": [],
   "source": [
    "a = np.zeros(5)"
   ]
  },
  {
   "cell_type": "code",
   "execution_count": 4,
   "metadata": {
    "collapsed": false
   },
   "outputs": [
    {
     "data": {
      "text/plain": [
       "array([ 0.,  0.,  0.,  0.,  0.])"
      ]
     },
     "execution_count": 4,
     "metadata": {},
     "output_type": "execute_result"
    }
   ],
   "source": [
    "a"
   ]
  },
  {
   "cell_type": "code",
   "execution_count": 5,
   "metadata": {
    "collapsed": false
   },
   "outputs": [
    {
     "data": {
      "text/plain": [
       "array([ 0.,  0.,  0.,  0.,  0.])"
      ]
     },
     "execution_count": 5,
     "metadata": {},
     "output_type": "execute_result"
    }
   ],
   "source": [
    "np.zeros_like(a)"
   ]
  },
  {
   "cell_type": "code",
   "execution_count": 19,
   "metadata": {
    "collapsed": false
   },
   "outputs": [
    {
     "data": {
      "text/plain": [
       "array([False, False,  True,  True,  True,  True,  True,  True,  True,\n",
       "        True, False, False], dtype=bool)"
      ]
     },
     "execution_count": 19,
     "metadata": {},
     "output_type": "execute_result"
    }
   ],
   "source": [
    "marker(1, 12, [2,5], [7,10])"
   ]
  },
  {
   "cell_type": "code",
   "execution_count": 22,
   "metadata": {
    "collapsed": false
   },
   "outputs": [
    {
     "data": {
      "text/plain": [
       "[<matplotlib.lines.Line2D at 0x1095702d0>]"
      ]
     },
     "execution_count": 22,
     "metadata": {},
     "output_type": "execute_result"
    },
    {
     "data": {
      "image/png": "[encoded data removed]",
      "text/plain": [
       "<matplotlib.figure.Figure at 0x108d69250>"
      ]
     },
     "metadata": {},
     "output_type": "display_data"
    }
   ],
   "source": [
    "%matplotlib inline\n",
    "plt.plot(marker(1, 12, [2,7], [5,10]))"
   ]
  },
  {
   "cell_type": "code",
   "execution_count": null,
   "metadata": {
    "collapsed": true
   },
   "outputs": [],
   "source": []
  }
 ],
 "metadata": {
  "kernelspec": {
   "display_name": "Python 2",
   "language": "python",
   "name": "python2"
  },
  "language_info": {
   "codemirror_mode": {
    "name": "ipython",
    "version": 2
   },
   "file_extension": ".py",
   "mimetype": "text/x-python",
   "name": "python",
   "nbconvert_exporter": "python",
   "pygments_lexer": "ipython2",
   "version": "2.7.12"
  }
 },
 "nbformat": 4,
 "nbformat_minor": 1
}
