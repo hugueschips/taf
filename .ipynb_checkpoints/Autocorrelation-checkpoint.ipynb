{
 "cells": [
  {
   "cell_type": "code",
   "execution_count": 1,
   "metadata": {
    "collapsed": false
   },
   "outputs": [],
   "source": [
    "import numpy as np\n",
    "import pandas as pd\n",
    "import scipy\n",
    "import matplotlib.pyplot as plt\n",
    "import preprocessing as pp\n",
    "import manage_data as md\n",
    "%matplotlib osx\n",
    "plt.ion()\n"
   ]
  },
  {
   "cell_type": "code",
   "execution_count": 2,
   "metadata": {
    "collapsed": false
   },
   "outputs": [],
   "source": [
    "dfi = md.import_dfi()\n",
    "df = md.import_data(28)\n",
    "fs = 10000\n",
    "signal = df['micro']\n",
    "rms = pp.fast_rms(signal)"
   ]
  },
  {
   "cell_type": "code",
   "execution_count": 3,
   "metadata": {
    "collapsed": false
   },
   "outputs": [],
   "source": [
    "a, b = 100, 200\n",
    "signal = signal[a*fs: b*fs]\n",
    "rms = rms[a*fs: b*fs]"
   ]
  },
  {
   "cell_type": "markdown",
   "metadata": {
    "collapsed": false
   },
   "source": [
    "import math\n",
    "import random\n",
    "import matplotlib.pyplot as plt\n",
    "import numpy as np\n",
    "%matplotlib inline\n",
    "\n",
    "def signal(t):\n",
    "    return math.sin(2*math.pi*t)+0.5*math.sin(4*math.pi*t)+0.3*random.gauss(0,0.8)\n",
    "Ns = 4000\n",
    "T = 50.0\n",
    "dt = T/Ns\n",
    "t = np.zeros(Ns)\n",
    "x = np.zeros(Ns)\n",
    "for k in range(Ns):\n",
    "    t[k] = k*dt\n",
    "    x[k] = signal(t[k])\n",
    "plt.figure(figsize=(12,4))\n",
    "plt.plot(t,x)\n",
    "plt.xlabel('t')\n",
    "plt.ylabel('x')\n",
    "plt.grid()"
   ]
  },
  {
   "cell_type": "code",
   "execution_count": 4,
   "metadata": {
    "collapsed": true
   },
   "outputs": [],
   "source": [
    "import processing as pc"
   ]
  },
  {
   "cell_type": "code",
   "execution_count": 5,
   "metadata": {
    "collapsed": false
   },
   "outputs": [
    {
     "data": {
      "text/plain": [
       "1000000"
      ]
     },
     "execution_count": 5,
     "metadata": {},
     "output_type": "execute_result"
    }
   ],
   "source": [
    "len(signal)"
   ]
  },
  {
   "cell_type": "code",
   "execution_count": 6,
   "metadata": {
    "collapsed": true
   },
   "outputs": [],
   "source": [
    "import pyeemd\n",
    "import scipy.signal"
   ]
  },
  {
   "cell_type": "code",
   "execution_count": 7,
   "metadata": {
    "collapsed": false
   },
   "outputs": [],
   "source": [
    "emd = pyeemd.emd(signal/rms, num_imfs=1)"
   ]
  },
  {
   "cell_type": "code",
   "execution_count": 8,
   "metadata": {
    "collapsed": false
   },
   "outputs": [
    {
     "data": {
      "text/plain": [
       "1"
      ]
     },
     "execution_count": 8,
     "metadata": {},
     "output_type": "execute_result"
    }
   ],
   "source": [
    "emd.shape\n",
    "len(emd)"
   ]
  },
  {
   "cell_type": "code",
   "execution_count": 9,
   "metadata": {
    "collapsed": false
   },
   "outputs": [
    {
     "data": {
      "text/plain": [
       "(1000000,)"
      ]
     },
     "execution_count": 9,
     "metadata": {},
     "output_type": "execute_result"
    }
   ],
   "source": [
    "signal.shape"
   ]
  },
  {
   "cell_type": "code",
   "execution_count": 10,
   "metadata": {
    "collapsed": false
   },
   "outputs": [],
   "source": [
    "emd.shape = signal.shape"
   ]
  },
  {
   "cell_type": "code",
   "execution_count": 11,
   "metadata": {
    "collapsed": true
   },
   "outputs": [],
   "source": [
    "hht = scipy.signal.hilbert(emd)"
   ]
  },
  {
   "cell_type": "code",
   "execution_count": 12,
   "metadata": {
    "collapsed": true
   },
   "outputs": [],
   "source": [
    "amp0 = np.abs(hht)"
   ]
  },
  {
   "cell_type": "code",
   "execution_count": 13,
   "metadata": {
    "collapsed": false
   },
   "outputs": [
    {
     "name": "stdout",
     "output_type": "stream",
     "text": [
      "10000 0 40000 40000\n",
      "50000 40000 80000 40000\n",
      "90000 80000 120000 40000\n",
      "130000 120000 160000 40000\n",
      "170000 160000 200000 40000\n",
      "210000 200000 240000 40000\n",
      "250000 240000 280000 40000\n",
      "290000 280000 320000 40000\n",
      "330000 320000 360000 40000\n",
      "370000 360000 400000 40000\n",
      "410000 400000 440000 40000\n",
      "450000 440000 480000 40000\n",
      "490000 480000 520000 40000\n",
      "530000 520000 560000 40000\n",
      "570000 560000 600000 40000\n",
      "610000 600000 640000 40000\n",
      "650000 640000 680000 40000\n",
      "690000 680000 720000 40000\n",
      "730000 720000 760000 40000\n",
      "770000 760000 800000 40000\n",
      "810000 800000 840000 40000\n",
      "850000 840000 880000 40000\n",
      "890000 880000 920000 40000\n",
      "930000 920000 960000 40000\n"
     ]
    }
   ],
   "source": [
    "t, corr = pc.rolling_correlation_convolution(amp0, fs, beginning=a)"
   ]
  },
  {
   "cell_type": "code",
   "execution_count": 14,
   "metadata": {
    "collapsed": false
   },
   "outputs": [
    {
     "data": {
      "text/plain": [
       "[<matplotlib.lines.Line2D at 0x11f74eb90>]"
      ]
     },
     "execution_count": 14,
     "metadata": {},
     "output_type": "execute_result"
    }
   ],
   "source": [
    "plt.figure()\n",
    "plt.plot(t, corr)"
   ]
  },
  {
   "cell_type": "code",
   "execution_count": 15,
   "metadata": {
    "collapsed": false
   },
   "outputs": [
    {
     "data": {
      "text/plain": [
       "599928"
      ]
     },
     "execution_count": 15,
     "metadata": {},
     "output_type": "execute_result"
    }
   ],
   "source": [
    "len(corr)"
   ]
  },
  {
   "cell_type": "code",
   "execution_count": 16,
   "metadata": {
    "collapsed": false
   },
   "outputs": [],
   "source": [
    "fft = np.fft.fft(corr)\n",
    "freq = np.fft.fftfreq(len(corr), 1./fs)"
   ]
  },
  {
   "cell_type": "code",
   "execution_count": 17,
   "metadata": {
    "collapsed": false
   },
   "outputs": [],
   "source": [
    "fft.shape\n",
    "dt = 1./fs"
   ]
  },
  {
   "cell_type": "code",
   "execution_count": 18,
   "metadata": {
    "collapsed": false
   },
   "outputs": [
    {
     "data": {
      "text/plain": [
       "[<matplotlib.lines.Line2D at 0x1210ae0d0>]"
      ]
     },
     "execution_count": 18,
     "metadata": {},
     "output_type": "execute_result"
    }
   ],
   "source": [
    "nTot = fft.shape[0]\n",
    "nPoints_to_2Hz = int(nTot*dt*2)\n",
    "nPoints_to_10Hz = int(nTot*dt*10)\n",
    "idx = np.arange(nPoints_to_2Hz,nPoints_to_10Hz)\n",
    "plt.figure()\n",
    "plt.plot(freq[idx], np.abs(fft[idx]))"
   ]
  },
  {
   "cell_type": "code",
   "execution_count": null,
   "metadata": {
    "collapsed": true
   },
   "outputs": [],
   "source": []
  }
 ],
 "metadata": {
  "kernelspec": {
   "display_name": "Python 2",
   "language": "python",
   "name": "python2"
  },
  "language_info": {
   "codemirror_mode": {
    "name": "ipython",
    "version": 2
   },
   "file_extension": ".py",
   "mimetype": "text/x-python",
   "name": "python",
   "nbconvert_exporter": "python",
   "pygments_lexer": "ipython2",
   "version": "2.7.12"
  }
 },
 "nbformat": 4,
 "nbformat_minor": 1
}
