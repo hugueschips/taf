{
 "cells": [
  {
   "cell_type": "code",
   "execution_count": 1,
   "metadata": {
    "collapsed": true
   },
   "outputs": [],
   "source": [
    "import pyeemd\n",
    "import utils\n",
    "import time\n",
    "import numpy as np\n",
    "import scipy\n",
    "import matplotlib.pyplot as plt\n",
    "import manage_data as md\n",
    "import preprocessing as pp\n",
    "import processing as pc"
   ]
  },
  {
   "cell_type": "code",
   "execution_count": 2,
   "metadata": {
    "collapsed": true
   },
   "outputs": [],
   "source": [
    "coil=28\n",
    "cropTime=None #[60, 180]\n",
    "normalize=True\n",
    "num_imfs=3\n",
    "graphics=False\n",
    "filename='peaks_new.h5'"
   ]
  },
  {
   "cell_type": "code",
   "execution_count": null,
   "metadata": {
    "collapsed": false
   },
   "outputs": [
    {
     "name": "stdout",
     "output_type": "stream",
     "text": [
      "...import coil 28 from hdf...\n",
      "...coil is sticking from 94.0 to 149.0s...\n",
      "...normalize signal in tour space...\n",
      "          ...1300000 points...\n",
      "...perform EMD...\n"
     ]
    }
   ],
   "source": [
    "############################# IMPORT COIL #################################\n",
    "print('...import coil '+str(coil)+' from hdf...')\n",
    "dfi = md.import_dfi()\n",
    "df = md.import_data(coil=coil)\n",
    "t, signal, speed, decoiler, coiler = md.dfToArrays(df)\n",
    "a, b, n, dt, fs = md.xInfo(t)\n",
    "#print('          ...'+str(n)+' points...')\n",
    "\n",
    "############################# ABOUT COIL ##################################\n",
    "thickness = dfi.thickness[coil]\n",
    "sticking = dfi.sticking[coil]\n",
    "duration = dfi.duration[coil]-5\n",
    "if sticking:\n",
    "    sti, sei = dfi.t_begin[coil], dfi.t_end[coil]\n",
    "    cropTime = [int(sti*0.9), min(sti+120., duration)]\n",
    "    print('...coil is sticking from '+str(sti)+' to '+str(sei)+'s...')\n",
    "    stick = ' sticking in ['+str(sti)+','+str(sei)+']'\n",
    "else:\n",
    "    #print('...no marks have been detected on this coil...')\n",
    "    stick = ' not sticking'\n",
    "metadata = 'Coil '+str(coil)+stick\n",
    "\n",
    "############################# DIVIDE BY RMS ###############################\n",
    "#print('...divide signal by RMS on a 5s window...')\n",
    "signal /= pp.fast_rms(signal)\n",
    "\n",
    "############################# CROP TIME ZONE ##############################\n",
    "beginning = 0 # used for autocorrelation xaxis\n",
    "if cropTime is not None:\n",
    "    i0, iN = int(fs*cropTime[0]), int(fs*cropTime[1])\n",
    "    beginning = cropTime[0]  # used for autocorrelation xaxis\n",
    "    #print('...crop between '+str(cropTime)+'s...')\n",
    "    t, signal, speed, decoiler, coiler = md.dfToArrays(df, i0, iN)\n",
    "    a, b, n, dt, fs = md.xInfo(t)\n",
    "    metadata += ' cropped on '+str(cropTime)\n",
    "    #print('          ...'+str(n)+' points...')\n",
    "\n",
    "############################# NORMALIZE IN TOUR SPACE #####################\n",
    "if normalize:\n",
    "    print('...normalize signal in tour space...')\n",
    "    thickness = dfi.thickness[coil]\n",
    "    a, b, fnorm = pp.angular_normalisation(signal, decoiler, thickness)\n",
    "    t = np.linspace(a, b, n)\n",
    "    signal = fnorm(t)\n",
    "    a, b, n, dt, fs = md.xInfo(t, normalize)\n",
    "    print('          ...'+str(n)+' points...')\n",
    "\n",
    "############################# PERFORM EMD #################################\n",
    "print('...perform EMD...')\n",
    "startTime = time.time()\n",
    "mode = pyeemd.emd(signal, num_imfs=num_imfs, num_siftings=None)\n",
    "elapsedTime = np.round(time.time()-startTime, 1)\n",
    "print('          ...in '+str(elapsedTime)+'s... ')\n",
    "\n",
    "############################# PERFORM HHT+ABS #############################\n",
    "print('...perform HHT...')\n",
    "startTime = time.time()\n",
    "hht = scipy.signal.hilbert(mode)\n",
    "imf = np.abs(hht)\n",
    "elapsedTime = np.round(time.time()-startTime, 1)\n",
    "print('          ...in '+str(elapsedTime)+'s... ')"
   ]
  },
  {
   "cell_type": "code",
   "execution_count": null,
   "metadata": {
    "collapsed": false
   },
   "outputs": [],
   "source": [
    "10000./fs"
   ]
  },
  {
   "cell_type": "code",
   "execution_count": null,
   "metadata": {
    "collapsed": true
   },
   "outputs": [],
   "source": [
    "def rolling_correlation_convolution(signal, fs, beginning=0):\n",
    "    '''\n",
    "    signal is the array of amplitude of HHT of the chosen IMF\n",
    "    window is the size of the window in seconds or tours\n",
    "    returns two lists of lists\n",
    "        one list of time index per time window\n",
    "        one list of correlation per time window\n",
    "    you can plot them with a for loop on zip(t, corr)\n",
    "    '''\n",
    "    n = signal.shape[-1]\n",
    "    dt = 1./fs\n",
    "    window = int(1*fs)\n",
    "    t = []\n",
    "    corr = []\n",
    "    time_ref = 1*fs        # tour_ref if normalized in m\n",
    "    seconds_before = 0  # tour_before if normalized in m\n",
    "    seconds_after = 25   # tour_after if normalized in m\n",
    "    while time_ref + seconds_after*fs < n:\n",
    "        start, end = window_idx(time_ref, seconds_before, seconds_after, fs)\n",
    "        signal_slice = signal[start:end]\n",
    "        #print time_ref, start, end, len(signal_slice)\n",
    "        cr = localAutoCorrelate(signal_slice, window)\n",
    "        t.append(list(beginning + np.linspace(start*dt, end*dt, len(cr))))\n",
    "        corr.append(list(cr))\n",
    "        time_ref += (seconds_before + seconds_after) * fs\n",
    "    return t, corr"
   ]
  },
  {
   "cell_type": "code",
   "execution_count": null,
   "metadata": {
    "collapsed": false
   },
   "outputs": [],
   "source": [
    "############################# AUTOCORRELATION #############################\n",
    "print('...perform autocorrelation...')\n",
    "startTime = time.time()\n",
    "nimf = imf.shape[0]\n",
    "corr_imf = []\n",
    "for i in range(nimf):\n",
    "    #print('          ...on IMF '+str(i)+'...')\n",
    "    signal = imf[i,:]\n",
    "    t, corr = pc.rolling_correlation_convolution(\n",
    "                                                signal,\n",
    "                                                fs,\n",
    "                                                beginning=beginning\n",
    "                                                )\n",
    "    corr_imf.append(corr)\n",
    "if nimf!=len(corr_imf):\n",
    "    print('OH OH, y a comme un souci !')\n",
    "elapsedTime = np.round(time.time()-startTime, 1)\n",
    "print('          ...in '+str(elapsedTime)+'s... ')"
   ]
  },
  {
   "cell_type": "code",
   "execution_count": null,
   "metadata": {
    "collapsed": false
   },
   "outputs": [],
   "source": []
  },
  {
   "cell_type": "code",
   "execution_count": null,
   "metadata": {
    "collapsed": true
   },
   "outputs": [],
   "source": []
  }
 ],
 "metadata": {
  "kernelspec": {
   "display_name": "Python 2",
   "language": "python",
   "name": "python2"
  },
  "language_info": {
   "codemirror_mode": {
    "name": "ipython",
    "version": 2
   },
   "file_extension": ".py",
   "mimetype": "text/x-python",
   "name": "python",
   "nbconvert_exporter": "python",
   "pygments_lexer": "ipython2",
   "version": "2.7.12"
  }
 },
 "nbformat": 4,
 "nbformat_minor": 1
}
