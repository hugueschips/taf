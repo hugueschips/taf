{
 "cells": [
  {
   "cell_type": "code",
   "execution_count": 1,
   "metadata": {
    "collapsed": false
   },
   "outputs": [],
   "source": [
    "import random\n",
    "import numpy as np\n",
    "import pandas as pd\n",
    "import manage_data as md\n",
    "import preprocessing as pp\n",
    "%matplotlib inline\n",
    "import matplotlib.pyplot as plt\n",
    "from sklearn import tree\n",
    "from sklearn import metrics"
   ]
  },
  {
   "cell_type": "code",
   "execution_count": 143,
   "metadata": {
    "collapsed": false
   },
   "outputs": [],
   "source": [
    "def plot_confusion_matrix(cm, title='Confusion matrix', cmap=plt.cm.Blues, filename='cm'):\n",
    "    plt.figure(figsize=(8,8))\n",
    "    plt.imshow(cm, interpolation='nearest', cmap=cmap)\n",
    "    plt.title(title, fontsize=20, fontstyle='oblique')\n",
    "    #plt.colorbar()\n",
    "    ax = plt.subplot()\n",
    "    tick_marks = np.arange(2)\n",
    "    labels = ['Sticking', 'Fine']\n",
    "    plt.xticks(tick_marks, labels, rotation=45, fontsize=20)\n",
    "    plt.yticks(tick_marks, labels, fontsize=20)\n",
    "    plt.tight_layout()\n",
    "    plt.ylabel('True label', fontsize=20)\n",
    "    plt.xlabel('Predicted label', fontsize=20)\n",
    "    width, height = cm.shape\n",
    "    for x in xrange(width):\n",
    "        xx = np.round(x, 2)\n",
    "        for y in xrange(height):\n",
    "            yy = np.round(y, 2)\n",
    "            valeur = str(int(np.round(100 * cm[x][y],0)))+'%'\n",
    "            ax.annotate(valeur, xy=(y, x), \n",
    "                        horizontalalignment='center',\n",
    "                        verticalalignment='center',\n",
    "                        size=30)\n",
    "    plt.savefig('./images/cm_one/' + filename + '.png')\n",
    "    #plt.text(0.1, 0.1,'Caption')\n",
    "\n",
    "def concat_df(coil_list, filename='peaks.h5'):\n",
    "    big_df = md.importPeak(coil_list[0], filename).dropna()\n",
    "    for coil in coil_list[1:]:\n",
    "        df = md.importPeak(coil, filename).dropna()\n",
    "        big_df = pd.concat([big_df, df], ignore_index=True)\n",
    "    return big_df\n",
    "\n",
    "def create_DB(df):\n",
    "    feature_col = ['Ximf0', 'Ximf1', 'Ximf2', 'Yimf0', 'Yimf1', 'Yimf2', 'thickness', 'speed']\n",
    "    X = df[feature_col].values\n",
    "    Y = df[['sticking']]\n",
    "    Y = np.array(Y.sticking.values[:], dtype=bool)\n",
    "    return X, Y\n",
    "\n",
    "def random_sample(coil_list):\n",
    "    df = concat_df(coil_list)\n",
    "    sticking_index = list(df[df.sticking==True].index)\n",
    "    non_sticking_index = list(df[df.sticking==False].index)\n",
    "    group_of_items = non_sticking_index               # a sequence or set will work here.\n",
    "    num_to_select = len(df[df.sticking==True])        # set the number to select here.\n",
    "    list_of_random_items = random.sample(group_of_items, num_to_select)\n",
    "    list_of_random_items\n",
    "    ind = sticking_index+list_of_random_items\n",
    "    return df.loc[ind]\n",
    "\n",
    "def random_coils_selection(coil_list, ratio=0.5):\n",
    "    aux  = list(coil_list)\n",
    "    random.shuffle(aux)\n",
    "    n = int(ratio * len(aux))+1\n",
    "    return aux[:n], aux[n:]\n",
    "\n",
    "def result_per_coil(coil_list, estimator):\n",
    "    sum_true = []\n",
    "    sum_predict = []\n",
    "    for coil in coil_list:\n",
    "        df_test = concat_df([coil])\n",
    "        X_test, Y_true = create_DB(df_test)\n",
    "        Y_predict = estimator.predict(X_test)\n",
    "        sum_true.append(sum(Y_true))\n",
    "        sum_predict.append(sum(Y_predict))\n",
    "    d = {'truth':sum_true, 'prediction':sum_predict}\n",
    "    result = pd.DataFrame(d, index=coil_list)\n",
    "    return result, np.array(sum_true), np.array(sum_predict)\n",
    "\n",
    "def sticking_coils_finder(coil_list):\n",
    "    sum_true = []\n",
    "    coils = []\n",
    "    for coil in coil_list:\n",
    "        df_test = concat_df([coil])\n",
    "        X_test, Y_true = create_DB(df_test)\n",
    "        sum_true.append(sum(Y_true))\n",
    "    for coil, sumtrue in zip(coil_list, sum_true):\n",
    "        if sumtrue>0:\n",
    "            coils.append(coil)\n",
    "    fine_coils = sorted(list(set(coil_list) - set(coils)))\n",
    "    return sorted(coils), sorted(fine_coils)\n",
    "\n",
    "def df_compare(df=df):\n",
    "    print('     COLLANT            NON COLLANT  ')\n",
    "    print(' ')\n",
    "    \n",
    "    print('Fréquence moyenne du pic')\n",
    "    for i in range(3):\n",
    "        print(df.iloc[:,i][df.sticking==1].mean(), df.iloc[:,i][df.sticking==0].mean())\n",
    "    print(' ')\n",
    "    \n",
    "    print('Ecart type')\n",
    "    for i in range(3):\n",
    "        print(df.iloc[:,i][df.sticking==1].std(), df.iloc[:,i][df.sticking==0].std())\n",
    "    print(' ')\n",
    "    \n",
    "    print('Amplitude moyenne du pic')\n",
    "    for i in range(3,6):\n",
    "        print(df.iloc[:,i][df.sticking==1].mean(), df.iloc[:,i][df.sticking==0].mean())\n",
    "    print(' ')\n",
    "    \n",
    "    print('Ecart type')\n",
    "    for i in range(3,6):\n",
    "        print(df.iloc[:,i][df.sticking==1].std(), df.iloc[:,i][df.sticking==0].std())\n",
    "    print(' ')\n",
    "    \n",
    "    print('Vitesse')\n",
    "    i = 7\n",
    "    print(df.iloc[:,i][df.sticking==1].mean(), df.iloc[:,i][df.sticking==0].mean())\n",
    "    print(df.iloc[:,i][df.sticking==1].std(), df.iloc[:,i][df.sticking==0].std())\n",
    "    print(' ')\n",
    "    \n",
    "    print('Epaisseur')\n",
    "    i = 9\n",
    "    print(df.iloc[:,i][df.sticking==1].mean(), df.iloc[:,i][df.sticking==0].mean())\n",
    "    print(df.iloc[:,i][df.sticking==1].std(), df.iloc[:,i][df.sticking==0].std())\n",
    "    return"
   ]
  },
  {
   "cell_type": "markdown",
   "metadata": {},
   "source": [
    "# About DB"
   ]
  },
  {
   "cell_type": "code",
   "execution_count": 151,
   "metadata": {
    "collapsed": false
   },
   "outputs": [
    {
     "data": {
      "text/html": [
       "<div>\n",
       "<table border=\"1\" class=\"dataframe\">\n",
       "  <thead>\n",
       "    <tr style=\"text-align: right;\">\n",
       "      <th></th>\n",
       "      <th>Ximf0</th>\n",
       "      <th>Ximf1</th>\n",
       "      <th>Ximf2</th>\n",
       "      <th>Yimf0</th>\n",
       "      <th>Yimf1</th>\n",
       "      <th>Yimf2</th>\n",
       "      <th>coil</th>\n",
       "      <th>speed</th>\n",
       "      <th>sticking</th>\n",
       "      <th>thickness</th>\n",
       "      <th>time_begin</th>\n",
       "      <th>time_end</th>\n",
       "    </tr>\n",
       "  </thead>\n",
       "  <tbody>\n",
       "    <tr>\n",
       "      <th>0</th>\n",
       "      <td>1.283685</td>\n",
       "      <td>6.097503</td>\n",
       "      <td>0.962764</td>\n",
       "      <td>24.797989</td>\n",
       "      <td>6.12363</td>\n",
       "      <td>3.701913</td>\n",
       "      <td>0</td>\n",
       "      <td>697.881497</td>\n",
       "      <td>False</td>\n",
       "      <td>0.6</td>\n",
       "      <td>61.0</td>\n",
       "      <td>62.0</td>\n",
       "    </tr>\n",
       "  </tbody>\n",
       "</table>\n",
       "</div>"
      ],
      "text/plain": [
       "      Ximf0     Ximf1     Ximf2      Yimf0    Yimf1     Yimf2  coil  \\\n",
       "0  1.283685  6.097503  0.962764  24.797989  6.12363  3.701913     0   \n",
       "\n",
       "        speed sticking  thickness  time_begin  time_end  \n",
       "0  697.881497    False        0.6        61.0      62.0  "
      ]
     },
     "execution_count": 151,
     "metadata": {},
     "output_type": "execute_result"
    }
   ],
   "source": [
    "#peakDB = 'peaks_1s_1_20Hz.h5'\n",
    "peakDB = 'peaks_1s_1_100Hz.h5'\n",
    "#peakDb = 'peaks_1s_2_6Hz.h5'\n",
    "peakDb = 'peaks_0.25t_16_200.h5'\n",
    "#peakDB = 'peaks.h5'\n",
    "all_coils = list( set(range(88)) - set([49, 31]) )\n",
    "df = concat_df(all_coils, peakDB)\n",
    "k = 1027\n",
    "df.head(1)"
   ]
  },
  {
   "cell_type": "markdown",
   "metadata": {},
   "source": [
    "# Statistics"
   ]
  },
  {
   "cell_type": "markdown",
   "metadata": {},
   "source": [
    "## Sans normalisation"
   ]
  },
  {
   "cell_type": "code",
   "execution_count": 147,
   "metadata": {
    "collapsed": false
   },
   "outputs": [
    {
     "name": "stdout",
     "output_type": "stream",
     "text": [
      "     COLLANT            NON COLLANT  \n",
      " \n",
      "Fréquence moyenne du pic\n",
      "(18.833744588582061, 16.273223929852943)\n",
      "(23.537472666091563, 25.213059889125326)\n",
      "(22.014424688119526, 25.439759624925731)\n",
      " \n",
      "Ecart type\n",
      "(25.160367660781922, 22.978675420675572)\n",
      "(28.384086244110296, 28.174745066633871)\n",
      "(27.699922237876009, 28.467917263184447)\n",
      " \n",
      "Amplitude moyenne du pic\n",
      "(6.8267701909455525, 7.4534204463463691)\n",
      "(7.0544199737749453, 4.1889993957405895)\n",
      "(8.5705320160956902, 3.540900698567548)\n",
      " \n",
      "Ecart type\n",
      "(11.533437502515227, 15.782628498109318)\n",
      "(11.092538296421248, 7.6679442034126071)\n",
      "(13.954412452214806, 5.9219791982112397)\n",
      " \n",
      "Vitesse\n",
      "(852.60887498034469, 917.30464788796996)\n",
      "(379.81345103853556, 371.27490305180493)\n",
      " \n",
      "Epaisseur\n",
      "(0.84643250688705229, 0.88865059930403401)\n",
      "(0.2881564966292019, 0.40298713382719098)\n"
     ]
    }
   ],
   "source": [
    "peakDB = 'peaks_1s_1_100Hz.h5'\n",
    "df = concat_df(all_coils, peakDB)\n",
    "df_compare()"
   ]
  },
  {
   "cell_type": "markdown",
   "metadata": {},
   "source": [
    "## Avec normalisation"
   ]
  },
  {
   "cell_type": "code",
   "execution_count": 149,
   "metadata": {
    "collapsed": false
   },
   "outputs": [
    {
     "name": "stdout",
     "output_type": "stream",
     "text": [
      "     COLLANT            NON COLLANT  \n",
      " \n",
      "Fréquence moyenne du pic\n",
      "(18.833744588582061, 16.273223929852943)\n",
      "(23.537472666091563, 25.213059889125326)\n",
      "(22.014424688119526, 25.439759624925731)\n",
      " \n",
      "Ecart type\n",
      "(25.160367660781922, 22.978675420675572)\n",
      "(28.384086244110296, 28.174745066633871)\n",
      "(27.699922237876009, 28.467917263184447)\n",
      " \n",
      "Amplitude moyenne du pic\n",
      "(6.8267701909455525, 7.4534204463463691)\n",
      "(7.0544199737749453, 4.1889993957405895)\n",
      "(8.5705320160956902, 3.540900698567548)\n",
      " \n",
      "Ecart type\n",
      "(11.533437502515227, 15.782628498109318)\n",
      "(11.092538296421248, 7.6679442034126071)\n",
      "(13.954412452214806, 5.9219791982112397)\n",
      " \n",
      "Vitesse\n",
      "(852.60887498034469, 917.30464788796996)\n",
      "(379.81345103853556, 371.27490305180493)\n",
      " \n",
      "Epaisseur\n",
      "(0.84643250688705229, 0.88865059930403401)\n",
      "(0.2881564966292019, 0.40298713382719098)\n"
     ]
    }
   ],
   "source": [
    "peakDb = 'peaks_0.25t_16_200.h5'\n",
    "df = concat_df(all_coils, peakDB)\n",
    "df_compare()"
   ]
  },
  {
   "cell_type": "code",
   "execution_count": null,
   "metadata": {
    "collapsed": true
   },
   "outputs": [],
   "source": []
  }
 ],
 "metadata": {
  "kernelspec": {
   "display_name": "Python 2",
   "language": "python",
   "name": "python2"
  },
  "language_info": {
   "codemirror_mode": {
    "name": "ipython",
    "version": 2
   },
   "file_extension": ".py",
   "mimetype": "text/x-python",
   "name": "python",
   "nbconvert_exporter": "python",
   "pygments_lexer": "ipython2",
   "version": "2.7.12"
  }
 },
 "nbformat": 4,
 "nbformat_minor": 1
}
