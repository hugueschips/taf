{
 "cells": [
  {
   "cell_type": "code",
   "execution_count": 160,
   "metadata": {
    "collapsed": false
   },
   "outputs": [],
   "source": [
    "import numpy as np\n",
    "import pandas as pd\n",
    "import manage_data as md\n",
    "import managePeakData as mpd\n",
    "import preprocessing as pp\n",
    "%matplotlib inline\n",
    "import matplotlib.pyplot as plt"
   ]
  },
  {
   "cell_type": "code",
   "execution_count": 185,
   "metadata": {
    "collapsed": false
   },
   "outputs": [
    {
     "data": {
      "text/html": [
       "<div>\n",
       "<table border=\"1\" class=\"dataframe\">\n",
       "  <thead>\n",
       "    <tr style=\"text-align: right;\">\n",
       "      <th></th>\n",
       "      <th>Ximf0</th>\n",
       "      <th>Ximf1</th>\n",
       "      <th>Ximf2</th>\n",
       "      <th>Yimf0</th>\n",
       "      <th>Yimf1</th>\n",
       "      <th>Yimf2</th>\n",
       "      <th>coil</th>\n",
       "      <th>speed</th>\n",
       "      <th>sticking</th>\n",
       "      <th>thickness</th>\n",
       "      <th>time_begin</th>\n",
       "      <th>time_end</th>\n",
       "    </tr>\n",
       "  </thead>\n",
       "  <tbody>\n",
       "    <tr>\n",
       "      <th>1</th>\n",
       "      <td>4.400528</td>\n",
       "      <td>1.600192</td>\n",
       "      <td>8.801056</td>\n",
       "      <td>0.446990</td>\n",
       "      <td>0.702474</td>\n",
       "      <td>5.781401</td>\n",
       "      <td>0</td>\n",
       "      <td>327.900078</td>\n",
       "      <td>False</td>\n",
       "      <td>0.6</td>\n",
       "      <td>44.0</td>\n",
       "      <td>48.0</td>\n",
       "    </tr>\n",
       "    <tr>\n",
       "      <th>2</th>\n",
       "      <td>1.600192</td>\n",
       "      <td>1.600192</td>\n",
       "      <td>2.400288</td>\n",
       "      <td>88.817135</td>\n",
       "      <td>51.680669</td>\n",
       "      <td>7.605022</td>\n",
       "      <td>0</td>\n",
       "      <td>423.693424</td>\n",
       "      <td>False</td>\n",
       "      <td>0.6</td>\n",
       "      <td>48.0</td>\n",
       "      <td>52.0</td>\n",
       "    </tr>\n",
       "    <tr>\n",
       "      <th>3</th>\n",
       "      <td>1.600192</td>\n",
       "      <td>1.600192</td>\n",
       "      <td>1.600192</td>\n",
       "      <td>50.001003</td>\n",
       "      <td>28.935046</td>\n",
       "      <td>7.862783</td>\n",
       "      <td>0</td>\n",
       "      <td>519.708125</td>\n",
       "      <td>False</td>\n",
       "      <td>0.6</td>\n",
       "      <td>52.0</td>\n",
       "      <td>56.0</td>\n",
       "    </tr>\n",
       "    <tr>\n",
       "      <th>4</th>\n",
       "      <td>1.600192</td>\n",
       "      <td>1.600192</td>\n",
       "      <td>1.600192</td>\n",
       "      <td>132.550460</td>\n",
       "      <td>52.163132</td>\n",
       "      <td>12.675572</td>\n",
       "      <td>0</td>\n",
       "      <td>614.829296</td>\n",
       "      <td>False</td>\n",
       "      <td>0.6</td>\n",
       "      <td>56.0</td>\n",
       "      <td>60.0</td>\n",
       "    </tr>\n",
       "    <tr>\n",
       "      <th>5</th>\n",
       "      <td>4.800576</td>\n",
       "      <td>4.000480</td>\n",
       "      <td>5.600672</td>\n",
       "      <td>19.949598</td>\n",
       "      <td>6.861097</td>\n",
       "      <td>3.612768</td>\n",
       "      <td>0</td>\n",
       "      <td>710.186884</td>\n",
       "      <td>False</td>\n",
       "      <td>0.6</td>\n",
       "      <td>60.0</td>\n",
       "      <td>64.0</td>\n",
       "    </tr>\n",
       "  </tbody>\n",
       "</table>\n",
       "</div>"
      ],
      "text/plain": [
       "      Ximf0     Ximf1     Ximf2       Yimf0      Yimf1      Yimf2  coil  \\\n",
       "1  4.400528  1.600192  8.801056    0.446990   0.702474   5.781401     0   \n",
       "2  1.600192  1.600192  2.400288   88.817135  51.680669   7.605022     0   \n",
       "3  1.600192  1.600192  1.600192   50.001003  28.935046   7.862783     0   \n",
       "4  1.600192  1.600192  1.600192  132.550460  52.163132  12.675572     0   \n",
       "5  4.800576  4.000480  5.600672   19.949598   6.861097   3.612768     0   \n",
       "\n",
       "        speed sticking  thickness  time_begin  time_end  \n",
       "1  327.900078    False        0.6        44.0      48.0  \n",
       "2  423.693424    False        0.6        48.0      52.0  \n",
       "3  519.708125    False        0.6        52.0      56.0  \n",
       "4  614.829296    False        0.6        56.0      60.0  \n",
       "5  710.186884    False        0.6        60.0      64.0  "
      ]
     },
     "execution_count": 185,
     "metadata": {},
     "output_type": "execute_result"
    }
   ],
   "source": [
    "mpd.importPeak(0).dropna().head()"
   ]
  },
  {
   "cell_type": "code",
   "execution_count": 162,
   "metadata": {
    "collapsed": false
   },
   "outputs": [
    {
     "data": {
      "text/html": [
       "<div>\n",
       "<table border=\"1\" class=\"dataframe\">\n",
       "  <thead>\n",
       "    <tr style=\"text-align: right;\">\n",
       "      <th></th>\n",
       "      <th>Ximf0</th>\n",
       "      <th>Ximf1</th>\n",
       "      <th>Ximf2</th>\n",
       "      <th>Yimf0</th>\n",
       "      <th>Yimf1</th>\n",
       "      <th>Yimf2</th>\n",
       "      <th>coil</th>\n",
       "      <th>speed</th>\n",
       "      <th>sticking</th>\n",
       "      <th>thickness</th>\n",
       "      <th>time_begin</th>\n",
       "      <th>time_end</th>\n",
       "    </tr>\n",
       "  </thead>\n",
       "  <tbody>\n",
       "    <tr>\n",
       "      <th>0</th>\n",
       "      <td>1.600192</td>\n",
       "      <td>1.600192</td>\n",
       "      <td>8.000960</td>\n",
       "      <td>3.681710</td>\n",
       "      <td>5.410120</td>\n",
       "      <td>10.938481</td>\n",
       "      <td>0</td>\n",
       "      <td>NaN</td>\n",
       "      <td>False</td>\n",
       "      <td>0.6</td>\n",
       "      <td>40.0</td>\n",
       "      <td>44.0</td>\n",
       "    </tr>\n",
       "    <tr>\n",
       "      <th>1</th>\n",
       "      <td>4.400528</td>\n",
       "      <td>1.600192</td>\n",
       "      <td>8.801056</td>\n",
       "      <td>0.446990</td>\n",
       "      <td>0.702474</td>\n",
       "      <td>5.781401</td>\n",
       "      <td>0</td>\n",
       "      <td>327.900078</td>\n",
       "      <td>False</td>\n",
       "      <td>0.6</td>\n",
       "      <td>44.0</td>\n",
       "      <td>48.0</td>\n",
       "    </tr>\n",
       "    <tr>\n",
       "      <th>2</th>\n",
       "      <td>1.600192</td>\n",
       "      <td>1.600192</td>\n",
       "      <td>2.400288</td>\n",
       "      <td>88.817135</td>\n",
       "      <td>51.680669</td>\n",
       "      <td>7.605022</td>\n",
       "      <td>0</td>\n",
       "      <td>423.693424</td>\n",
       "      <td>False</td>\n",
       "      <td>0.6</td>\n",
       "      <td>48.0</td>\n",
       "      <td>52.0</td>\n",
       "    </tr>\n",
       "    <tr>\n",
       "      <th>3</th>\n",
       "      <td>1.600192</td>\n",
       "      <td>1.600192</td>\n",
       "      <td>1.600192</td>\n",
       "      <td>50.001003</td>\n",
       "      <td>28.935046</td>\n",
       "      <td>7.862783</td>\n",
       "      <td>0</td>\n",
       "      <td>519.708125</td>\n",
       "      <td>False</td>\n",
       "      <td>0.6</td>\n",
       "      <td>52.0</td>\n",
       "      <td>56.0</td>\n",
       "    </tr>\n",
       "    <tr>\n",
       "      <th>4</th>\n",
       "      <td>1.600192</td>\n",
       "      <td>1.600192</td>\n",
       "      <td>1.600192</td>\n",
       "      <td>132.550460</td>\n",
       "      <td>52.163132</td>\n",
       "      <td>12.675572</td>\n",
       "      <td>0</td>\n",
       "      <td>614.829296</td>\n",
       "      <td>False</td>\n",
       "      <td>0.6</td>\n",
       "      <td>56.0</td>\n",
       "      <td>60.0</td>\n",
       "    </tr>\n",
       "  </tbody>\n",
       "</table>\n",
       "</div>"
      ],
      "text/plain": [
       "      Ximf0     Ximf1     Ximf2       Yimf0      Yimf1      Yimf2  coil  \\\n",
       "0  1.600192  1.600192  8.000960    3.681710   5.410120  10.938481     0   \n",
       "1  4.400528  1.600192  8.801056    0.446990   0.702474   5.781401     0   \n",
       "2  1.600192  1.600192  2.400288   88.817135  51.680669   7.605022     0   \n",
       "3  1.600192  1.600192  1.600192   50.001003  28.935046   7.862783     0   \n",
       "4  1.600192  1.600192  1.600192  132.550460  52.163132  12.675572     0   \n",
       "\n",
       "        speed sticking  thickness  time_begin  time_end  \n",
       "0         NaN    False        0.6        40.0      44.0  \n",
       "1  327.900078    False        0.6        44.0      48.0  \n",
       "2  423.693424    False        0.6        48.0      52.0  \n",
       "3  519.708125    False        0.6        52.0      56.0  \n",
       "4  614.829296    False        0.6        56.0      60.0  "
      ]
     },
     "execution_count": 162,
     "metadata": {},
     "output_type": "execute_result"
    }
   ],
   "source": [
    "df.head()"
   ]
  },
  {
   "cell_type": "code",
   "execution_count": 181,
   "metadata": {
    "collapsed": false
   },
   "outputs": [
    {
     "ename": "SyntaxError",
     "evalue": "invalid syntax (<ipython-input-181-dfe1811357ea>, line 1)",
     "output_type": "error",
     "traceback": [
      "\u001b[0;36m  File \u001b[0;32m\"<ipython-input-181-dfe1811357ea>\"\u001b[0;36m, line \u001b[0;32m1\u001b[0m\n\u001b[0;31m    df = df[np.isfinite(df['speed']) and col=feature_col]\u001b[0m\n\u001b[0m                                            ^\u001b[0m\n\u001b[0;31mSyntaxError\u001b[0m\u001b[0;31m:\u001b[0m invalid syntax\n"
     ]
    }
   ],
   "source": [
    "df = df[np.isfinite(df['speed']) and col=feature_col]\n",
    "df.head()"
   ]
  },
  {
   "cell_type": "code",
   "execution_count": 183,
   "metadata": {
    "collapsed": false
   },
   "outputs": [
    {
     "ename": "SyntaxError",
     "evalue": "invalid syntax (<ipython-input-183-ec48666af1ce>, line 1)",
     "output_type": "error",
     "traceback": [
      "\u001b[0;36m  File \u001b[0;32m\"<ipython-input-183-ec48666af1ce>\"\u001b[0;36m, line \u001b[0;32m1\u001b[0m\n\u001b[0;31m    df = df[columns=feature_col]\u001b[0m\n\u001b[0m                   ^\u001b[0m\n\u001b[0;31mSyntaxError\u001b[0m\u001b[0;31m:\u001b[0m invalid syntax\n"
     ]
    }
   ],
   "source": [
    "df = df[columns=feature_col]\n",
    "df.head()"
   ]
  },
  {
   "cell_type": "code",
   "execution_count": 193,
   "metadata": {
    "collapsed": false
   },
   "outputs": [
    {
     "name": "stdout",
     "output_type": "stream",
     "text": [
      "['Ximf0', 'Ximf1', 'Ximf2', 'Yimf0', 'Yimf1', 'Yimf2', 'thickness', 'speed']\n"
     ]
    }
   ],
   "source": [
    "feature_col = list(df.iloc[:,0:6].keys())\n",
    "feature_col.append('thickness')\n",
    "feature_col.append('speed')\n",
    "print feature_col"
   ]
  },
  {
   "cell_type": "code",
   "execution_count": 203,
   "metadata": {
    "collapsed": false
   },
   "outputs": [],
   "source": [
    "def create_XY_df(coil_list):\n",
    "    feature_col = ['Ximf0', 'Ximf1', 'Ximf2', 'Yimf0', 'Yimf1', 'Yimf2', 'thickness', 'speed']\n",
    "    X = pd.DataFrame(columns=feature_col)\n",
    "    Y = pd.DataFrame(columns=['sticking'])\n",
    "    for coil in coil_list:\n",
    "        df = mpd.importPeak(coil).dropna()\n",
    "        X = X.append(df[feature_col])\n",
    "        Y = Y.append(df[['sticking']])\n",
    "    return X, Y\n",
    "\n",
    "coil_list = [0,1,2]\n",
    "\n",
    "X, Y = create_XY_df(feature_col, coil_list)"
   ]
  },
  {
   "cell_type": "code",
   "execution_count": 251,
   "metadata": {
    "collapsed": false
   },
   "outputs": [
    {
     "data": {
      "text/plain": [
       "array([False, False, False], dtype=object)"
      ]
     },
     "execution_count": 251,
     "metadata": {},
     "output_type": "execute_result"
    }
   ],
   "source": [
    "Y.sticking.values\n",
    "a = np.ones_like(Y.sticking.values)*Y.sticking.values.astype(bool)\n",
    "Y.sticking.as_matrix()[0:3]"
   ]
  },
  {
   "cell_type": "code",
   "execution_count": 253,
   "metadata": {
    "collapsed": false
   },
   "outputs": [
    {
     "data": {
      "text/plain": [
       "[False,\n",
       " False,\n",
       " False,\n",
       " False,\n",
       " False,\n",
       " False,\n",
       " False,\n",
       " False,\n",
       " False,\n",
       " False,\n",
       " False,\n",
       " False,\n",
       " False,\n",
       " False,\n",
       " False,\n",
       " False,\n",
       " False,\n",
       " False,\n",
       " False,\n",
       " False,\n",
       " False,\n",
       " False,\n",
       " False,\n",
       " False,\n",
       " False,\n",
       " False,\n",
       " False,\n",
       " False,\n",
       " False,\n",
       " False,\n",
       " False,\n",
       " False,\n",
       " False,\n",
       " False,\n",
       " False,\n",
       " False,\n",
       " False,\n",
       " False,\n",
       " False,\n",
       " False,\n",
       " False,\n",
       " False,\n",
       " False,\n",
       " True,\n",
       " True,\n",
       " True,\n",
       " True,\n",
       " True,\n",
       " True,\n",
       " True,\n",
       " True,\n",
       " False,\n",
       " False,\n",
       " False,\n",
       " False,\n",
       " False,\n",
       " False,\n",
       " False,\n",
       " False,\n",
       " False,\n",
       " False,\n",
       " False,\n",
       " False,\n",
       " False]"
      ]
     },
     "execution_count": 253,
     "metadata": {},
     "output_type": "execute_result"
    }
   ],
   "source": [
    "list(Y.sticking.values)"
   ]
  },
  {
   "cell_type": "code",
   "execution_count": 254,
   "metadata": {
    "collapsed": false
   },
   "outputs": [],
   "source": [
    "from sklearn import tree\n",
    "clf = tree.DecisionTreeClassifier()\n",
    "clf = clf.fit(X.values, list(Y.sticking.values))"
   ]
  },
  {
   "cell_type": "code",
   "execution_count": null,
   "metadata": {
    "collapsed": true
   },
   "outputs": [],
   "source": []
  },
  {
   "cell_type": "code",
   "execution_count": null,
   "metadata": {
    "collapsed": false
   },
   "outputs": [],
   "source": [
    "data = []\n",
    "prediction = []\n",
    "for coil in range(88):\n",
    "    try:\n",
    "        df = mpd.importPeak(coil)\n",
    "        Xi = zip(\n",
    "                list(df['Ximf0']), list(df['Yimf0']), \n",
    "                list(df['Ximf1']), list(df['Yimf1']), \n",
    "                list(df['Ximf2']), list(df['Yimf2'])\n",
    "                )\n",
    "        Yi = list(df['sticking'])\n",
    "        data.append(sum(Yi)>0)\n",
    "        prediction.append(sum(clf.predict(Xi))>5)\n",
    "        print coil, sum(Yi), sum(clf.predict(Xi))\n",
    "    except:\n",
    "        pass\n",
    "data = np.array(data)\n",
    "prediction = np.array(prediction)\n",
    "sum(data), sum(prediction)\n",
    "sum(data==prediction)/88.*100"
   ]
  },
  {
   "cell_type": "code",
   "execution_count": null,
   "metadata": {
    "collapsed": false
   },
   "outputs": [],
   "source": [
    "sum(data)"
   ]
  },
  {
   "cell_type": "code",
   "execution_count": null,
   "metadata": {
    "collapsed": false
   },
   "outputs": [],
   "source": [
    "x_index = 2\n",
    "y_index = 3\n",
    "\n",
    "x = np.array(X)\n",
    "y = np.logical_and(pp.is_between(x[:,x_index], 3, 5), x[:,y_index]>10)\n",
    "\n",
    "xx = x[:,2:4]\n",
    "\n",
    "# this formatter will label the colorbar with the correct target names\n",
    "# formatter = plt.FuncFormatter(lambda i, *args: iris.target_names[int(i)])\n",
    "\n",
    "plt.scatter(x[:,x_index], x[:,y_index], c=y)\n",
    "plt.colorbar(ticks=[0, 1])\n",
    "#plt.xlabel(iris.feature_names[x_index])\n",
    "#plt.ylabel(iris.feature_names[y_index])\n",
    "clf = tree.DecisionTreeClassifier()\n",
    "clf = clf.fit(xx, y)"
   ]
  },
  {
   "cell_type": "code",
   "execution_count": null,
   "metadata": {
    "collapsed": false
   },
   "outputs": [],
   "source": [
    "data = []\n",
    "prediction = []\n",
    "for coil in range(88):\n",
    "    try:\n",
    "        df = mpd.importPeak(coil)\n",
    "        Xi = zip(df['Ximf1'].values, df['Yimf1'].values)\n",
    "        Yi = df['sticking'].values\n",
    "        print coil, sum(Yi), sum(clf.predict(Xi))\n",
    "        data.append(sum(Yi)>0)\n",
    "        prediction.append(sum(clf.predict(Xi))>5)\n",
    "    except:\n",
    "        pass\n",
    "data = np.array(data)\n",
    "prediction = np.array(prediction)\n",
    "sum(data), sum(prediction)\n",
    "sum(data==prediction)/88.*100"
   ]
  },
  {
   "cell_type": "code",
   "execution_count": null,
   "metadata": {
    "collapsed": false
   },
   "outputs": [],
   "source": [
    "xx"
   ]
  },
  {
   "cell_type": "code",
   "execution_count": null,
   "metadata": {
    "collapsed": false
   },
   "outputs": [],
   "source": [
    "df = mpd.importPeak(28)\n",
    "Xi = zip(df['Ximf1'].values, df['Yimf1'].values)\n",
    "Xi\n",
    "sum(clf.predict(Xi))"
   ]
  },
  {
   "cell_type": "code",
   "execution_count": null,
   "metadata": {
    "collapsed": false
   },
   "outputs": [],
   "source": [
    "a = zip([5,6],[5,6])"
   ]
  },
  {
   "cell_type": "code",
   "execution_count": null,
   "metadata": {
    "collapsed": false
   },
   "outputs": [],
   "source": [
    "a"
   ]
  },
  {
   "cell_type": "code",
   "execution_count": null,
   "metadata": {
    "collapsed": false
   },
   "outputs": [],
   "source": [
    "list(a[0])"
   ]
  },
  {
   "cell_type": "code",
   "execution_count": null,
   "metadata": {
    "collapsed": false
   },
   "outputs": [],
   "source": [
    "x = np.array(X)\n",
    "y = np.array(Y)"
   ]
  },
  {
   "cell_type": "code",
   "execution_count": null,
   "metadata": {
    "collapsed": false
   },
   "outputs": [],
   "source": [
    "x.shape"
   ]
  },
  {
   "cell_type": "code",
   "execution_count": null,
   "metadata": {
    "collapsed": false
   },
   "outputs": [],
   "source": [
    "x[0,0]"
   ]
  },
  {
   "cell_type": "code",
   "execution_count": null,
   "metadata": {
    "collapsed": false
   },
   "outputs": [],
   "source": [
    "data = np.array(data)\n",
    "prediction = np.array(prediction)\n",
    "sum(data), sum(prediction)\n",
    "sum(data==prediction)"
   ]
  },
  {
   "cell_type": "code",
   "execution_count": null,
   "metadata": {
    "collapsed": false
   },
   "outputs": [],
   "source": [
    "sum(data==prediction)"
   ]
  },
  {
   "cell_type": "code",
   "execution_count": null,
   "metadata": {
    "collapsed": false
   },
   "outputs": [],
   "source": [
    "x[:,0]>20"
   ]
  },
  {
   "cell_type": "code",
   "execution_count": null,
   "metadata": {
    "collapsed": true
   },
   "outputs": [],
   "source": []
  }
 ],
 "metadata": {
  "kernelspec": {
   "display_name": "Python 2",
   "language": "python",
   "name": "python2"
  },
  "language_info": {
   "codemirror_mode": {
    "name": "ipython",
    "version": 2
   },
   "file_extension": ".py",
   "mimetype": "text/x-python",
   "name": "python",
   "nbconvert_exporter": "python",
   "pygments_lexer": "ipython2",
   "version": "2.7.12"
  }
 },
 "nbformat": 4,
 "nbformat_minor": 1
}
