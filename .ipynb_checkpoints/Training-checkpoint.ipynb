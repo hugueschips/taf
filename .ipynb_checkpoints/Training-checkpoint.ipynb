{
 "cells": [
  {
   "cell_type": "code",
   "execution_count": 103,
   "metadata": {
    "collapsed": true
   },
   "outputs": [],
   "source": [
    "import numpy as np\n",
    "import pandas as pd\n",
    "\n",
    "def importPeak(coil=28, filename='peaks.h5', path='./output/'):\n",
    "    store = pd.HDFStore(path+filename)\n",
    "    df = store['coil_'+str(coil)]\n",
    "    store.close()\n",
    "    return df"
   ]
  },
  {
   "cell_type": "code",
   "execution_count": 104,
   "metadata": {
    "collapsed": true
   },
   "outputs": [],
   "source": [
    "df = importPeak(9)"
   ]
  },
  {
   "cell_type": "code",
   "execution_count": 105,
   "metadata": {
    "collapsed": false
   },
   "outputs": [
    {
     "data": {
      "text/html": [
       "<div>\n",
       "<table border=\"1\" class=\"dataframe\">\n",
       "  <thead>\n",
       "    <tr style=\"text-align: right;\">\n",
       "      <th></th>\n",
       "      <th>Ximf0</th>\n",
       "      <th>Ximf1</th>\n",
       "      <th>Ximf2</th>\n",
       "      <th>Yimf0</th>\n",
       "      <th>Yimf1</th>\n",
       "      <th>Yimf2</th>\n",
       "      <th>sticking</th>\n",
       "      <th>time_begin</th>\n",
       "      <th>time_end</th>\n",
       "    </tr>\n",
       "  </thead>\n",
       "  <tbody>\n",
       "    <tr>\n",
       "      <th>0</th>\n",
       "      <td>6.400768</td>\n",
       "      <td>6.400768</td>\n",
       "      <td>6.400768</td>\n",
       "      <td>6.579697</td>\n",
       "      <td>4.662150</td>\n",
       "      <td>6.551482</td>\n",
       "      <td>False</td>\n",
       "      <td>200.0</td>\n",
       "      <td>204.0</td>\n",
       "    </tr>\n",
       "    <tr>\n",
       "      <th>1</th>\n",
       "      <td>3.200384</td>\n",
       "      <td>3.200384</td>\n",
       "      <td>3.200384</td>\n",
       "      <td>18.471408</td>\n",
       "      <td>10.065123</td>\n",
       "      <td>14.134917</td>\n",
       "      <td>False</td>\n",
       "      <td>204.0</td>\n",
       "      <td>208.0</td>\n",
       "    </tr>\n",
       "    <tr>\n",
       "      <th>2</th>\n",
       "      <td>3.600432</td>\n",
       "      <td>3.600432</td>\n",
       "      <td>3.600432</td>\n",
       "      <td>5.838117</td>\n",
       "      <td>14.982777</td>\n",
       "      <td>9.581886</td>\n",
       "      <td>False</td>\n",
       "      <td>208.0</td>\n",
       "      <td>212.0</td>\n",
       "    </tr>\n",
       "    <tr>\n",
       "      <th>3</th>\n",
       "      <td>7.600912</td>\n",
       "      <td>4.000480</td>\n",
       "      <td>3.600432</td>\n",
       "      <td>1.710159</td>\n",
       "      <td>10.602897</td>\n",
       "      <td>17.991949</td>\n",
       "      <td>False</td>\n",
       "      <td>212.0</td>\n",
       "      <td>216.0</td>\n",
       "    </tr>\n",
       "    <tr>\n",
       "      <th>4</th>\n",
       "      <td>4.000480</td>\n",
       "      <td>4.000480</td>\n",
       "      <td>4.000480</td>\n",
       "      <td>9.403156</td>\n",
       "      <td>47.146874</td>\n",
       "      <td>15.031098</td>\n",
       "      <td>False</td>\n",
       "      <td>216.0</td>\n",
       "      <td>220.0</td>\n",
       "    </tr>\n",
       "    <tr>\n",
       "      <th>5</th>\n",
       "      <td>4.000480</td>\n",
       "      <td>4.000480</td>\n",
       "      <td>4.000480</td>\n",
       "      <td>15.584621</td>\n",
       "      <td>24.702764</td>\n",
       "      <td>21.164323</td>\n",
       "      <td>False</td>\n",
       "      <td>220.0</td>\n",
       "      <td>224.0</td>\n",
       "    </tr>\n",
       "    <tr>\n",
       "      <th>6</th>\n",
       "      <td>4.400528</td>\n",
       "      <td>4.400528</td>\n",
       "      <td>4.400528</td>\n",
       "      <td>12.417005</td>\n",
       "      <td>22.794621</td>\n",
       "      <td>29.370067</td>\n",
       "      <td>True</td>\n",
       "      <td>224.0</td>\n",
       "      <td>228.0</td>\n",
       "    </tr>\n",
       "    <tr>\n",
       "      <th>7</th>\n",
       "      <td>4.400528</td>\n",
       "      <td>4.400528</td>\n",
       "      <td>4.400528</td>\n",
       "      <td>5.371385</td>\n",
       "      <td>24.572222</td>\n",
       "      <td>14.693292</td>\n",
       "      <td>False</td>\n",
       "      <td>228.0</td>\n",
       "      <td>232.0</td>\n",
       "    </tr>\n",
       "    <tr>\n",
       "      <th>8</th>\n",
       "      <td>4.400528</td>\n",
       "      <td>4.400528</td>\n",
       "      <td>4.400528</td>\n",
       "      <td>10.787774</td>\n",
       "      <td>12.160537</td>\n",
       "      <td>18.897802</td>\n",
       "      <td>False</td>\n",
       "      <td>232.0</td>\n",
       "      <td>236.0</td>\n",
       "    </tr>\n",
       "    <tr>\n",
       "      <th>9</th>\n",
       "      <td>4.800576</td>\n",
       "      <td>4.800576</td>\n",
       "      <td>2.800336</td>\n",
       "      <td>2.693912</td>\n",
       "      <td>5.484670</td>\n",
       "      <td>3.111209</td>\n",
       "      <td>False</td>\n",
       "      <td>236.0</td>\n",
       "      <td>240.0</td>\n",
       "    </tr>\n",
       "    <tr>\n",
       "      <th>10</th>\n",
       "      <td>4.800576</td>\n",
       "      <td>4.800576</td>\n",
       "      <td>4.800576</td>\n",
       "      <td>2.740408</td>\n",
       "      <td>6.093540</td>\n",
       "      <td>12.686757</td>\n",
       "      <td>False</td>\n",
       "      <td>240.0</td>\n",
       "      <td>244.0</td>\n",
       "    </tr>\n",
       "    <tr>\n",
       "      <th>11</th>\n",
       "      <td>4.800576</td>\n",
       "      <td>4.800576</td>\n",
       "      <td>6.400768</td>\n",
       "      <td>0.955154</td>\n",
       "      <td>6.487238</td>\n",
       "      <td>3.443108</td>\n",
       "      <td>False</td>\n",
       "      <td>244.0</td>\n",
       "      <td>248.0</td>\n",
       "    </tr>\n",
       "    <tr>\n",
       "      <th>12</th>\n",
       "      <td>5.200624</td>\n",
       "      <td>5.200624</td>\n",
       "      <td>5.200624</td>\n",
       "      <td>1.691907</td>\n",
       "      <td>8.324731</td>\n",
       "      <td>12.826741</td>\n",
       "      <td>False</td>\n",
       "      <td>248.0</td>\n",
       "      <td>252.0</td>\n",
       "    </tr>\n",
       "    <tr>\n",
       "      <th>13</th>\n",
       "      <td>5.200624</td>\n",
       "      <td>5.200624</td>\n",
       "      <td>5.200624</td>\n",
       "      <td>2.333342</td>\n",
       "      <td>13.381181</td>\n",
       "      <td>10.941655</td>\n",
       "      <td>False</td>\n",
       "      <td>252.0</td>\n",
       "      <td>256.0</td>\n",
       "    </tr>\n",
       "    <tr>\n",
       "      <th>14</th>\n",
       "      <td>5.600672</td>\n",
       "      <td>5.200624</td>\n",
       "      <td>1.600192</td>\n",
       "      <td>3.169219</td>\n",
       "      <td>10.983495</td>\n",
       "      <td>3.612428</td>\n",
       "      <td>False</td>\n",
       "      <td>256.0</td>\n",
       "      <td>260.0</td>\n",
       "    </tr>\n",
       "    <tr>\n",
       "      <th>15</th>\n",
       "      <td>5.600672</td>\n",
       "      <td>5.600672</td>\n",
       "      <td>2.400288</td>\n",
       "      <td>5.807887</td>\n",
       "      <td>4.941211</td>\n",
       "      <td>2.443699</td>\n",
       "      <td>False</td>\n",
       "      <td>260.0</td>\n",
       "      <td>264.0</td>\n",
       "    </tr>\n",
       "    <tr>\n",
       "      <th>16</th>\n",
       "      <td>5.600672</td>\n",
       "      <td>5.600672</td>\n",
       "      <td>6.000720</td>\n",
       "      <td>6.928642</td>\n",
       "      <td>12.429276</td>\n",
       "      <td>4.165955</td>\n",
       "      <td>False</td>\n",
       "      <td>264.0</td>\n",
       "      <td>268.0</td>\n",
       "    </tr>\n",
       "    <tr>\n",
       "      <th>17</th>\n",
       "      <td>6.000720</td>\n",
       "      <td>6.000720</td>\n",
       "      <td>5.600672</td>\n",
       "      <td>2.978819</td>\n",
       "      <td>10.805190</td>\n",
       "      <td>3.344525</td>\n",
       "      <td>False</td>\n",
       "      <td>268.0</td>\n",
       "      <td>272.0</td>\n",
       "    </tr>\n",
       "    <tr>\n",
       "      <th>18</th>\n",
       "      <td>6.000720</td>\n",
       "      <td>2.400288</td>\n",
       "      <td>2.400288</td>\n",
       "      <td>4.416730</td>\n",
       "      <td>4.766728</td>\n",
       "      <td>3.248797</td>\n",
       "      <td>False</td>\n",
       "      <td>272.0</td>\n",
       "      <td>276.0</td>\n",
       "    </tr>\n",
       "  </tbody>\n",
       "</table>\n",
       "</div>"
      ],
      "text/plain": [
       "       Ximf0     Ximf1     Ximf2      Yimf0      Yimf1      Yimf2 sticking  \\\n",
       "0   6.400768  6.400768  6.400768   6.579697   4.662150   6.551482    False   \n",
       "1   3.200384  3.200384  3.200384  18.471408  10.065123  14.134917    False   \n",
       "2   3.600432  3.600432  3.600432   5.838117  14.982777   9.581886    False   \n",
       "3   7.600912  4.000480  3.600432   1.710159  10.602897  17.991949    False   \n",
       "4   4.000480  4.000480  4.000480   9.403156  47.146874  15.031098    False   \n",
       "5   4.000480  4.000480  4.000480  15.584621  24.702764  21.164323    False   \n",
       "6   4.400528  4.400528  4.400528  12.417005  22.794621  29.370067     True   \n",
       "7   4.400528  4.400528  4.400528   5.371385  24.572222  14.693292    False   \n",
       "8   4.400528  4.400528  4.400528  10.787774  12.160537  18.897802    False   \n",
       "9   4.800576  4.800576  2.800336   2.693912   5.484670   3.111209    False   \n",
       "10  4.800576  4.800576  4.800576   2.740408   6.093540  12.686757    False   \n",
       "11  4.800576  4.800576  6.400768   0.955154   6.487238   3.443108    False   \n",
       "12  5.200624  5.200624  5.200624   1.691907   8.324731  12.826741    False   \n",
       "13  5.200624  5.200624  5.200624   2.333342  13.381181  10.941655    False   \n",
       "14  5.600672  5.200624  1.600192   3.169219  10.983495   3.612428    False   \n",
       "15  5.600672  5.600672  2.400288   5.807887   4.941211   2.443699    False   \n",
       "16  5.600672  5.600672  6.000720   6.928642  12.429276   4.165955    False   \n",
       "17  6.000720  6.000720  5.600672   2.978819  10.805190   3.344525    False   \n",
       "18  6.000720  2.400288  2.400288   4.416730   4.766728   3.248797    False   \n",
       "\n",
       "    time_begin  time_end  \n",
       "0        200.0     204.0  \n",
       "1        204.0     208.0  \n",
       "2        208.0     212.0  \n",
       "3        212.0     216.0  \n",
       "4        216.0     220.0  \n",
       "5        220.0     224.0  \n",
       "6        224.0     228.0  \n",
       "7        228.0     232.0  \n",
       "8        232.0     236.0  \n",
       "9        236.0     240.0  \n",
       "10       240.0     244.0  \n",
       "11       244.0     248.0  \n",
       "12       248.0     252.0  \n",
       "13       252.0     256.0  \n",
       "14       256.0     260.0  \n",
       "15       260.0     264.0  \n",
       "16       264.0     268.0  \n",
       "17       268.0     272.0  \n",
       "18       272.0     276.0  "
      ]
     },
     "execution_count": 105,
     "metadata": {},
     "output_type": "execute_result"
    }
   ],
   "source": [
    "df"
   ]
  },
  {
   "cell_type": "code",
   "execution_count": 123,
   "metadata": {
    "collapsed": false
   },
   "outputs": [
    {
     "ename": "ValueError",
     "evalue": "setting an array element with a sequence.",
     "output_type": "error",
     "traceback": [
      "\u001b[0;31m---------------------------------------------------------------------------\u001b[0m",
      "\u001b[0;31mValueError\u001b[0m                                Traceback (most recent call last)",
      "\u001b[0;32m<ipython-input-123-d74186c25302>\u001b[0m in \u001b[0;36m<module>\u001b[0;34m()\u001b[0m\n\u001b[1;32m      9\u001b[0m     \u001b[0mY\u001b[0m\u001b[0;34m.\u001b[0m\u001b[0mappend\u001b[0m\u001b[0;34m(\u001b[0m\u001b[0mYi\u001b[0m\u001b[0;34m)\u001b[0m\u001b[0;34m\u001b[0m\u001b[0m\n\u001b[1;32m     10\u001b[0m \u001b[0mclf\u001b[0m \u001b[0;34m=\u001b[0m \u001b[0mtree\u001b[0m\u001b[0;34m.\u001b[0m\u001b[0mDecisionTreeClassifier\u001b[0m\u001b[0;34m(\u001b[0m\u001b[0;34m)\u001b[0m\u001b[0;34m\u001b[0m\u001b[0m\n\u001b[0;32m---> 11\u001b[0;31m \u001b[0mclf\u001b[0m \u001b[0;34m=\u001b[0m \u001b[0mclf\u001b[0m\u001b[0;34m.\u001b[0m\u001b[0mfit\u001b[0m\u001b[0;34m(\u001b[0m\u001b[0mX\u001b[0m\u001b[0;34m,\u001b[0m \u001b[0mY\u001b[0m\u001b[0;34m)\u001b[0m\u001b[0;34m\u001b[0m\u001b[0m\n\u001b[0m\u001b[1;32m     12\u001b[0m \u001b[0msum\u001b[0m\u001b[0;34m(\u001b[0m\u001b[0mY\u001b[0m\u001b[0;34m)\u001b[0m\u001b[0;34m\u001b[0m\u001b[0m\n",
      "\u001b[0;32m/Library/Frameworks/Python.framework/Versions/2.7/lib/python2.7/site-packages/sklearn/tree/tree.pyc\u001b[0m in \u001b[0;36mfit\u001b[0;34m(self, X, y, sample_weight, check_input, X_idx_sorted)\u001b[0m\n\u001b[1;32m    152\u001b[0m         \u001b[0mrandom_state\u001b[0m \u001b[0;34m=\u001b[0m \u001b[0mcheck_random_state\u001b[0m\u001b[0;34m(\u001b[0m\u001b[0mself\u001b[0m\u001b[0;34m.\u001b[0m\u001b[0mrandom_state\u001b[0m\u001b[0;34m)\u001b[0m\u001b[0;34m\u001b[0m\u001b[0m\n\u001b[1;32m    153\u001b[0m         \u001b[0;32mif\u001b[0m \u001b[0mcheck_input\u001b[0m\u001b[0;34m:\u001b[0m\u001b[0;34m\u001b[0m\u001b[0m\n\u001b[0;32m--> 154\u001b[0;31m             \u001b[0mX\u001b[0m \u001b[0;34m=\u001b[0m \u001b[0mcheck_array\u001b[0m\u001b[0;34m(\u001b[0m\u001b[0mX\u001b[0m\u001b[0;34m,\u001b[0m \u001b[0mdtype\u001b[0m\u001b[0;34m=\u001b[0m\u001b[0mDTYPE\u001b[0m\u001b[0;34m,\u001b[0m \u001b[0maccept_sparse\u001b[0m\u001b[0;34m=\u001b[0m\u001b[0;34m\"csc\"\u001b[0m\u001b[0;34m)\u001b[0m\u001b[0;34m\u001b[0m\u001b[0m\n\u001b[0m\u001b[1;32m    155\u001b[0m             \u001b[0;32mif\u001b[0m \u001b[0missparse\u001b[0m\u001b[0;34m(\u001b[0m\u001b[0mX\u001b[0m\u001b[0;34m)\u001b[0m\u001b[0;34m:\u001b[0m\u001b[0;34m\u001b[0m\u001b[0m\n\u001b[1;32m    156\u001b[0m                 \u001b[0mX\u001b[0m\u001b[0;34m.\u001b[0m\u001b[0msort_indices\u001b[0m\u001b[0;34m(\u001b[0m\u001b[0;34m)\u001b[0m\u001b[0;34m\u001b[0m\u001b[0m\n",
      "\u001b[0;32m/Library/Frameworks/Python.framework/Versions/2.7/lib/python2.7/site-packages/sklearn/utils/validation.pyc\u001b[0m in \u001b[0;36mcheck_array\u001b[0;34m(array, accept_sparse, dtype, order, copy, force_all_finite, ensure_2d, allow_nd, ensure_min_samples, ensure_min_features, warn_on_dtype, estimator)\u001b[0m\n\u001b[1;32m    371\u001b[0m                                       force_all_finite)\n\u001b[1;32m    372\u001b[0m     \u001b[0;32melse\u001b[0m\u001b[0;34m:\u001b[0m\u001b[0;34m\u001b[0m\u001b[0m\n\u001b[0;32m--> 373\u001b[0;31m         \u001b[0marray\u001b[0m \u001b[0;34m=\u001b[0m \u001b[0mnp\u001b[0m\u001b[0;34m.\u001b[0m\u001b[0marray\u001b[0m\u001b[0;34m(\u001b[0m\u001b[0marray\u001b[0m\u001b[0;34m,\u001b[0m \u001b[0mdtype\u001b[0m\u001b[0;34m=\u001b[0m\u001b[0mdtype\u001b[0m\u001b[0;34m,\u001b[0m \u001b[0morder\u001b[0m\u001b[0;34m=\u001b[0m\u001b[0morder\u001b[0m\u001b[0;34m,\u001b[0m \u001b[0mcopy\u001b[0m\u001b[0;34m=\u001b[0m\u001b[0mcopy\u001b[0m\u001b[0;34m)\u001b[0m\u001b[0;34m\u001b[0m\u001b[0m\n\u001b[0m\u001b[1;32m    374\u001b[0m \u001b[0;34m\u001b[0m\u001b[0m\n\u001b[1;32m    375\u001b[0m         \u001b[0;32mif\u001b[0m \u001b[0mensure_2d\u001b[0m\u001b[0;34m:\u001b[0m\u001b[0;34m\u001b[0m\u001b[0m\n",
      "\u001b[0;31mValueError\u001b[0m: setting an array element with a sequence."
     ]
    }
   ],
   "source": [
    "from sklearn import tree\n",
    "X = []\n",
    "Y = []\n",
    "for coil in [1,8,9,28,44,5,6]:\n",
    "    df = importPeak(coil)\n",
    "    Xi = zip(list(df['Ximf0']), list(df['Yimf0']))\n",
    "    Yi = list(df['sticking'])\n",
    "    X += Xi\n",
    "    Y += Yi\n",
    "clf = tree.DecisionTreeClassifier()\n",
    "clf = clf.fit(X, Y)\n",
    "sum(Y)"
   ]
  },
  {
   "cell_type": "code",
   "execution_count": 112,
   "metadata": {
    "collapsed": false
   },
   "outputs": [
    {
     "ename": "NotFittedError",
     "evalue": "Estimator not fitted, call `fit` before exploiting the model.",
     "output_type": "error",
     "traceback": [
      "\u001b[0;31m---------------------------------------------------------------------------\u001b[0m",
      "\u001b[0;31mNotFittedError\u001b[0m                            Traceback (most recent call last)",
      "\u001b[0;32m<ipython-input-112-12dc08a63322>\u001b[0m in \u001b[0;36m<module>\u001b[0;34m()\u001b[0m\n\u001b[1;32m      2\u001b[0m \u001b[0mX\u001b[0m \u001b[0;34m=\u001b[0m \u001b[0mzip\u001b[0m\u001b[0;34m(\u001b[0m\u001b[0mdf\u001b[0m\u001b[0;34m[\u001b[0m\u001b[0;34m'Ximf0'\u001b[0m\u001b[0;34m]\u001b[0m\u001b[0;34m.\u001b[0m\u001b[0mvalues\u001b[0m\u001b[0;34m,\u001b[0m \u001b[0mdf\u001b[0m\u001b[0;34m[\u001b[0m\u001b[0;34m'Yimf0'\u001b[0m\u001b[0;34m]\u001b[0m\u001b[0;34m.\u001b[0m\u001b[0mvalues\u001b[0m\u001b[0;34m)\u001b[0m\u001b[0;34m\u001b[0m\u001b[0m\n\u001b[1;32m      3\u001b[0m \u001b[0mY\u001b[0m \u001b[0;34m=\u001b[0m \u001b[0mdf\u001b[0m\u001b[0;34m[\u001b[0m\u001b[0;34m'sticking'\u001b[0m\u001b[0;34m]\u001b[0m\u001b[0;34m.\u001b[0m\u001b[0mvalues\u001b[0m\u001b[0;34m\u001b[0m\u001b[0m\n\u001b[0;32m----> 4\u001b[0;31m \u001b[0msum\u001b[0m\u001b[0;34m(\u001b[0m\u001b[0mY\u001b[0m\u001b[0;34m)\u001b[0m\u001b[0;34m,\u001b[0m \u001b[0msum\u001b[0m\u001b[0;34m(\u001b[0m\u001b[0mclf\u001b[0m\u001b[0;34m.\u001b[0m\u001b[0mpredict\u001b[0m\u001b[0;34m(\u001b[0m\u001b[0mX\u001b[0m\u001b[0;34m)\u001b[0m\u001b[0;34m)\u001b[0m\u001b[0;34m\u001b[0m\u001b[0m\n\u001b[0m",
      "\u001b[0;32m/Library/Frameworks/Python.framework/Versions/2.7/lib/python2.7/site-packages/sklearn/tree/tree.pyc\u001b[0m in \u001b[0;36mpredict\u001b[0;34m(self, X, check_input)\u001b[0m\n\u001b[1;32m    402\u001b[0m         \"\"\"\n\u001b[1;32m    403\u001b[0m \u001b[0;34m\u001b[0m\u001b[0m\n\u001b[0;32m--> 404\u001b[0;31m         \u001b[0mX\u001b[0m \u001b[0;34m=\u001b[0m \u001b[0mself\u001b[0m\u001b[0;34m.\u001b[0m\u001b[0m_validate_X_predict\u001b[0m\u001b[0;34m(\u001b[0m\u001b[0mX\u001b[0m\u001b[0;34m,\u001b[0m \u001b[0mcheck_input\u001b[0m\u001b[0;34m)\u001b[0m\u001b[0;34m\u001b[0m\u001b[0m\n\u001b[0m\u001b[1;32m    405\u001b[0m         \u001b[0mproba\u001b[0m \u001b[0;34m=\u001b[0m \u001b[0mself\u001b[0m\u001b[0;34m.\u001b[0m\u001b[0mtree_\u001b[0m\u001b[0;34m.\u001b[0m\u001b[0mpredict\u001b[0m\u001b[0;34m(\u001b[0m\u001b[0mX\u001b[0m\u001b[0;34m)\u001b[0m\u001b[0;34m\u001b[0m\u001b[0m\n\u001b[1;32m    406\u001b[0m         \u001b[0mn_samples\u001b[0m \u001b[0;34m=\u001b[0m \u001b[0mX\u001b[0m\u001b[0;34m.\u001b[0m\u001b[0mshape\u001b[0m\u001b[0;34m[\u001b[0m\u001b[0;36m0\u001b[0m\u001b[0;34m]\u001b[0m\u001b[0;34m\u001b[0m\u001b[0m\n",
      "\u001b[0;32m/Library/Frameworks/Python.framework/Versions/2.7/lib/python2.7/site-packages/sklearn/tree/tree.pyc\u001b[0m in \u001b[0;36m_validate_X_predict\u001b[0;34m(self, X, check_input)\u001b[0m\n\u001b[1;32m    359\u001b[0m         \u001b[0;34m\"\"\"Validate X whenever one tries to predict, apply, predict_proba\"\"\"\u001b[0m\u001b[0;34m\u001b[0m\u001b[0m\n\u001b[1;32m    360\u001b[0m         \u001b[0;32mif\u001b[0m \u001b[0mself\u001b[0m\u001b[0;34m.\u001b[0m\u001b[0mtree_\u001b[0m \u001b[0;32mis\u001b[0m \u001b[0mNone\u001b[0m\u001b[0;34m:\u001b[0m\u001b[0;34m\u001b[0m\u001b[0m\n\u001b[0;32m--> 361\u001b[0;31m             raise NotFittedError(\"Estimator not fitted, \"\n\u001b[0m\u001b[1;32m    362\u001b[0m                                  \"call `fit` before exploiting the model.\")\n\u001b[1;32m    363\u001b[0m \u001b[0;34m\u001b[0m\u001b[0m\n",
      "\u001b[0;31mNotFittedError\u001b[0m: Estimator not fitted, call `fit` before exploiting the model."
     ]
    }
   ],
   "source": [
    "df = importPeak(44)\n",
    "X = zip(df['Ximf0'].values, df['Yimf0'].values)\n",
    "Y = df['sticking'].values\n",
    "sum(Y), sum(clf.predict(X))"
   ]
  },
  {
   "cell_type": "code",
   "execution_count": 94,
   "metadata": {
    "collapsed": false
   },
   "outputs": [
    {
     "data": {
      "text/plain": [
       "4"
      ]
     },
     "execution_count": 94,
     "metadata": {},
     "output_type": "execute_result"
    }
   ],
   "source": [
    "sum(clf.predict(X))"
   ]
  },
  {
   "cell_type": "code",
   "execution_count": 111,
   "metadata": {
    "collapsed": false
   },
   "outputs": [
    {
     "ename": "ValueError",
     "evalue": "operands could not be broadcast together with shapes (22,) (14,) ",
     "output_type": "error",
     "traceback": [
      "\u001b[0;31m---------------------------------------------------------------------------\u001b[0m",
      "\u001b[0;31mValueError\u001b[0m                                Traceback (most recent call last)",
      "\u001b[0;32m<ipython-input-111-0a6ebcdf865b>\u001b[0m in \u001b[0;36m<module>\u001b[0;34m()\u001b[0m\n\u001b[1;32m      3\u001b[0m \u001b[0mY2\u001b[0m \u001b[0;34m=\u001b[0m \u001b[0mdf\u001b[0m\u001b[0;34m[\u001b[0m\u001b[0;34m'sticking'\u001b[0m\u001b[0;34m]\u001b[0m\u001b[0;34m.\u001b[0m\u001b[0mvalues\u001b[0m\u001b[0;34m\u001b[0m\u001b[0m\n\u001b[1;32m      4\u001b[0m \u001b[0mclf\u001b[0m \u001b[0;34m=\u001b[0m \u001b[0mtree\u001b[0m\u001b[0;34m.\u001b[0m\u001b[0mDecisionTreeClassifier\u001b[0m\u001b[0;34m(\u001b[0m\u001b[0;34m)\u001b[0m\u001b[0;34m\u001b[0m\u001b[0m\n\u001b[0;32m----> 5\u001b[0;31m \u001b[0mclf\u001b[0m \u001b[0;34m=\u001b[0m \u001b[0mclf\u001b[0m\u001b[0;34m.\u001b[0m\u001b[0mfit\u001b[0m\u001b[0;34m(\u001b[0m\u001b[0mX\u001b[0m\u001b[0;34m+\u001b[0m\u001b[0mX2\u001b[0m\u001b[0;34m,\u001b[0m \u001b[0mY\u001b[0m\u001b[0;34m+\u001b[0m\u001b[0mY2\u001b[0m\u001b[0;34m)\u001b[0m\u001b[0;34m\u001b[0m\u001b[0m\n\u001b[0m",
      "\u001b[0;31mValueError\u001b[0m: operands could not be broadcast together with shapes (22,) (14,) "
     ]
    }
   ],
   "source": [
    "df = importPeak(28)\n",
    "X2 = zip(df['Ximf0'].values, df['Yimf0'].values)\n",
    "Y2 = df['sticking'].values\n",
    "clf = tree.DecisionTreeClassifier()\n",
    "clf = clf.fit(X+X2, Y+Y2)"
   ]
  },
  {
   "cell_type": "code",
   "execution_count": 71,
   "metadata": {
    "collapsed": false
   },
   "outputs": [
    {
     "data": {
      "text/plain": [
       "array([False, False, False, False, False, False,  True,  True,  True,\n",
       "        True,  True,  True,  True, False, False, False, False, False,\n",
       "       False, False, False, False, False, False, False, False, False,\n",
       "       False, False, False, False, False], dtype=bool)"
      ]
     },
     "execution_count": 71,
     "metadata": {},
     "output_type": "execute_result"
    }
   ],
   "source": [
    "Y"
   ]
  },
  {
   "cell_type": "code",
   "execution_count": 75,
   "metadata": {
    "collapsed": false
   },
   "outputs": [
    {
     "data": {
      "text/plain": [
       "[(1.6001920230427649, 33.220139053269072),\n",
       " (7.6009121094531329, 3.2224997163168374),\n",
       " (3.6004320518462212, 1.4424962151461858),\n",
       " (4.4005280633676032, 2.9195679473607248),\n",
       " (3.6004320518462212, 2.1424237853375705),\n",
       " (8.8010561267352063, 1.9145819893150675),\n",
       " (1.6001920230427649, 20.044325515543338),\n",
       " (1.6001920230427649, 2.96564003604409),\n",
       " (7.6009121094531329, 4.843768331376336),\n",
       " (8.0009601152138252, 3.312817301569996),\n",
       " (8.8010561267352063, 2.4922957369674781),\n",
       " (4.8005760691282946, 3.5103122841426604),\n",
       " (4.8005760691282946, 4.5362247974825234),\n",
       " (8.8010561267352063, 2.8085318937875527),\n",
       " (5.200624074888986, 3.3747215298067279),\n",
       " (5.200624074888986, 10.681658615428033),\n",
       " (5.200624074888986, 3.3625760941173377),\n",
       " (5.200624074888986, 4.5809711095075762),\n",
       " (5.200624074888986, 6.7382351411078618),\n",
       " (5.6006720806496766, 10.298029827787627),\n",
       " (5.6006720806496766, 7.6420442064854122),\n",
       " (1.6001920230427649, 2.0802017111923914),\n",
       " (6.000720086410368, 3.1942853345626325),\n",
       " (5.6006720806496766, 2.1412441979704315),\n",
       " (3.6004320518462212, 2.740539133242252),\n",
       " (4.8005760691282946, 3.616516998659618),\n",
       " (6.4007680921710595, 2.6176512573419433),\n",
       " (1.6001920230427649, 2.5198748381889668),\n",
       " (4.8005760691282946, 3.969880946446386),\n",
       " (1.6001920230427649, 8.8303838077403913),\n",
       " (4.8005760691282946, 2.0392371943724643),\n",
       " (7.2008641036924423, 1.0328394261072564)]"
      ]
     },
     "execution_count": 75,
     "metadata": {},
     "output_type": "execute_result"
    }
   ],
   "source": [
    "zip(df['Ximf0'].values, df['Yimf0'].values)"
   ]
  },
  {
   "cell_type": "code",
   "execution_count": 119,
   "metadata": {
    "collapsed": false
   },
   "outputs": [
    {
     "data": {
      "text/plain": [
       "14"
      ]
     },
     "execution_count": 119,
     "metadata": {},
     "output_type": "execute_result"
    }
   ],
   "source": [
    "len(Y+Y)"
   ]
  },
  {
   "cell_type": "code",
   "execution_count": 120,
   "metadata": {
    "collapsed": false
   },
   "outputs": [
    {
     "name": "stdout",
     "output_type": "stream",
     "text": [
      "1\n",
      "8\n",
      "9\n",
      "28\n",
      "44\n",
      "5\n",
      "6\n"
     ]
    }
   ],
   "source": [
    "for coil in [1,8,9,28,44,5,6]:\n",
    "    print coil"
   ]
  },
  {
   "cell_type": "code",
   "execution_count": 150,
   "metadata": {
    "collapsed": false
   },
   "outputs": [],
   "source": [
    "X = []\n",
    "Y = []\n",
    "for coil in [1,8,9,28,44,5,6]:\n",
    "    df = importPeak(coil)\n",
    "    Xi = zip(list(df['Ximf0']), list(df['Yimf0']))\n",
    "    Yi = list(df['sticking'])\n",
    "    X += Xi\n",
    "    Y += Yi"
   ]
  },
  {
   "cell_type": "code",
   "execution_count": 151,
   "metadata": {
    "collapsed": false
   },
   "outputs": [
    {
     "data": {
      "text/plain": [
       "(155, 155)"
      ]
     },
     "execution_count": 151,
     "metadata": {},
     "output_type": "execute_result"
    }
   ],
   "source": [
    "len(X), len(Y)"
   ]
  },
  {
   "cell_type": "code",
   "execution_count": 126,
   "metadata": {
    "collapsed": false
   },
   "outputs": [
    {
     "data": {
      "text/plain": [
       "[]"
      ]
     },
     "execution_count": 126,
     "metadata": {},
     "output_type": "execute_result"
    }
   ],
   "source": [
    "y"
   ]
  },
  {
   "cell_type": "code",
   "execution_count": 128,
   "metadata": {
    "collapsed": false
   },
   "outputs": [
    {
     "data": {
      "text/plain": [
       "list"
      ]
     },
     "execution_count": 128,
     "metadata": {},
     "output_type": "execute_result"
    }
   ],
   "source": [
    "type(Y)"
   ]
  },
  {
   "cell_type": "code",
   "execution_count": 130,
   "metadata": {
    "collapsed": false
   },
   "outputs": [
    {
     "data": {
      "text/plain": [
       "7"
      ]
     },
     "execution_count": 130,
     "metadata": {},
     "output_type": "execute_result"
    }
   ],
   "source": [
    "len(X)"
   ]
  },
  {
   "cell_type": "code",
   "execution_count": 131,
   "metadata": {
    "collapsed": false
   },
   "outputs": [
    {
     "data": {
      "text/plain": [
       "[(4.0004800576069126, 10.997139587546064),\n",
       " (4.0004800576069126, 23.328406991362609),\n",
       " (4.0004800576069126, 16.354135869000242),\n",
       " (4.0004800576069126, 12.281024217778929),\n",
       " (4.0004800576069126, 10.416508268654741),\n",
       " (4.0004800576069126, 5.5056021331422649),\n",
       " (4.4005280633676032, 9.6142951968515451),\n",
       " (4.4005280633676032, 12.170343994804357),\n",
       " (4.4005280633676032, 9.7573015657784925),\n",
       " (4.4005280633676032, 3.7939319387170514),\n",
       " (4.4005280633676032, 1.2867454280913055),\n",
       " (9.2011041324958978, 2.1129740331444378),\n",
       " (6.8008160979317509, 0.891399235939901),\n",
       " (8.8010561267352063, 0.64430954666756945),\n",
       " (4.8005760691282946, 3.8243356672918614),\n",
       " (4.8005760691282946, 0.36374892988377305),\n",
       " (5.6006720806496766, 0.80777267848753365),\n",
       " (2.0002400288034563, 1.0310506412215059),\n",
       " (5.200624074888986, 0.94388968501339676),\n",
       " (5.6006720806496766, 0.83676814793826171),\n",
       " (5.6006720806496766, 3.0791854496952178),\n",
       " (6.000720086410368, 3.3890593390726225),\n",
       " (6.000720086410368, 6.0781532571054449),\n",
       " (6.4007680921710595, 1.9392584190522193),\n",
       " (6.4007680921710595, 2.5885223302778591),\n",
       " (6.8008160979317509, 0.94005420106638016),\n",
       " (7.2008641036924423, 0.7447211935489868)]"
      ]
     },
     "execution_count": 131,
     "metadata": {},
     "output_type": "execute_result"
    }
   ],
   "source": [
    "X[0]"
   ]
  },
  {
   "cell_type": "code",
   "execution_count": 132,
   "metadata": {
    "collapsed": false
   },
   "outputs": [
    {
     "data": {
      "text/plain": [
       "list"
      ]
     },
     "execution_count": 132,
     "metadata": {},
     "output_type": "execute_result"
    }
   ],
   "source": [
    "type(Xi)"
   ]
  },
  {
   "cell_type": "code",
   "execution_count": 135,
   "metadata": {
    "collapsed": false
   },
   "outputs": [
    {
     "data": {
      "text/plain": [
       "29"
      ]
     },
     "execution_count": 135,
     "metadata": {},
     "output_type": "execute_result"
    }
   ],
   "source": [
    "len(Yi)"
   ]
  },
  {
   "cell_type": "code",
   "execution_count": 138,
   "metadata": {
    "collapsed": false
   },
   "outputs": [
    {
     "data": {
      "text/plain": [
       "pandas.core.series.Series"
      ]
     },
     "execution_count": 138,
     "metadata": {},
     "output_type": "execute_result"
    }
   ],
   "source": [
    "type(df['Ximf0'])"
   ]
  },
  {
   "cell_type": "code",
   "execution_count": 143,
   "metadata": {
    "collapsed": false
   },
   "outputs": [],
   "source": [
    "b = list(df['Yimf0'])"
   ]
  },
  {
   "cell_type": "code",
   "execution_count": 144,
   "metadata": {
    "collapsed": false
   },
   "outputs": [
    {
     "data": {
      "text/plain": [
       "list"
      ]
     },
     "execution_count": 144,
     "metadata": {},
     "output_type": "execute_result"
    }
   ],
   "source": [
    "type(a)"
   ]
  },
  {
   "cell_type": "code",
   "execution_count": 142,
   "metadata": {
    "collapsed": false
   },
   "outputs": [
    {
     "data": {
      "text/plain": [
       "27"
      ]
     },
     "execution_count": 142,
     "metadata": {},
     "output_type": "execute_result"
    }
   ],
   "source": [
    "len(a)"
   ]
  },
  {
   "cell_type": "code",
   "execution_count": 148,
   "metadata": {
    "collapsed": false
   },
   "outputs": [
    {
     "data": {
      "text/plain": [
       "list"
      ]
     },
     "execution_count": 148,
     "metadata": {},
     "output_type": "execute_result"
    }
   ],
   "source": [
    "type(zip(a,b))"
   ]
  },
  {
   "cell_type": "code",
   "execution_count": null,
   "metadata": {
    "collapsed": true
   },
   "outputs": [],
   "source": []
  }
 ],
 "metadata": {
  "kernelspec": {
   "display_name": "Python 2",
   "language": "python",
   "name": "python2"
  },
  "language_info": {
   "codemirror_mode": {
    "name": "ipython",
    "version": 2
   },
   "file_extension": ".py",
   "mimetype": "text/x-python",
   "name": "python",
   "nbconvert_exporter": "python",
   "pygments_lexer": "ipython2",
   "version": "2.7.12"
  }
 },
 "nbformat": 4,
 "nbformat_minor": 1
}
