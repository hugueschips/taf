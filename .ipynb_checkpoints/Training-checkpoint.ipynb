{
 "cells": [
  {
   "cell_type": "code",
   "execution_count": 4,
   "metadata": {
    "collapsed": false
   },
   "outputs": [],
   "source": [
    "import random\n",
    "import numpy as np\n",
    "import pandas as pd\n",
    "import manage_data as md\n",
    "import managePeakData as mpd\n",
    "import preprocessing as pp\n",
    "%matplotlib inline\n",
    "import matplotlib.pyplot as plt"
   ]
  },
  {
   "cell_type": "code",
   "execution_count": 5,
   "metadata": {
    "collapsed": false
   },
   "outputs": [],
   "source": [
    "learning_coils = [0,1,28,44,8,9]\n",
    "testing_coils = list(set(range(88)) - set(learning_coils) - set({31}))"
   ]
  },
  {
   "cell_type": "code",
   "execution_count": 21,
   "metadata": {
    "collapsed": true
   },
   "outputs": [],
   "source": [
    "def concat_df(coil_list):\n",
    "    big_df = mpd.importPeak(coil_list[0]).dropna()\n",
    "    for coil in coil_list[1:]:\n",
    "        df = mpd.importPeak(coil).dropna()\n",
    "        big_df = pd.concat([big_df, df], ignore_index=True)\n",
    "    return big_df"
   ]
  },
  {
   "cell_type": "code",
   "execution_count": 23,
   "metadata": {
    "collapsed": false
   },
   "outputs": [
    {
     "data": {
      "text/plain": [
       "19"
      ]
     },
     "execution_count": 23,
     "metadata": {},
     "output_type": "execute_result"
    }
   ],
   "source": [
    "len(df[df.sticking==True])"
   ]
  },
  {
   "cell_type": "code",
   "execution_count": 20,
   "metadata": {
    "collapsed": false
   },
   "outputs": [
    {
     "ename": "TypeError",
     "evalue": "'numpy.int64' object is not callable",
     "output_type": "error",
     "traceback": [
      "\u001b[0;31m---------------------------------------------------------------------------\u001b[0m",
      "\u001b[0;31mTypeError\u001b[0m                                 Traceback (most recent call last)",
      "\u001b[0;32m<ipython-input-20-37fe2cb46b95>\u001b[0m in \u001b[0;36m<module>\u001b[0;34m()\u001b[0m\n\u001b[1;32m      2\u001b[0m \u001b[0mnon_sticking_index\u001b[0m \u001b[0;34m=\u001b[0m \u001b[0mlist\u001b[0m\u001b[0;34m(\u001b[0m\u001b[0mdf\u001b[0m\u001b[0;34m[\u001b[0m\u001b[0mdf\u001b[0m\u001b[0;34m.\u001b[0m\u001b[0msticking\u001b[0m\u001b[0;34m==\u001b[0m\u001b[0mFalse\u001b[0m\u001b[0;34m]\u001b[0m\u001b[0;34m.\u001b[0m\u001b[0mindex\u001b[0m\u001b[0;34m)\u001b[0m\u001b[0;34m\u001b[0m\u001b[0m\n\u001b[1;32m      3\u001b[0m \u001b[0mgroup_of_items\u001b[0m \u001b[0;34m=\u001b[0m \u001b[0mnon_sticking_index\u001b[0m               \u001b[0;31m# a sequence or set will work here.\u001b[0m\u001b[0;34m\u001b[0m\u001b[0m\n\u001b[0;32m----> 4\u001b[0;31m \u001b[0mnum_to_select\u001b[0m \u001b[0;34m=\u001b[0m \u001b[0mdf\u001b[0m\u001b[0;34m[\u001b[0m\u001b[0mdf\u001b[0m\u001b[0;34m.\u001b[0m\u001b[0msticking\u001b[0m\u001b[0;34m==\u001b[0m\u001b[0mTrue\u001b[0m\u001b[0;34m]\u001b[0m\u001b[0;34m.\u001b[0m\u001b[0msize\u001b[0m\u001b[0;34m(\u001b[0m\u001b[0;34m)\u001b[0m                           \u001b[0;31m# set the number to select here.\u001b[0m\u001b[0;34m\u001b[0m\u001b[0m\n\u001b[0m\u001b[1;32m      5\u001b[0m \u001b[0mlist_of_random_items\u001b[0m \u001b[0;34m=\u001b[0m \u001b[0mrandom\u001b[0m\u001b[0;34m.\u001b[0m\u001b[0msample\u001b[0m\u001b[0;34m(\u001b[0m\u001b[0mgroup_of_items\u001b[0m\u001b[0;34m,\u001b[0m \u001b[0mnum_to_select\u001b[0m\u001b[0;34m)\u001b[0m\u001b[0;34m\u001b[0m\u001b[0m\n\u001b[1;32m      6\u001b[0m \u001b[0mlist_of_random_items\u001b[0m\u001b[0;34m\u001b[0m\u001b[0m\n",
      "\u001b[0;31mTypeError\u001b[0m: 'numpy.int64' object is not callable"
     ]
    }
   ],
   "source": [
    "df = concat_df(learning_coils)\n",
    "non_sticking_index = list(df[df.sticking==False].index)\n",
    "group_of_items = non_sticking_index               # a sequence or set will work here.\n",
    "num_to_select = len(df[df.sticking==True])        # set the number to select here.\n",
    "list_of_random_items = random.sample(group_of_items, num_to_select)\n",
    "list_of_random_items"
   ]
  },
  {
   "cell_type": "code",
   "execution_count": 18,
   "metadata": {
    "collapsed": false
   },
   "outputs": [],
   "source": [
    "df = mpd.importPeak(28).dropna()"
   ]
  },
  {
   "cell_type": "code",
   "execution_count": 33,
   "metadata": {
    "collapsed": false
   },
   "outputs": [
    {
     "data": {
      "text/plain": [
       "array(['Ximf0', 'Ximf1', 'Ximf2', 'Yimf0', 'Yimf1', 'Yimf2', 'coil',\n",
       "       'speed', 'sticking', 'thickness', 'time_begin', 'time_end'], dtype=object)"
      ]
     },
     "execution_count": 33,
     "metadata": {},
     "output_type": "execute_result"
    }
   ],
   "source": [
    "df.columns.values"
   ]
  },
  {
   "cell_type": "code",
   "execution_count": 4,
   "metadata": {
    "collapsed": false
   },
   "outputs": [],
   "source": [
    "def create_XY_df(coil_list):\n",
    "    feature_col = ['Ximf0', 'Ximf1', 'Ximf2', 'Yimf0', 'Yimf1', 'Yimf2', 'thickness', 'speed']\n",
    "    X = pd.DataFrame(columns=feature_col)\n",
    "    Y = pd.DataFrame(columns=['sticking'])\n",
    "    for coil in coil_list:\n",
    "        df = mpd.importPeak(coil).dropna()\n",
    "        X = X.append(df[feature_col])\n",
    "        Y = Y.append(df[['sticking']])\n",
    "    X_out = X.values\n",
    "    Y_out = np.array(Y.sticking.values[:], dtype=bool)\n",
    "    return X,Y\n",
    "\n",
    "def create_XY(coil_list):\n",
    "    X, Y = create_XY_df(coil_list)\n",
    "    X_out = X.values\n",
    "    Y_out = np.array(Y.sticking.values[:], dtype=bool)\n",
    "    return X_out, Y_out"
   ]
  },
  {
   "cell_type": "code",
   "execution_count": 5,
   "metadata": {
    "collapsed": false
   },
   "outputs": [
    {
     "data": {
      "text/plain": [
       "((169, 8), (169,))"
      ]
     },
     "execution_count": 5,
     "metadata": {},
     "output_type": "execute_result"
    }
   ],
   "source": [
    "learning_coils = [0,1,28,44,8,9]\n",
    "X_train, Y_train = create_XY(learn_list)\n",
    "X_train.shape, Y_train.shape"
   ]
  },
  {
   "cell_type": "code",
   "execution_count": 6,
   "metadata": {
    "collapsed": false
   },
   "outputs": [],
   "source": [
    "from sklearn import tree\n",
    "clf = tree.DecisionTreeClassifier()\n",
    "clf = clf.fit(X_train, Y_train)"
   ]
  },
  {
   "cell_type": "code",
   "execution_count": null,
   "metadata": {
    "collapsed": false
   },
   "outputs": [],
   "source": [
    "coil_list = [54,27,10,11,6,7,19]\n",
    "coil_list = range(2,8)+range(10,28)+range(32,44)+range(45,88)\n",
    "X_test, Y_true = create_XY(coil_list)\n",
    "Y_predict = clf.predict(X_test)"
   ]
  },
  {
   "cell_type": "code",
   "execution_count": null,
   "metadata": {
    "collapsed": false
   },
   "outputs": [],
   "source": [
    "from sklearn import metrics\n",
    "m = metrics.confusion_matrix(Y_true, Y_predict, labels=[True, False])\n",
    "m"
   ]
  },
  {
   "cell_type": "code",
   "execution_count": null,
   "metadata": {
    "collapsed": false
   },
   "outputs": [],
   "source": [
    "coil_list = [54,27,10,11,6,7,19,20,21,33]\n",
    "testing_coils = range(2,8)+range(10,28)+range(32,44)+range(45,88)\n",
    "sum_true = []\n",
    "sum_predict = []\n",
    "for coil in test_list:\n",
    "    X_test, Y_true = create_XY([coil])\n",
    "    Y_predict = clf.predict(X_test)\n",
    "    sum_true.append(sum(Y_true))\n",
    "    sum_predict.append(sum(Y_predict))\n",
    "len(sum_true)"
   ]
  },
  {
   "cell_type": "code",
   "execution_count": null,
   "metadata": {
    "collapsed": false
   },
   "outputs": [],
   "source": [
    "diff = np.abs(np.array(sum_true)-np.array(sum_predict))\n",
    "sum(diff<=5)*1./len(diff)*100"
   ]
  },
  {
   "cell_type": "code",
   "execution_count": null,
   "metadata": {
    "collapsed": true
   },
   "outputs": [],
   "source": [
    "x = sum_true\n",
    "y = sum_predict\n",
    "bins = range(len(sum_true))\n",
    "plt.figure(figsize=(16,9))\n",
    "plt.bar(bins, x, alpha=0.5, label='Truth')\n",
    "plt.bar(bins, y, alpha=0.5, label='Prediction', color='g')\n",
    "plt.legend(loc='upper right')\n",
    "plt.xlabel('Coil')\n",
    "plt.ylabel('Number of sticking sequences')\n",
    "plt.title('Learning coils '+str(learn_list)+' with confusion matrix \\n'+str(m))\n",
    "plt.show()\n",
    "plt.savefig('./images/bars/learning'+str(learn_list)+'.png')"
   ]
  },
  {
   "cell_type": "code",
   "execution_count": null,
   "metadata": {
    "collapsed": false
   },
   "outputs": [],
   "source": [
    "is_sticking = np.greater(sum_true,0)\n",
    "is_predicted = np.greater(sum_predict,1)"
   ]
  },
  {
   "cell_type": "code",
   "execution_count": null,
   "metadata": {
    "collapsed": false
   },
   "outputs": [],
   "source": [
    "m = metrics.confusion_matrix(is_sticking, is_predicted, labels=[True, False])\n",
    "m"
   ]
  },
  {
   "cell_type": "code",
   "execution_count": null,
   "metadata": {
    "collapsed": true
   },
   "outputs": [],
   "source": [
    "x = is_sticking==is_predicted\n",
    "y = is_predicted\n",
    "bins = range(len(sum_true))\n",
    "plt.figure(figsize=(16,9))\n",
    "plt.bar(bins, x, alpha=0.5, label='Truth')\n",
    "#plt.bar(bins, y, alpha=0.5, label='Prediction', color='g')\n",
    "plt.legend(loc='upper right')\n",
    "plt.xlabel('Coil')\n",
    "plt.ylabel('Sticking label')\n",
    "plt.title('Learning coils '+str(learn_list)+' with confusion matrix \\n'+str(m))\n",
    "plt.show()\n",
    "plt.savefig('./images/bars/prediction '+str(learn_list)+'.png')"
   ]
  },
  {
   "cell_type": "code",
   "execution_count": null,
   "metadata": {
    "collapsed": false
   },
   "outputs": [],
   "source": [
    "def plot_confusion_matrix(cm, title='Confusion matrix', cmap=plt.cm.Blues):\n",
    "    plt.imshow(cm, interpolation='nearest', cmap=cmap)\n",
    "    plt.title(title)\n",
    "    plt.colorbar()\n",
    "    #tick_marks = np.arange(len(iris.target_names))\n",
    "    #plt.xticks(tick_marks, iris.target_names, rotation=45)\n",
    "    #plt.yticks(tick_marks, iris.target_names)\n",
    "    plt.tight_layout()\n",
    "    plt.ylabel('True label')\n",
    "    plt.xlabel('Predicted label')"
   ]
  },
  {
   "cell_type": "code",
   "execution_count": null,
   "metadata": {
    "collapsed": false
   },
   "outputs": [],
   "source": [
    "plot_confusion_matrix(m)"
   ]
  },
  {
   "cell_type": "code",
   "execution_count": 5,
   "metadata": {
    "collapsed": false
   },
   "outputs": [
    {
     "ename": "KeyError",
     "evalue": "False",
     "output_type": "error",
     "traceback": [
      "\u001b[0;31m---------------------------------------------------------------------------\u001b[0m",
      "\u001b[0;31mKeyError\u001b[0m                                  Traceback (most recent call last)",
      "\u001b[0;32m<ipython-input-5-404df2a639c6>\u001b[0m in \u001b[0;36m<module>\u001b[0;34m()\u001b[0m\n\u001b[0;32m----> 1\u001b[0;31m \u001b[0mdf\u001b[0m\u001b[0;34m[\u001b[0m\u001b[0;34m'sticking'\u001b[0m\u001b[0;34m==\u001b[0m\u001b[0mTrue\u001b[0m\u001b[0;34m]\u001b[0m\u001b[0;34m\u001b[0m\u001b[0m\n\u001b[0m",
      "\u001b[0;32m/Library/Frameworks/Python.framework/Versions/2.7/lib/python2.7/site-packages/pandas/core/frame.pyc\u001b[0m in \u001b[0;36m__getitem__\u001b[0;34m(self, key)\u001b[0m\n\u001b[1;32m   1995\u001b[0m             \u001b[0;32mreturn\u001b[0m \u001b[0mself\u001b[0m\u001b[0;34m.\u001b[0m\u001b[0m_getitem_multilevel\u001b[0m\u001b[0;34m(\u001b[0m\u001b[0mkey\u001b[0m\u001b[0;34m)\u001b[0m\u001b[0;34m\u001b[0m\u001b[0m\n\u001b[1;32m   1996\u001b[0m         \u001b[0;32melse\u001b[0m\u001b[0;34m:\u001b[0m\u001b[0;34m\u001b[0m\u001b[0m\n\u001b[0;32m-> 1997\u001b[0;31m             \u001b[0;32mreturn\u001b[0m \u001b[0mself\u001b[0m\u001b[0;34m.\u001b[0m\u001b[0m_getitem_column\u001b[0m\u001b[0;34m(\u001b[0m\u001b[0mkey\u001b[0m\u001b[0;34m)\u001b[0m\u001b[0;34m\u001b[0m\u001b[0m\n\u001b[0m\u001b[1;32m   1998\u001b[0m \u001b[0;34m\u001b[0m\u001b[0m\n\u001b[1;32m   1999\u001b[0m     \u001b[0;32mdef\u001b[0m \u001b[0m_getitem_column\u001b[0m\u001b[0;34m(\u001b[0m\u001b[0mself\u001b[0m\u001b[0;34m,\u001b[0m \u001b[0mkey\u001b[0m\u001b[0;34m)\u001b[0m\u001b[0;34m:\u001b[0m\u001b[0;34m\u001b[0m\u001b[0m\n",
      "\u001b[0;32m/Library/Frameworks/Python.framework/Versions/2.7/lib/python2.7/site-packages/pandas/core/frame.pyc\u001b[0m in \u001b[0;36m_getitem_column\u001b[0;34m(self, key)\u001b[0m\n\u001b[1;32m   2002\u001b[0m         \u001b[0;31m# get column\u001b[0m\u001b[0;34m\u001b[0m\u001b[0;34m\u001b[0m\u001b[0m\n\u001b[1;32m   2003\u001b[0m         \u001b[0;32mif\u001b[0m \u001b[0mself\u001b[0m\u001b[0;34m.\u001b[0m\u001b[0mcolumns\u001b[0m\u001b[0;34m.\u001b[0m\u001b[0mis_unique\u001b[0m\u001b[0;34m:\u001b[0m\u001b[0;34m\u001b[0m\u001b[0m\n\u001b[0;32m-> 2004\u001b[0;31m             \u001b[0;32mreturn\u001b[0m \u001b[0mself\u001b[0m\u001b[0;34m.\u001b[0m\u001b[0m_get_item_cache\u001b[0m\u001b[0;34m(\u001b[0m\u001b[0mkey\u001b[0m\u001b[0;34m)\u001b[0m\u001b[0;34m\u001b[0m\u001b[0m\n\u001b[0m\u001b[1;32m   2005\u001b[0m \u001b[0;34m\u001b[0m\u001b[0m\n\u001b[1;32m   2006\u001b[0m         \u001b[0;31m# duplicate columns & possible reduce dimensionality\u001b[0m\u001b[0;34m\u001b[0m\u001b[0;34m\u001b[0m\u001b[0m\n",
      "\u001b[0;32m/Library/Frameworks/Python.framework/Versions/2.7/lib/python2.7/site-packages/pandas/core/generic.pyc\u001b[0m in \u001b[0;36m_get_item_cache\u001b[0;34m(self, item)\u001b[0m\n\u001b[1;32m   1348\u001b[0m         \u001b[0mres\u001b[0m \u001b[0;34m=\u001b[0m \u001b[0mcache\u001b[0m\u001b[0;34m.\u001b[0m\u001b[0mget\u001b[0m\u001b[0;34m(\u001b[0m\u001b[0mitem\u001b[0m\u001b[0;34m)\u001b[0m\u001b[0;34m\u001b[0m\u001b[0m\n\u001b[1;32m   1349\u001b[0m         \u001b[0;32mif\u001b[0m \u001b[0mres\u001b[0m \u001b[0;32mis\u001b[0m \u001b[0mNone\u001b[0m\u001b[0;34m:\u001b[0m\u001b[0;34m\u001b[0m\u001b[0m\n\u001b[0;32m-> 1350\u001b[0;31m             \u001b[0mvalues\u001b[0m \u001b[0;34m=\u001b[0m \u001b[0mself\u001b[0m\u001b[0;34m.\u001b[0m\u001b[0m_data\u001b[0m\u001b[0;34m.\u001b[0m\u001b[0mget\u001b[0m\u001b[0;34m(\u001b[0m\u001b[0mitem\u001b[0m\u001b[0;34m)\u001b[0m\u001b[0;34m\u001b[0m\u001b[0m\n\u001b[0m\u001b[1;32m   1351\u001b[0m             \u001b[0mres\u001b[0m \u001b[0;34m=\u001b[0m \u001b[0mself\u001b[0m\u001b[0;34m.\u001b[0m\u001b[0m_box_item_values\u001b[0m\u001b[0;34m(\u001b[0m\u001b[0mitem\u001b[0m\u001b[0;34m,\u001b[0m \u001b[0mvalues\u001b[0m\u001b[0;34m)\u001b[0m\u001b[0;34m\u001b[0m\u001b[0m\n\u001b[1;32m   1352\u001b[0m             \u001b[0mcache\u001b[0m\u001b[0;34m[\u001b[0m\u001b[0mitem\u001b[0m\u001b[0;34m]\u001b[0m \u001b[0;34m=\u001b[0m \u001b[0mres\u001b[0m\u001b[0;34m\u001b[0m\u001b[0m\n",
      "\u001b[0;32m/Library/Frameworks/Python.framework/Versions/2.7/lib/python2.7/site-packages/pandas/core/internals.pyc\u001b[0m in \u001b[0;36mget\u001b[0;34m(self, item, fastpath)\u001b[0m\n\u001b[1;32m   3288\u001b[0m \u001b[0;34m\u001b[0m\u001b[0m\n\u001b[1;32m   3289\u001b[0m             \u001b[0;32mif\u001b[0m \u001b[0;32mnot\u001b[0m \u001b[0misnull\u001b[0m\u001b[0;34m(\u001b[0m\u001b[0mitem\u001b[0m\u001b[0;34m)\u001b[0m\u001b[0;34m:\u001b[0m\u001b[0;34m\u001b[0m\u001b[0m\n\u001b[0;32m-> 3290\u001b[0;31m                 \u001b[0mloc\u001b[0m \u001b[0;34m=\u001b[0m \u001b[0mself\u001b[0m\u001b[0;34m.\u001b[0m\u001b[0mitems\u001b[0m\u001b[0;34m.\u001b[0m\u001b[0mget_loc\u001b[0m\u001b[0;34m(\u001b[0m\u001b[0mitem\u001b[0m\u001b[0;34m)\u001b[0m\u001b[0;34m\u001b[0m\u001b[0m\n\u001b[0m\u001b[1;32m   3291\u001b[0m             \u001b[0;32melse\u001b[0m\u001b[0;34m:\u001b[0m\u001b[0;34m\u001b[0m\u001b[0m\n\u001b[1;32m   3292\u001b[0m                 \u001b[0mindexer\u001b[0m \u001b[0;34m=\u001b[0m \u001b[0mnp\u001b[0m\u001b[0;34m.\u001b[0m\u001b[0marange\u001b[0m\u001b[0;34m(\u001b[0m\u001b[0mlen\u001b[0m\u001b[0;34m(\u001b[0m\u001b[0mself\u001b[0m\u001b[0;34m.\u001b[0m\u001b[0mitems\u001b[0m\u001b[0;34m)\u001b[0m\u001b[0;34m)\u001b[0m\u001b[0;34m[\u001b[0m\u001b[0misnull\u001b[0m\u001b[0;34m(\u001b[0m\u001b[0mself\u001b[0m\u001b[0;34m.\u001b[0m\u001b[0mitems\u001b[0m\u001b[0;34m)\u001b[0m\u001b[0;34m]\u001b[0m\u001b[0;34m\u001b[0m\u001b[0m\n",
      "\u001b[0;32m/Library/Frameworks/Python.framework/Versions/2.7/lib/python2.7/site-packages/pandas/indexes/base.pyc\u001b[0m in \u001b[0;36mget_loc\u001b[0;34m(self, key, method, tolerance)\u001b[0m\n\u001b[1;32m   1945\u001b[0m                 \u001b[0;32mreturn\u001b[0m \u001b[0mself\u001b[0m\u001b[0;34m.\u001b[0m\u001b[0m_engine\u001b[0m\u001b[0;34m.\u001b[0m\u001b[0mget_loc\u001b[0m\u001b[0;34m(\u001b[0m\u001b[0mkey\u001b[0m\u001b[0;34m)\u001b[0m\u001b[0;34m\u001b[0m\u001b[0m\n\u001b[1;32m   1946\u001b[0m             \u001b[0;32mexcept\u001b[0m \u001b[0mKeyError\u001b[0m\u001b[0;34m:\u001b[0m\u001b[0;34m\u001b[0m\u001b[0m\n\u001b[0;32m-> 1947\u001b[0;31m                 \u001b[0;32mreturn\u001b[0m \u001b[0mself\u001b[0m\u001b[0;34m.\u001b[0m\u001b[0m_engine\u001b[0m\u001b[0;34m.\u001b[0m\u001b[0mget_loc\u001b[0m\u001b[0;34m(\u001b[0m\u001b[0mself\u001b[0m\u001b[0;34m.\u001b[0m\u001b[0m_maybe_cast_indexer\u001b[0m\u001b[0;34m(\u001b[0m\u001b[0mkey\u001b[0m\u001b[0;34m)\u001b[0m\u001b[0;34m)\u001b[0m\u001b[0;34m\u001b[0m\u001b[0m\n\u001b[0m\u001b[1;32m   1948\u001b[0m \u001b[0;34m\u001b[0m\u001b[0m\n\u001b[1;32m   1949\u001b[0m         \u001b[0mindexer\u001b[0m \u001b[0;34m=\u001b[0m \u001b[0mself\u001b[0m\u001b[0;34m.\u001b[0m\u001b[0mget_indexer\u001b[0m\u001b[0;34m(\u001b[0m\u001b[0;34m[\u001b[0m\u001b[0mkey\u001b[0m\u001b[0;34m]\u001b[0m\u001b[0;34m,\u001b[0m \u001b[0mmethod\u001b[0m\u001b[0;34m=\u001b[0m\u001b[0mmethod\u001b[0m\u001b[0;34m,\u001b[0m \u001b[0mtolerance\u001b[0m\u001b[0;34m=\u001b[0m\u001b[0mtolerance\u001b[0m\u001b[0;34m)\u001b[0m\u001b[0;34m\u001b[0m\u001b[0m\n",
      "\u001b[0;32mpandas/index.pyx\u001b[0m in \u001b[0;36mpandas.index.IndexEngine.get_loc (pandas/index.c:4154)\u001b[0;34m()\u001b[0m\n",
      "\u001b[0;32mpandas/index.pyx\u001b[0m in \u001b[0;36mpandas.index.IndexEngine.get_loc (pandas/index.c:4018)\u001b[0;34m()\u001b[0m\n",
      "\u001b[0;32mpandas/hashtable.pyx\u001b[0m in \u001b[0;36mpandas.hashtable.PyObjectHashTable.get_item (pandas/hashtable.c:12368)\u001b[0;34m()\u001b[0m\n",
      "\u001b[0;32mpandas/hashtable.pyx\u001b[0m in \u001b[0;36mpandas.hashtable.PyObjectHashTable.get_item (pandas/hashtable.c:12322)\u001b[0;34m()\u001b[0m\n",
      "\u001b[0;31mKeyError\u001b[0m: False"
     ]
    }
   ],
   "source": [
    "df['sticking'==True]"
   ]
  },
  {
   "cell_type": "code",
   "execution_count": 9,
   "metadata": {
    "collapsed": false
   },
   "outputs": [
    {
     "data": {
      "text/html": [
       "<div>\n",
       "<table border=\"1\" class=\"dataframe\">\n",
       "  <thead>\n",
       "    <tr style=\"text-align: right;\">\n",
       "      <th></th>\n",
       "      <th>Ximf0</th>\n",
       "      <th>Ximf1</th>\n",
       "      <th>Ximf2</th>\n",
       "      <th>Yimf0</th>\n",
       "      <th>Yimf1</th>\n",
       "      <th>Yimf2</th>\n",
       "      <th>coil</th>\n",
       "      <th>speed</th>\n",
       "      <th>sticking</th>\n",
       "      <th>thickness</th>\n",
       "      <th>time_begin</th>\n",
       "      <th>time_end</th>\n",
       "    </tr>\n",
       "  </thead>\n",
       "  <tbody>\n",
       "    <tr>\n",
       "      <th>0</th>\n",
       "      <td>2.40024</td>\n",
       "      <td>5.20052</td>\n",
       "      <td>4.00040</td>\n",
       "      <td>4.989267</td>\n",
       "      <td>4.644295</td>\n",
       "      <td>4.274771</td>\n",
       "      <td>28</td>\n",
       "      <td>745.409568</td>\n",
       "      <td>False</td>\n",
       "      <td>0.7</td>\n",
       "      <td>60.0</td>\n",
       "      <td>64.0</td>\n",
       "    </tr>\n",
       "    <tr>\n",
       "      <th>26</th>\n",
       "      <td>5.60056</td>\n",
       "      <td>5.60056</td>\n",
       "      <td>4.40044</td>\n",
       "      <td>4.338042</td>\n",
       "      <td>6.884889</td>\n",
       "      <td>8.322976</td>\n",
       "      <td>28</td>\n",
       "      <td>1198.927972</td>\n",
       "      <td>False</td>\n",
       "      <td>0.7</td>\n",
       "      <td>164.0</td>\n",
       "      <td>168.0</td>\n",
       "    </tr>\n",
       "    <tr>\n",
       "      <th>25</th>\n",
       "      <td>5.60056</td>\n",
       "      <td>9.20092</td>\n",
       "      <td>5.60056</td>\n",
       "      <td>1.562934</td>\n",
       "      <td>1.488672</td>\n",
       "      <td>18.019057</td>\n",
       "      <td>28</td>\n",
       "      <td>1198.983047</td>\n",
       "      <td>False</td>\n",
       "      <td>0.7</td>\n",
       "      <td>160.0</td>\n",
       "      <td>164.0</td>\n",
       "    </tr>\n",
       "    <tr>\n",
       "      <th>24</th>\n",
       "      <td>5.20052</td>\n",
       "      <td>5.20052</td>\n",
       "      <td>5.20052</td>\n",
       "      <td>5.275145</td>\n",
       "      <td>6.145575</td>\n",
       "      <td>19.900287</td>\n",
       "      <td>28</td>\n",
       "      <td>1198.936274</td>\n",
       "      <td>False</td>\n",
       "      <td>0.7</td>\n",
       "      <td>156.0</td>\n",
       "      <td>160.0</td>\n",
       "    </tr>\n",
       "    <tr>\n",
       "      <th>23</th>\n",
       "      <td>5.20052</td>\n",
       "      <td>5.20052</td>\n",
       "      <td>2.40024</td>\n",
       "      <td>3.361277</td>\n",
       "      <td>3.474023</td>\n",
       "      <td>4.375157</td>\n",
       "      <td>28</td>\n",
       "      <td>1198.600974</td>\n",
       "      <td>False</td>\n",
       "      <td>0.7</td>\n",
       "      <td>152.0</td>\n",
       "      <td>156.0</td>\n",
       "    </tr>\n",
       "    <tr>\n",
       "      <th>22</th>\n",
       "      <td>5.20052</td>\n",
       "      <td>5.20052</td>\n",
       "      <td>5.20052</td>\n",
       "      <td>4.743751</td>\n",
       "      <td>7.790671</td>\n",
       "      <td>4.510139</td>\n",
       "      <td>28</td>\n",
       "      <td>1198.787357</td>\n",
       "      <td>False</td>\n",
       "      <td>0.7</td>\n",
       "      <td>148.0</td>\n",
       "      <td>152.0</td>\n",
       "    </tr>\n",
       "    <tr>\n",
       "      <th>27</th>\n",
       "      <td>5.60056</td>\n",
       "      <td>4.40044</td>\n",
       "      <td>3.20032</td>\n",
       "      <td>1.354235</td>\n",
       "      <td>3.340101</td>\n",
       "      <td>5.385209</td>\n",
       "      <td>28</td>\n",
       "      <td>1198.487337</td>\n",
       "      <td>False</td>\n",
       "      <td>0.7</td>\n",
       "      <td>168.0</td>\n",
       "      <td>172.0</td>\n",
       "    </tr>\n",
       "    <tr>\n",
       "      <th>8</th>\n",
       "      <td>8.00080</td>\n",
       "      <td>4.00040</td>\n",
       "      <td>4.00040</td>\n",
       "      <td>1.767789</td>\n",
       "      <td>10.259093</td>\n",
       "      <td>6.339132</td>\n",
       "      <td>28</td>\n",
       "      <td>1198.419008</td>\n",
       "      <td>False</td>\n",
       "      <td>0.7</td>\n",
       "      <td>92.0</td>\n",
       "      <td>96.0</td>\n",
       "    </tr>\n",
       "    <tr>\n",
       "      <th>28</th>\n",
       "      <td>6.00060</td>\n",
       "      <td>9.20092</td>\n",
       "      <td>6.00060</td>\n",
       "      <td>4.763023</td>\n",
       "      <td>4.694484</td>\n",
       "      <td>4.143596</td>\n",
       "      <td>28</td>\n",
       "      <td>1199.115788</td>\n",
       "      <td>False</td>\n",
       "      <td>0.7</td>\n",
       "      <td>172.0</td>\n",
       "      <td>176.0</td>\n",
       "    </tr>\n",
       "    <tr>\n",
       "      <th>1</th>\n",
       "      <td>2.00020</td>\n",
       "      <td>6.00060</td>\n",
       "      <td>4.40044</td>\n",
       "      <td>14.746767</td>\n",
       "      <td>4.816534</td>\n",
       "      <td>5.081753</td>\n",
       "      <td>28</td>\n",
       "      <td>840.895968</td>\n",
       "      <td>False</td>\n",
       "      <td>0.7</td>\n",
       "      <td>64.0</td>\n",
       "      <td>68.0</td>\n",
       "    </tr>\n",
       "    <tr>\n",
       "      <th>2</th>\n",
       "      <td>2.00020</td>\n",
       "      <td>2.00020</td>\n",
       "      <td>6.80068</td>\n",
       "      <td>5.016284</td>\n",
       "      <td>3.573306</td>\n",
       "      <td>2.816386</td>\n",
       "      <td>28</td>\n",
       "      <td>936.384421</td>\n",
       "      <td>False</td>\n",
       "      <td>0.7</td>\n",
       "      <td>68.0</td>\n",
       "      <td>72.0</td>\n",
       "    </tr>\n",
       "    <tr>\n",
       "      <th>3</th>\n",
       "      <td>6.40064</td>\n",
       "      <td>6.40064</td>\n",
       "      <td>6.40064</td>\n",
       "      <td>6.405078</td>\n",
       "      <td>4.418592</td>\n",
       "      <td>3.990019</td>\n",
       "      <td>28</td>\n",
       "      <td>1032.000024</td>\n",
       "      <td>False</td>\n",
       "      <td>0.7</td>\n",
       "      <td>72.0</td>\n",
       "      <td>76.0</td>\n",
       "    </tr>\n",
       "    <tr>\n",
       "      <th>4</th>\n",
       "      <td>2.00020</td>\n",
       "      <td>2.00020</td>\n",
       "      <td>2.00020</td>\n",
       "      <td>22.992296</td>\n",
       "      <td>7.079908</td>\n",
       "      <td>16.370910</td>\n",
       "      <td>28</td>\n",
       "      <td>1128.649811</td>\n",
       "      <td>False</td>\n",
       "      <td>0.7</td>\n",
       "      <td>76.0</td>\n",
       "      <td>80.0</td>\n",
       "    </tr>\n",
       "    <tr>\n",
       "      <th>6</th>\n",
       "      <td>7.60076</td>\n",
       "      <td>4.00040</td>\n",
       "      <td>4.00040</td>\n",
       "      <td>2.032534</td>\n",
       "      <td>4.405580</td>\n",
       "      <td>3.983987</td>\n",
       "      <td>28</td>\n",
       "      <td>1198.495449</td>\n",
       "      <td>False</td>\n",
       "      <td>0.7</td>\n",
       "      <td>84.0</td>\n",
       "      <td>88.0</td>\n",
       "    </tr>\n",
       "    <tr>\n",
       "      <th>5</th>\n",
       "      <td>4.80048</td>\n",
       "      <td>6.40064</td>\n",
       "      <td>4.40044</td>\n",
       "      <td>7.423906</td>\n",
       "      <td>3.046025</td>\n",
       "      <td>4.758308</td>\n",
       "      <td>28</td>\n",
       "      <td>1195.260608</td>\n",
       "      <td>False</td>\n",
       "      <td>0.7</td>\n",
       "      <td>80.0</td>\n",
       "      <td>84.0</td>\n",
       "    </tr>\n",
       "    <tr>\n",
       "      <th>7</th>\n",
       "      <td>4.00040</td>\n",
       "      <td>4.00040</td>\n",
       "      <td>4.00040</td>\n",
       "      <td>6.888815</td>\n",
       "      <td>3.057100</td>\n",
       "      <td>6.262381</td>\n",
       "      <td>28</td>\n",
       "      <td>1198.417696</td>\n",
       "      <td>False</td>\n",
       "      <td>0.7</td>\n",
       "      <td>88.0</td>\n",
       "      <td>92.0</td>\n",
       "    </tr>\n",
       "    <tr>\n",
       "      <th>9</th>\n",
       "      <td>1.60016</td>\n",
       "      <td>4.00040</td>\n",
       "      <td>4.00040</td>\n",
       "      <td>2.159633</td>\n",
       "      <td>15.810453</td>\n",
       "      <td>15.122418</td>\n",
       "      <td>28</td>\n",
       "      <td>1198.821656</td>\n",
       "      <td>True</td>\n",
       "      <td>0.7</td>\n",
       "      <td>96.0</td>\n",
       "      <td>100.0</td>\n",
       "    </tr>\n",
       "    <tr>\n",
       "      <th>21</th>\n",
       "      <td>4.80048</td>\n",
       "      <td>4.80048</td>\n",
       "      <td>4.80048</td>\n",
       "      <td>3.923754</td>\n",
       "      <td>8.015999</td>\n",
       "      <td>10.606767</td>\n",
       "      <td>28</td>\n",
       "      <td>1198.711054</td>\n",
       "      <td>True</td>\n",
       "      <td>0.7</td>\n",
       "      <td>144.0</td>\n",
       "      <td>148.0</td>\n",
       "    </tr>\n",
       "    <tr>\n",
       "      <th>20</th>\n",
       "      <td>4.80048</td>\n",
       "      <td>4.80048</td>\n",
       "      <td>4.80048</td>\n",
       "      <td>8.203128</td>\n",
       "      <td>19.671147</td>\n",
       "      <td>22.624756</td>\n",
       "      <td>28</td>\n",
       "      <td>1198.515368</td>\n",
       "      <td>True</td>\n",
       "      <td>0.7</td>\n",
       "      <td>140.0</td>\n",
       "      <td>144.0</td>\n",
       "    </tr>\n",
       "    <tr>\n",
       "      <th>18</th>\n",
       "      <td>4.80048</td>\n",
       "      <td>4.80048</td>\n",
       "      <td>4.80048</td>\n",
       "      <td>29.234668</td>\n",
       "      <td>40.199838</td>\n",
       "      <td>33.378514</td>\n",
       "      <td>28</td>\n",
       "      <td>1198.440737</td>\n",
       "      <td>True</td>\n",
       "      <td>0.7</td>\n",
       "      <td>132.0</td>\n",
       "      <td>136.0</td>\n",
       "    </tr>\n",
       "    <tr>\n",
       "      <th>17</th>\n",
       "      <td>4.40044</td>\n",
       "      <td>4.40044</td>\n",
       "      <td>4.40044</td>\n",
       "      <td>24.043322</td>\n",
       "      <td>29.454904</td>\n",
       "      <td>19.014721</td>\n",
       "      <td>28</td>\n",
       "      <td>1199.166710</td>\n",
       "      <td>True</td>\n",
       "      <td>0.7</td>\n",
       "      <td>128.0</td>\n",
       "      <td>132.0</td>\n",
       "    </tr>\n",
       "    <tr>\n",
       "      <th>16</th>\n",
       "      <td>4.40044</td>\n",
       "      <td>4.40044</td>\n",
       "      <td>4.40044</td>\n",
       "      <td>115.501039</td>\n",
       "      <td>79.607110</td>\n",
       "      <td>49.700903</td>\n",
       "      <td>28</td>\n",
       "      <td>1198.794881</td>\n",
       "      <td>True</td>\n",
       "      <td>0.7</td>\n",
       "      <td>124.0</td>\n",
       "      <td>128.0</td>\n",
       "    </tr>\n",
       "    <tr>\n",
       "      <th>15</th>\n",
       "      <td>4.40044</td>\n",
       "      <td>4.40044</td>\n",
       "      <td>4.40044</td>\n",
       "      <td>145.172464</td>\n",
       "      <td>93.376179</td>\n",
       "      <td>53.927594</td>\n",
       "      <td>28</td>\n",
       "      <td>1198.797159</td>\n",
       "      <td>True</td>\n",
       "      <td>0.7</td>\n",
       "      <td>120.0</td>\n",
       "      <td>124.0</td>\n",
       "    </tr>\n",
       "    <tr>\n",
       "      <th>13</th>\n",
       "      <td>4.40044</td>\n",
       "      <td>4.40044</td>\n",
       "      <td>4.40044</td>\n",
       "      <td>68.611115</td>\n",
       "      <td>70.142810</td>\n",
       "      <td>57.679230</td>\n",
       "      <td>28</td>\n",
       "      <td>1198.534788</td>\n",
       "      <td>True</td>\n",
       "      <td>0.7</td>\n",
       "      <td>112.0</td>\n",
       "      <td>116.0</td>\n",
       "    </tr>\n",
       "    <tr>\n",
       "      <th>12</th>\n",
       "      <td>4.00040</td>\n",
       "      <td>4.00040</td>\n",
       "      <td>4.00040</td>\n",
       "      <td>33.609731</td>\n",
       "      <td>58.345937</td>\n",
       "      <td>58.870689</td>\n",
       "      <td>28</td>\n",
       "      <td>1198.696552</td>\n",
       "      <td>True</td>\n",
       "      <td>0.7</td>\n",
       "      <td>108.0</td>\n",
       "      <td>112.0</td>\n",
       "    </tr>\n",
       "    <tr>\n",
       "      <th>11</th>\n",
       "      <td>4.00040</td>\n",
       "      <td>4.00040</td>\n",
       "      <td>4.00040</td>\n",
       "      <td>28.248364</td>\n",
       "      <td>40.767361</td>\n",
       "      <td>56.944011</td>\n",
       "      <td>28</td>\n",
       "      <td>1198.680533</td>\n",
       "      <td>True</td>\n",
       "      <td>0.7</td>\n",
       "      <td>104.0</td>\n",
       "      <td>108.0</td>\n",
       "    </tr>\n",
       "    <tr>\n",
       "      <th>10</th>\n",
       "      <td>4.00040</td>\n",
       "      <td>4.00040</td>\n",
       "      <td>4.00040</td>\n",
       "      <td>9.725138</td>\n",
       "      <td>39.541426</td>\n",
       "      <td>78.219214</td>\n",
       "      <td>28</td>\n",
       "      <td>1198.593447</td>\n",
       "      <td>True</td>\n",
       "      <td>0.7</td>\n",
       "      <td>100.0</td>\n",
       "      <td>104.0</td>\n",
       "    </tr>\n",
       "    <tr>\n",
       "      <th>19</th>\n",
       "      <td>4.80048</td>\n",
       "      <td>4.80048</td>\n",
       "      <td>4.80048</td>\n",
       "      <td>16.917477</td>\n",
       "      <td>27.112317</td>\n",
       "      <td>12.639355</td>\n",
       "      <td>28</td>\n",
       "      <td>1198.757047</td>\n",
       "      <td>True</td>\n",
       "      <td>0.7</td>\n",
       "      <td>136.0</td>\n",
       "      <td>140.0</td>\n",
       "    </tr>\n",
       "    <tr>\n",
       "      <th>14</th>\n",
       "      <td>4.40044</td>\n",
       "      <td>4.40044</td>\n",
       "      <td>4.40044</td>\n",
       "      <td>119.014706</td>\n",
       "      <td>78.186241</td>\n",
       "      <td>94.162917</td>\n",
       "      <td>28</td>\n",
       "      <td>1199.020368</td>\n",
       "      <td>True</td>\n",
       "      <td>0.7</td>\n",
       "      <td>116.0</td>\n",
       "      <td>120.0</td>\n",
       "    </tr>\n",
       "  </tbody>\n",
       "</table>\n",
       "</div>"
      ],
      "text/plain": [
       "      Ximf0    Ximf1    Ximf2       Yimf0      Yimf1      Yimf2  coil  \\\n",
       "0   2.40024  5.20052  4.00040    4.989267   4.644295   4.274771    28   \n",
       "26  5.60056  5.60056  4.40044    4.338042   6.884889   8.322976    28   \n",
       "25  5.60056  9.20092  5.60056    1.562934   1.488672  18.019057    28   \n",
       "24  5.20052  5.20052  5.20052    5.275145   6.145575  19.900287    28   \n",
       "23  5.20052  5.20052  2.40024    3.361277   3.474023   4.375157    28   \n",
       "22  5.20052  5.20052  5.20052    4.743751   7.790671   4.510139    28   \n",
       "27  5.60056  4.40044  3.20032    1.354235   3.340101   5.385209    28   \n",
       "8   8.00080  4.00040  4.00040    1.767789  10.259093   6.339132    28   \n",
       "28  6.00060  9.20092  6.00060    4.763023   4.694484   4.143596    28   \n",
       "1   2.00020  6.00060  4.40044   14.746767   4.816534   5.081753    28   \n",
       "2   2.00020  2.00020  6.80068    5.016284   3.573306   2.816386    28   \n",
       "3   6.40064  6.40064  6.40064    6.405078   4.418592   3.990019    28   \n",
       "4   2.00020  2.00020  2.00020   22.992296   7.079908  16.370910    28   \n",
       "6   7.60076  4.00040  4.00040    2.032534   4.405580   3.983987    28   \n",
       "5   4.80048  6.40064  4.40044    7.423906   3.046025   4.758308    28   \n",
       "7   4.00040  4.00040  4.00040    6.888815   3.057100   6.262381    28   \n",
       "9   1.60016  4.00040  4.00040    2.159633  15.810453  15.122418    28   \n",
       "21  4.80048  4.80048  4.80048    3.923754   8.015999  10.606767    28   \n",
       "20  4.80048  4.80048  4.80048    8.203128  19.671147  22.624756    28   \n",
       "18  4.80048  4.80048  4.80048   29.234668  40.199838  33.378514    28   \n",
       "17  4.40044  4.40044  4.40044   24.043322  29.454904  19.014721    28   \n",
       "16  4.40044  4.40044  4.40044  115.501039  79.607110  49.700903    28   \n",
       "15  4.40044  4.40044  4.40044  145.172464  93.376179  53.927594    28   \n",
       "13  4.40044  4.40044  4.40044   68.611115  70.142810  57.679230    28   \n",
       "12  4.00040  4.00040  4.00040   33.609731  58.345937  58.870689    28   \n",
       "11  4.00040  4.00040  4.00040   28.248364  40.767361  56.944011    28   \n",
       "10  4.00040  4.00040  4.00040    9.725138  39.541426  78.219214    28   \n",
       "19  4.80048  4.80048  4.80048   16.917477  27.112317  12.639355    28   \n",
       "14  4.40044  4.40044  4.40044  119.014706  78.186241  94.162917    28   \n",
       "\n",
       "          speed sticking  thickness  time_begin  time_end  \n",
       "0    745.409568    False        0.7        60.0      64.0  \n",
       "26  1198.927972    False        0.7       164.0     168.0  \n",
       "25  1198.983047    False        0.7       160.0     164.0  \n",
       "24  1198.936274    False        0.7       156.0     160.0  \n",
       "23  1198.600974    False        0.7       152.0     156.0  \n",
       "22  1198.787357    False        0.7       148.0     152.0  \n",
       "27  1198.487337    False        0.7       168.0     172.0  \n",
       "8   1198.419008    False        0.7        92.0      96.0  \n",
       "28  1199.115788    False        0.7       172.0     176.0  \n",
       "1    840.895968    False        0.7        64.0      68.0  \n",
       "2    936.384421    False        0.7        68.0      72.0  \n",
       "3   1032.000024    False        0.7        72.0      76.0  \n",
       "4   1128.649811    False        0.7        76.0      80.0  \n",
       "6   1198.495449    False        0.7        84.0      88.0  \n",
       "5   1195.260608    False        0.7        80.0      84.0  \n",
       "7   1198.417696    False        0.7        88.0      92.0  \n",
       "9   1198.821656     True        0.7        96.0     100.0  \n",
       "21  1198.711054     True        0.7       144.0     148.0  \n",
       "20  1198.515368     True        0.7       140.0     144.0  \n",
       "18  1198.440737     True        0.7       132.0     136.0  \n",
       "17  1199.166710     True        0.7       128.0     132.0  \n",
       "16  1198.794881     True        0.7       124.0     128.0  \n",
       "15  1198.797159     True        0.7       120.0     124.0  \n",
       "13  1198.534788     True        0.7       112.0     116.0  \n",
       "12  1198.696552     True        0.7       108.0     112.0  \n",
       "11  1198.680533     True        0.7       104.0     108.0  \n",
       "10  1198.593447     True        0.7       100.0     104.0  \n",
       "19  1198.757047     True        0.7       136.0     140.0  \n",
       "14  1199.020368     True        0.7       116.0     120.0  "
      ]
     },
     "execution_count": 9,
     "metadata": {},
     "output_type": "execute_result"
    }
   ],
   "source": [
    "df.sort_values('sticking')"
   ]
  },
  {
   "cell_type": "code",
   "execution_count": 10,
   "metadata": {
    "collapsed": false
   },
   "outputs": [
    {
     "data": {
      "text/plain": [
       "set"
      ]
     },
     "execution_count": 10,
     "metadata": {},
     "output_type": "execute_result"
    }
   ],
   "source": [
    "type(set())"
   ]
  },
  {
   "cell_type": "code",
   "execution_count": 1,
   "metadata": {
    "collapsed": true
   },
   "outputs": [],
   "source": [
    "import random\n",
    "group_of_items = {1, 2, 3, 4}               # a sequence or set will work here.\n",
    "num_to_select = 2                           # set the number to select here.\n",
    "list_of_random_items = random.sample(group_of_items, num_to_select)\n",
    "first_random_item = list_of_random_items[0]\n",
    "second_random_item = list_of_random_items[1] "
   ]
  },
  {
   "cell_type": "code",
   "execution_count": 2,
   "metadata": {
    "collapsed": false
   },
   "outputs": [
    {
     "data": {
      "text/plain": [
       "[4, 2]"
      ]
     },
     "execution_count": 2,
     "metadata": {},
     "output_type": "execute_result"
    }
   ],
   "source": [
    "list_of_random_items"
   ]
  },
  {
   "cell_type": "code",
   "execution_count": null,
   "metadata": {
    "collapsed": true
   },
   "outputs": [],
   "source": []
  }
 ],
 "metadata": {
  "kernelspec": {
   "display_name": "Python 2",
   "language": "python",
   "name": "python2"
  },
  "language_info": {
   "codemirror_mode": {
    "name": "ipython",
    "version": 2
   },
   "file_extension": ".py",
   "mimetype": "text/x-python",
   "name": "python",
   "nbconvert_exporter": "python",
   "pygments_lexer": "ipython2",
   "version": "2.7.12"
  }
 },
 "nbformat": 4,
 "nbformat_minor": 1
}
