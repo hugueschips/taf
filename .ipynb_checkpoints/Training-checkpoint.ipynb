{
 "cells": [
  {
   "cell_type": "code",
   "execution_count": null,
   "metadata": {
    "collapsed": true
   },
   "outputs": [],
   "source": [
    "import numpy as np\n",
    "import pandas as pd\n",
    "import managePeakData as mpd"
   ]
  },
  {
   "cell_type": "code",
   "execution_count": null,
   "metadata": {
    "collapsed": false
   },
   "outputs": [],
   "source": [
    "df = mpd.importPeak(1)"
   ]
  },
  {
   "cell_type": "code",
   "execution_count": null,
   "metadata": {
    "collapsed": false
   },
   "outputs": [],
   "source": [
    "df.head()"
   ]
  },
  {
   "cell_type": "code",
   "execution_count": null,
   "metadata": {
    "collapsed": false
   },
   "outputs": [],
   "source": [
    "from sklearn import tree\n",
    "X = []\n",
    "Y = []\n",
    "for coil in [1,8,9,28,44,5,6,10,11,20,29,58,25]:\n",
    "    df = mpd.importPeak(coil)\n",
    "    Xi = zip(\n",
    "            list(df['Ximf0']), list(df['Yimf0']), \n",
    "            list(df['Ximf1']), list(df['Yimf1']), \n",
    "            list(df['Ximf2']), list(df['Yimf2'])\n",
    "            )\n",
    "    Yi = list(df['sticking'])\n",
    "    X += Xi\n",
    "    Y += Yi\n",
    "clf = tree.DecisionTreeClassifier()\n",
    "clf = clf.fit(X, Y)\n",
    "sum(Y)"
   ]
  },
  {
   "cell_type": "code",
   "execution_count": null,
   "metadata": {
    "collapsed": false
   },
   "outputs": [],
   "source": [
    "for coil in range(88):\n",
    "    try:\n",
    "        df = mpd.importPeak(coil)\n",
    "        X = zip(\n",
    "                list(df['Ximf0']), list(df['Yimf0']), \n",
    "                list(df['Ximf1']), list(df['Yimf1']), \n",
    "                list(df['Ximf2']), list(df['Yimf2'])\n",
    "                )\n",
    "        Y = list(df['sticking'])\n",
    "        print coil, sum(Y), sum(clf.predict(X))\n",
    "    except:\n",
    "        pass"
   ]
  },
  {
   "cell_type": "code",
   "execution_count": null,
   "metadata": {
    "collapsed": true
   },
   "outputs": [],
   "source": []
  }
 ],
 "metadata": {
  "kernelspec": {
   "display_name": "Python 2",
   "language": "python",
   "name": "python2"
  },
  "language_info": {
   "codemirror_mode": {
    "name": "ipython",
    "version": 2
   },
   "file_extension": ".py",
   "mimetype": "text/x-python",
   "name": "python",
   "nbconvert_exporter": "python",
   "pygments_lexer": "ipython2",
   "version": "2.7.12"
  }
 },
 "nbformat": 4,
 "nbformat_minor": 1
}
