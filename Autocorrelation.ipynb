{
 "cells": [
  {
   "cell_type": "code",
   "execution_count": 1,
   "metadata": {
    "collapsed": false
   },
   "outputs": [],
   "source": [
    "import numpy as np\n",
    "import pandas as pd\n",
    "import scipy\n",
    "import matplotlib.pyplot as plt\n",
    "import preprocessing as pp\n",
    "import manage_data as md\n",
    "%matplotlib osx\n",
    "plt.ion()"
   ]
  },
  {
   "cell_type": "code",
   "execution_count": 2,
   "metadata": {
    "collapsed": false
   },
   "outputs": [],
   "source": [
    "coil = 10\n",
    "dfi = md.import_dfi()\n",
    "df = md.import_data(coil)\n",
    "fs = 10000\n",
    "signal = df['micro'].values\n",
    "rms = pp.fast_rms(signal)\n",
    "a = 0\n",
    "startS, endS = dfi.startS[coil], dfi.endS[coil]"
   ]
  },
  {
   "cell_type": "markdown",
   "metadata": {
    "collapsed": false
   },
   "source": [
    "a, b = 90,180 \n",
    "signal = signal[a*fs: b*fs]\n",
    "rms = rms[a*fs: b*fs]"
   ]
  },
  {
   "cell_type": "code",
   "execution_count": 3,
   "metadata": {
    "collapsed": true
   },
   "outputs": [],
   "source": [
    "import processing as pc"
   ]
  },
  {
   "cell_type": "code",
   "execution_count": 4,
   "metadata": {
    "collapsed": true
   },
   "outputs": [],
   "source": [
    "import pyeemd\n",
    "import scipy.signal"
   ]
  },
  {
   "cell_type": "code",
   "execution_count": 5,
   "metadata": {
    "collapsed": false
   },
   "outputs": [],
   "source": [
    "emd = pyeemd.emd(signal/rms, num_imfs=1)"
   ]
  },
  {
   "cell_type": "code",
   "execution_count": 6,
   "metadata": {
    "collapsed": false
   },
   "outputs": [
    {
     "data": {
      "text/plain": [
       "2515300"
      ]
     },
     "execution_count": 6,
     "metadata": {},
     "output_type": "execute_result"
    }
   ],
   "source": [
    "emd.shape[-1]"
   ]
  },
  {
   "cell_type": "code",
   "execution_count": 7,
   "metadata": {
    "collapsed": false
   },
   "outputs": [
    {
     "data": {
      "text/plain": [
       "2515300"
      ]
     },
     "execution_count": 7,
     "metadata": {},
     "output_type": "execute_result"
    }
   ],
   "source": [
    "emd.shape = signal.shape\n",
    "emd.shape[-1]"
   ]
  },
  {
   "cell_type": "code",
   "execution_count": 8,
   "metadata": {
    "collapsed": true
   },
   "outputs": [],
   "source": [
    "hht = scipy.signal.hilbert(emd)"
   ]
  },
  {
   "cell_type": "code",
   "execution_count": 9,
   "metadata": {
    "collapsed": true
   },
   "outputs": [],
   "source": [
    "amp0 = np.abs(hht)"
   ]
  },
  {
   "cell_type": "code",
   "execution_count": 10,
   "metadata": {
    "collapsed": false
   },
   "outputs": [
    {
     "name": "stdout",
     "output_type": "stream",
     "text": [
      "10000 0 40000 40000\n",
      "50000 40000 80000 40000\n",
      "90000 80000 120000 40000\n",
      "130000 120000 160000 40000\n",
      "170000 160000 200000 40000\n",
      "210000 200000 240000 40000\n",
      "250000 240000 280000 40000\n",
      "290000 280000 320000 40000\n",
      "330000 320000 360000 40000\n",
      "370000 360000 400000 40000\n",
      "410000 400000 440000 40000\n",
      "450000 440000 480000 40000\n",
      "490000 480000 520000 40000\n",
      "530000 520000 560000 40000\n",
      "570000 560000 600000 40000\n",
      "610000 600000 640000 40000\n",
      "650000 640000 680000 40000\n",
      "690000 680000 720000 40000\n",
      "730000 720000 760000 40000\n",
      "770000 760000 800000 40000\n",
      "810000 800000 840000 40000\n",
      "850000 840000 880000 40000\n",
      "890000 880000 920000 40000\n",
      "930000 920000 960000 40000\n",
      "970000 960000 1000000 40000\n",
      "1010000 1000000 1040000 40000\n",
      "1050000 1040000 1080000 40000\n",
      "1090000 1080000 1120000 40000\n",
      "1130000 1120000 1160000 40000\n",
      "1170000 1160000 1200000 40000\n",
      "1210000 1200000 1240000 40000\n",
      "1250000 1240000 1280000 40000\n",
      "1290000 1280000 1320000 40000\n",
      "1330000 1320000 1360000 40000\n",
      "1370000 1360000 1400000 40000\n",
      "1410000 1400000 1440000 40000\n",
      "1450000 1440000 1480000 40000\n",
      "1490000 1480000 1520000 40000\n",
      "1530000 1520000 1560000 40000\n",
      "1570000 1560000 1600000 40000\n",
      "1610000 1600000 1640000 40000\n",
      "1650000 1640000 1680000 40000\n",
      "1690000 1680000 1720000 40000\n",
      "1730000 1720000 1760000 40000\n",
      "1770000 1760000 1800000 40000\n",
      "1810000 1800000 1840000 40000\n",
      "1850000 1840000 1880000 40000\n",
      "1890000 1880000 1920000 40000\n",
      "1930000 1920000 1960000 40000\n",
      "1970000 1960000 2000000 40000\n",
      "2010000 2000000 2040000 40000\n",
      "2050000 2040000 2080000 40000\n",
      "2090000 2080000 2120000 40000\n",
      "2130000 2120000 2160000 40000\n",
      "2170000 2160000 2200000 40000\n",
      "2210000 2200000 2240000 40000\n",
      "2250000 2240000 2280000 40000\n",
      "2290000 2280000 2320000 40000\n",
      "2330000 2320000 2360000 40000\n",
      "2370000 2360000 2400000 40000\n",
      "2410000 2400000 2440000 40000\n",
      "2450000 2440000 2480000 40000\n"
     ]
    }
   ],
   "source": [
    "t, corr = pc.rolling_correlation_convolution(amp0, fs, beginning=a)"
   ]
  },
  {
   "cell_type": "code",
   "execution_count": 11,
   "metadata": {
    "collapsed": true
   },
   "outputs": [],
   "source": [
    "plt.figure()\n",
    "for time, correlation in zip(t, corr):\n",
    "    plt.plot(time, correlation)"
   ]
  },
  {
   "cell_type": "code",
   "execution_count": 12,
   "metadata": {
    "collapsed": true
   },
   "outputs": [],
   "source": [
    "plt.figure()\n",
    "for correlation in corr:\n",
    "    dt = 1./fs\n",
    "    fft = np.fft.fft(correlation)\n",
    "    freq = np.fft.fftfreq(len(correlation), 1./fs)\n",
    "    nTot = fft.shape[0]\n",
    "    nPoints_to_2Hz = int(nTot*dt*2)\n",
    "    nPoints_to_10Hz = int(nTot*dt*10)\n",
    "    idx = np.arange(nPoints_to_2Hz,nPoints_to_10Hz)\n",
    "    #plt.figure()\n",
    "    plt.plot(freq[idx], np.abs(fft[idx]))"
   ]
  },
  {
   "cell_type": "code",
   "execution_count": 13,
   "metadata": {
    "collapsed": false
   },
   "outputs": [],
   "source": [
    "freq_list, fft_list = pc.fft_of_correlation(corr, fs)"
   ]
  },
  {
   "cell_type": "code",
   "execution_count": 14,
   "metadata": {
    "collapsed": true
   },
   "outputs": [],
   "source": [
    "def peak(freq, fft):\n",
    "    imax = np.argmax(fft)\n",
    "    xmax = freq[imax]\n",
    "    ymax = fft[imax]\n",
    "    return list([xmax, ymax])"
   ]
  },
  {
   "cell_type": "code",
   "execution_count": 15,
   "metadata": {
    "collapsed": false
   },
   "outputs": [
    {
     "data": {
      "text/plain": [
       "[[1.6001920230427649, 158.76171894343292],\n",
       " [2.8003360403248383, 24.88167860518805],\n",
       " [1.6001920230427649, 77.200228419671149],\n",
       " [1.6001920230427649, 40.058580040145799],\n",
       " [2.4002880345641473, 24.349977538015875],\n",
       " [1.6001920230427649, 83.435291759766827],\n",
       " [1.6001920230427649, 44.891472094841433],\n",
       " [1.6001920230427649, 12.70838003684743],\n",
       " [2.0002400288034563, 294.98185957663856],\n",
       " [2.8003360403248383, 27.928363208400942],\n",
       " [2.0002400288034563, 12.719424799740047],\n",
       " [2.0002400288034563, 23.090456128672585],\n",
       " [2.8003360403248383, 28.538463952457754],\n",
       " [1.6001920230427649, 76.391735120604395],\n",
       " [2.4002880345641473, 13.579365860903247],\n",
       " [1.6001920230427649, 123.63443787397432],\n",
       " [2.8003360403248383, 52.660853987436326],\n",
       " [1.6001920230427649, 22.275222286122894],\n",
       " [3.2003840460855297, 19.471028536284379],\n",
       " [6.000720086410368, 7.4746045236747785],\n",
       " [4.4005280633676032, 8.562110984534943],\n",
       " [3.6004320518462212, 23.291696938659943],\n",
       " [8.0009601152138252, 13.667787494258086],\n",
       " [2.4002880345641473, 48.598925990939982],\n",
       " [4.0004800576069126, 4.9166715805725261],\n",
       " [8.0009601152138252, 5.026378916194381],\n",
       " [4.0004800576069126, 5.321270595469521],\n",
       " [8.4010081209745149, 10.497941439754779],\n",
       " [8.8010561267352063, 2.6482253652341772],\n",
       " [3.2003840460855297, 4.9710268917285374],\n",
       " [9.2011041324958978, 2.3433047656269839],\n",
       " [8.8010561267352063, 2.3800462409835204],\n",
       " [4.8005760691282946, 10.680502880974263],\n",
       " [4.8005760691282946, 17.610514895574397],\n",
       " [1.6001920230427649, 12.229594905996345],\n",
       " [5.200624074888986, 10.487213829794047],\n",
       " [2.0002400288034563, 5.2918172267688366],\n",
       " [6.4007680921710595, 2.5275474573364058],\n",
       " [5.6006720806496766, 5.4751236991581997],\n",
       " [6.000720086410368, 5.3071738603764054],\n",
       " [6.000720086410368, 4.5775609772215207],\n",
       " [6.4007680921710595, 8.1102547708364074],\n",
       " [8.8010561267352063, 2.1823308249474302],\n",
       " [1.6001920230427649, 5.9504542075139319],\n",
       " [2.8003360403248383, 3.3584446107732133],\n",
       " [5.200624074888986, 4.688766232274852],\n",
       " [4.4005280633676032, 3.5474412919878135],\n",
       " [7.6009121094531329, 2.7193834058791593],\n",
       " [2.0002400288034563, 63.152361367055235],\n",
       " [6.8008160979317509, 3.5833252461452498],\n",
       " [2.8003360403248383, 3.0748241565816619],\n",
       " [1.6001920230427649, 8.5828727598475858],\n",
       " [2.4002880345641473, 3.2471645174377821],\n",
       " [2.4002880345641473, 4.0612617808360216],\n",
       " [2.4002880345641473, 4.7660913213000367],\n",
       " [2.0002400288034563, 6.1113824834116279],\n",
       " [1.6001920230427649, 93.763166918155775],\n",
       " [1.6001920230427649, 12.779784158814211],\n",
       " [1.6001920230427649, 3.995697010501817],\n",
       " [1.6001920230427649, 7.8539334526241005],\n",
       " [2.0002400288034563, 4.5841291577992083],\n",
       " [2.0002400288034563, 42.780136753892101]]"
      ]
     },
     "execution_count": 15,
     "metadata": {},
     "output_type": "execute_result"
    }
   ],
   "source": [
    "peaks = []\n",
    "for freq, fft in zip(freq_list, fft_list):\n",
    "    peaks.append(peak(freq, fft))\n",
    "peaks"
   ]
  },
  {
   "cell_type": "code",
   "execution_count": 16,
   "metadata": {
    "collapsed": false
   },
   "outputs": [
    {
     "data": {
      "text/plain": [
       "coil_number                                    47465785\n",
       "datum_post                          2014-11-25 00:00:00\n",
       "real_date                           2014-11-25 00:00:00\n",
       "time                         2021-07-04 15:54:59.995000\n",
       "length                                             2710\n",
       "width                                              1411\n",
       "thickness                                           0.9\n",
       "weight                                           27.051\n",
       "oil                                                 269\n",
       "steelgrade                                       K04AA0\n",
       "inspection                                            1\n",
       "sticking                                              0\n",
       "startS                                              NaN\n",
       "endS                                                NaN\n",
       "special_case                                          0\n",
       "comment         not mentioned, normally no stickermarks\n",
       "sound_file                                            1\n",
       "duration                                         251.53\n",
       "fs                                                10000\n",
       "Name: 10, dtype: object"
      ]
     },
     "execution_count": 16,
     "metadata": {},
     "output_type": "execute_result"
    }
   ],
   "source": [
    "dfi.iloc[coil]"
   ]
  },
  {
   "cell_type": "code",
   "execution_count": 17,
   "metadata": {
    "collapsed": true
   },
   "outputs": [],
   "source": [
    "time = df['time'].values"
   ]
  },
  {
   "cell_type": "code",
   "execution_count": 18,
   "metadata": {
    "collapsed": true
   },
   "outputs": [],
   "source": [
    "decoiler = df['decoiler'].values\n",
    "coiler = df['coiler'].values"
   ]
  },
  {
   "cell_type": "code",
   "execution_count": 19,
   "metadata": {
    "collapsed": true
   },
   "outputs": [],
   "source": [
    "import preprocessing as pp"
   ]
  },
  {
   "cell_type": "markdown",
   "metadata": {
    "collapsed": true
   },
   "source": [
    "plt.figure()\n",
    "sticking = pp.sticking_detection(decoiler-decoiler[-1], 797, 1896)\n",
    "plt.plot(time, sticking)"
   ]
  },
  {
   "cell_type": "code",
   "execution_count": 20,
   "metadata": {
    "collapsed": false
   },
   "outputs": [
    {
     "data": {
      "text/plain": [
       "[<matplotlib.lines.Line2D at 0x127881b50>]"
      ]
     },
     "execution_count": 20,
     "metadata": {},
     "output_type": "execute_result"
    }
   ],
   "source": [
    "sticking = pp.sticking_detection(coiler-coiler[0], startS, endS)\n",
    "plt.plot(time, sticking/5.)"
   ]
  },
  {
   "cell_type": "code",
   "execution_count": null,
   "metadata": {
    "collapsed": true
   },
   "outputs": [],
   "source": []
  }
 ],
 "metadata": {
  "kernelspec": {
   "display_name": "Python 2",
   "language": "python",
   "name": "python2"
  },
  "language_info": {
   "codemirror_mode": {
    "name": "ipython",
    "version": 2
   },
   "file_extension": ".py",
   "mimetype": "text/x-python",
   "name": "python",
   "nbconvert_exporter": "python",
   "pygments_lexer": "ipython2",
   "version": "2.7.12"
  }
 },
 "nbformat": 4,
 "nbformat_minor": 1
}
