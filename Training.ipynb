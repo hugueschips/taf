{
 "cells": [
  {
   "cell_type": "code",
   "execution_count": 2,
   "metadata": {
    "collapsed": false
   },
   "outputs": [],
   "source": [
    "import numpy as np\n",
    "import pandas as pd\n",
    "import manage_data as md\n",
    "import managePeakData as mpd\n",
    "import preprocessing as pp\n",
    "%matplotlib inline\n",
    "import matplotlib.pyplot as plt"
   ]
  },
  {
   "cell_type": "code",
   "execution_count": 53,
   "metadata": {
    "collapsed": false
   },
   "outputs": [],
   "source": [
    "df = mpd.importPeak(28).dropna().head()"
   ]
  },
  {
   "cell_type": "code",
   "execution_count": 54,
   "metadata": {
    "collapsed": false
   },
   "outputs": [
    {
     "data": {
      "text/html": [
       "<div>\n",
       "<table border=\"1\" class=\"dataframe\">\n",
       "  <thead>\n",
       "    <tr style=\"text-align: right;\">\n",
       "      <th></th>\n",
       "      <th>Ximf0</th>\n",
       "      <th>Ximf1</th>\n",
       "      <th>Ximf2</th>\n",
       "      <th>Yimf0</th>\n",
       "      <th>Yimf1</th>\n",
       "      <th>Yimf2</th>\n",
       "      <th>coil</th>\n",
       "      <th>speed</th>\n",
       "      <th>sticking</th>\n",
       "      <th>thickness</th>\n",
       "      <th>time_begin</th>\n",
       "      <th>time_end</th>\n",
       "    </tr>\n",
       "  </thead>\n",
       "  <tbody>\n",
       "    <tr>\n",
       "      <th>0</th>\n",
       "      <td>2.40024</td>\n",
       "      <td>5.20052</td>\n",
       "      <td>4.00040</td>\n",
       "      <td>4.989267</td>\n",
       "      <td>4.644295</td>\n",
       "      <td>4.274771</td>\n",
       "      <td>28</td>\n",
       "      <td>745.409568</td>\n",
       "      <td>False</td>\n",
       "      <td>0.7</td>\n",
       "      <td>60.0</td>\n",
       "      <td>64.0</td>\n",
       "    </tr>\n",
       "    <tr>\n",
       "      <th>1</th>\n",
       "      <td>2.00020</td>\n",
       "      <td>6.00060</td>\n",
       "      <td>4.40044</td>\n",
       "      <td>14.746767</td>\n",
       "      <td>4.816534</td>\n",
       "      <td>5.081753</td>\n",
       "      <td>28</td>\n",
       "      <td>840.895968</td>\n",
       "      <td>False</td>\n",
       "      <td>0.7</td>\n",
       "      <td>64.0</td>\n",
       "      <td>68.0</td>\n",
       "    </tr>\n",
       "    <tr>\n",
       "      <th>2</th>\n",
       "      <td>2.00020</td>\n",
       "      <td>2.00020</td>\n",
       "      <td>6.80068</td>\n",
       "      <td>5.016284</td>\n",
       "      <td>3.573306</td>\n",
       "      <td>2.816386</td>\n",
       "      <td>28</td>\n",
       "      <td>936.384421</td>\n",
       "      <td>False</td>\n",
       "      <td>0.7</td>\n",
       "      <td>68.0</td>\n",
       "      <td>72.0</td>\n",
       "    </tr>\n",
       "    <tr>\n",
       "      <th>3</th>\n",
       "      <td>6.40064</td>\n",
       "      <td>6.40064</td>\n",
       "      <td>6.40064</td>\n",
       "      <td>6.405078</td>\n",
       "      <td>4.418592</td>\n",
       "      <td>3.990019</td>\n",
       "      <td>28</td>\n",
       "      <td>1032.000024</td>\n",
       "      <td>False</td>\n",
       "      <td>0.7</td>\n",
       "      <td>72.0</td>\n",
       "      <td>76.0</td>\n",
       "    </tr>\n",
       "    <tr>\n",
       "      <th>4</th>\n",
       "      <td>2.00020</td>\n",
       "      <td>2.00020</td>\n",
       "      <td>2.00020</td>\n",
       "      <td>22.992296</td>\n",
       "      <td>7.079908</td>\n",
       "      <td>16.370910</td>\n",
       "      <td>28</td>\n",
       "      <td>1128.649811</td>\n",
       "      <td>False</td>\n",
       "      <td>0.7</td>\n",
       "      <td>76.0</td>\n",
       "      <td>80.0</td>\n",
       "    </tr>\n",
       "  </tbody>\n",
       "</table>\n",
       "</div>"
      ],
      "text/plain": [
       "     Ximf0    Ximf1    Ximf2      Yimf0     Yimf1      Yimf2  coil  \\\n",
       "0  2.40024  5.20052  4.00040   4.989267  4.644295   4.274771    28   \n",
       "1  2.00020  6.00060  4.40044  14.746767  4.816534   5.081753    28   \n",
       "2  2.00020  2.00020  6.80068   5.016284  3.573306   2.816386    28   \n",
       "3  6.40064  6.40064  6.40064   6.405078  4.418592   3.990019    28   \n",
       "4  2.00020  2.00020  2.00020  22.992296  7.079908  16.370910    28   \n",
       "\n",
       "         speed sticking  thickness  time_begin  time_end  \n",
       "0   745.409568    False        0.7        60.0      64.0  \n",
       "1   840.895968    False        0.7        64.0      68.0  \n",
       "2   936.384421    False        0.7        68.0      72.0  \n",
       "3  1032.000024    False        0.7        72.0      76.0  \n",
       "4  1128.649811    False        0.7        76.0      80.0  "
      ]
     },
     "execution_count": 54,
     "metadata": {},
     "output_type": "execute_result"
    }
   ],
   "source": [
    "df.head()"
   ]
  },
  {
   "cell_type": "code",
   "execution_count": 118,
   "metadata": {
    "collapsed": false
   },
   "outputs": [],
   "source": [
    "def create_XY_df(coil_list):\n",
    "    feature_col = ['Ximf0', 'Ximf1', 'Ximf2', 'Yimf0', 'Yimf1', 'Yimf2', 'thickness', 'speed']\n",
    "    X = pd.DataFrame(columns=feature_col)\n",
    "    Y = pd.DataFrame(columns=['sticking'])\n",
    "    for coil in coil_list:\n",
    "        df = mpd.importPeak(coil).dropna()\n",
    "        X = X.append(df[feature_col])\n",
    "        Y = Y.append(df[['sticking']])\n",
    "    return X, Y"
   ]
  },
  {
   "cell_type": "code",
   "execution_count": 133,
   "metadata": {
    "collapsed": false
   },
   "outputs": [
    {
     "data": {
      "text/plain": [
       "array([[  4.40044000e+00,   2.00020000e+00,   2.00020000e+00, ...,\n",
       "          3.62344241e+00,   6.00000000e-01,   8.05597795e+02],\n",
       "       [  2.40024000e+00,   8.00080000e+00,   2.80028000e+00, ...,\n",
       "          5.11921333e+00,   6.00000000e-01,   9.01537528e+02],\n",
       "       [  6.00060000e+00,   2.00020000e+00,   1.60016000e+00, ...,\n",
       "          7.53783029e+00,   6.00000000e-01,   9.97256889e+02],\n",
       "       ..., \n",
       "       [  1.60016000e+00,   1.60016000e+00,   1.60016000e+00, ...,\n",
       "          2.67451514e+00,   7.50000000e-01,   4.64154633e+02],\n",
       "       [  1.60016000e+00,   1.60016000e+00,   1.60016000e+00, ...,\n",
       "          4.07225436e+00,   7.50000000e-01,   5.59701214e+02],\n",
       "       [  2.00020000e+00,   2.00020000e+00,   2.40024000e+00, ...,\n",
       "          2.10225009e+00,   7.50000000e-01,   6.50892980e+02]])"
      ]
     },
     "execution_count": 133,
     "metadata": {},
     "output_type": "execute_result"
    }
   ],
   "source": [
    "coil_list = [0,1,28,44,8,9]\n",
    "X_train, Y_train = create_XY_df(coil_list)\n",
    "np.array(X_train.values[:,0]).shape\n",
    "X_train.values[:,:]"
   ]
  },
  {
   "cell_type": "code",
   "execution_count": 114,
   "metadata": {
    "collapsed": false
   },
   "outputs": [
    {
     "ename": "AttributeError",
     "evalue": "'list' object has no attribute 'sticking'",
     "output_type": "error",
     "traceback": [
      "\u001b[0;31m---------------------------------------------------------------------------\u001b[0m",
      "\u001b[0;31mAttributeError\u001b[0m                            Traceback (most recent call last)",
      "\u001b[0;32m<ipython-input-114-4a77f7a3da0f>\u001b[0m in \u001b[0;36m<module>\u001b[0;34m()\u001b[0m\n\u001b[1;32m      1\u001b[0m \u001b[0;32mfrom\u001b[0m \u001b[0msklearn\u001b[0m \u001b[0;32mimport\u001b[0m \u001b[0mtree\u001b[0m\u001b[0;34m\u001b[0m\u001b[0m\n\u001b[1;32m      2\u001b[0m \u001b[0mclf\u001b[0m \u001b[0;34m=\u001b[0m \u001b[0mtree\u001b[0m\u001b[0;34m.\u001b[0m\u001b[0mDecisionTreeClassifier\u001b[0m\u001b[0;34m(\u001b[0m\u001b[0;34m)\u001b[0m\u001b[0;34m\u001b[0m\u001b[0m\n\u001b[0;32m----> 3\u001b[0;31m \u001b[0mclf\u001b[0m \u001b[0;34m=\u001b[0m \u001b[0mclf\u001b[0m\u001b[0;34m.\u001b[0m\u001b[0mfit\u001b[0m\u001b[0;34m(\u001b[0m\u001b[0mX_train\u001b[0m\u001b[0;34m,\u001b[0m \u001b[0mlist\u001b[0m\u001b[0;34m(\u001b[0m\u001b[0mY_train\u001b[0m\u001b[0;34m.\u001b[0m\u001b[0msticking\u001b[0m\u001b[0;34m)\u001b[0m\u001b[0;34m)\u001b[0m\u001b[0;34m\u001b[0m\u001b[0m\n\u001b[0m",
      "\u001b[0;31mAttributeError\u001b[0m: 'list' object has no attribute 'sticking'"
     ]
    }
   ],
   "source": [
    "from sklearn import tree\n",
    "clf = tree.DecisionTreeClassifier()\n",
    "clf = clf.fit(X_train, list(Y_train.sticking))"
   ]
  },
  {
   "cell_type": "code",
   "execution_count": 105,
   "metadata": {
    "collapsed": false
   },
   "outputs": [],
   "source": [
    "coil_list = [54,27,10,11,6,7,19]\n",
    "coil_list = range(2,8)+range(10,28)+range(32,44)+range(45,88)\n",
    "X_test, Y_test = create_XY_df(coil_list)\n",
    "Y_predict = clf.predict(X_test.values)\n",
    "y_true = list(Y_test.values[:,0])\n",
    "y_predict = list(Y_predict)"
   ]
  },
  {
   "cell_type": "code",
   "execution_count": 106,
   "metadata": {
    "collapsed": false
   },
   "outputs": [
    {
     "data": {
      "text/plain": [
       "array([[  48,  303],\n",
       "       [ 144, 1708]])"
      ]
     },
     "execution_count": 106,
     "metadata": {},
     "output_type": "execute_result"
    }
   ],
   "source": [
    "from sklearn import metrics\n",
    "m = metrics.confusion_matrix(y_true, y_predict, labels=[True, False])\n",
    "m"
   ]
  },
  {
   "cell_type": "code",
   "execution_count": 107,
   "metadata": {
    "collapsed": false
   },
   "outputs": [
    {
     "data": {
      "text/plain": [
       "79"
      ]
     },
     "execution_count": 107,
     "metadata": {},
     "output_type": "execute_result"
    }
   ],
   "source": [
    "coil_list = [54,27,10,11,6,7,19,20,21,33]\n",
    "coil_list = range(2,8)+range(10,28)+range(32,44)+range(45,88)\n",
    "sum_true = []\n",
    "sum_predict = []\n",
    "for coil in coil_list:\n",
    "    X_test, Y_test = create_XY_df([coil])\n",
    "    Y_predict = clf.predict(X_test.values)\n",
    "    y_true = list(Y_test.values[:,0])\n",
    "    y_predict = list(Y_predict)\n",
    "    sum_true.append(sum(y_true))\n",
    "    sum_predict.append(sum(y_predict))\n",
    "len(sum_true)"
   ]
  },
  {
   "cell_type": "code",
   "execution_count": 95,
   "metadata": {
    "collapsed": false
   },
   "outputs": [
    {
     "data": {
      "text/plain": [
       "65.822784810126578"
      ]
     },
     "execution_count": 95,
     "metadata": {},
     "output_type": "execute_result"
    }
   ],
   "source": [
    "diff = np.abs(np.array(sum_true)-np.array(sum_predict))\n",
    "sum(diff<=5)*1./len(diff)*100"
   ]
  },
  {
   "cell_type": "code",
   "execution_count": 108,
   "metadata": {
    "collapsed": false
   },
   "outputs": [
    {
     "data": {
      "text/plain": [
       "[<matplotlib.lines.Line2D at 0x10b65ac90>]"
      ]
     },
     "execution_count": 108,
     "metadata": {},
     "output_type": "execute_result"
    },
    {
     "data": {
      "image/png": "[encoded data removed]",
      "text/plain": [
       "<matplotlib.figure.Figure at 0x10b3ffad0>"
      ]
     },
     "metadata": {},
     "output_type": "display_data"
    }
   ],
   "source": [
    "plt.plot(sum_true)\n",
    "plt.plot(sum_predict)"
   ]
  },
  {
   "cell_type": "code",
   "execution_count": 98,
   "metadata": {
    "collapsed": false
   },
   "outputs": [
    {
     "data": {
      "text/plain": [
       "[False,\n",
       " False,\n",
       " False,\n",
       " False,\n",
       " False,\n",
       " False,\n",
       " False,\n",
       " False,\n",
       " False,\n",
       " False,\n",
       " False,\n",
       " False,\n",
       " False,\n",
       " False,\n",
       " False,\n",
       " False,\n",
       " False,\n",
       " False,\n",
       " False,\n",
       " False,\n",
       " False,\n",
       " False,\n",
       " False,\n",
       " False,\n",
       " False,\n",
       " False,\n",
       " False,\n",
       " False,\n",
       " False]"
      ]
     },
     "execution_count": 98,
     "metadata": {},
     "output_type": "execute_result"
    }
   ],
   "source": [
    "y_true"
   ]
  },
  {
   "cell_type": "code",
   "execution_count": 94,
   "metadata": {
    "collapsed": false
   },
   "outputs": [
    {
     "data": {
      "text/plain": [
       "array([[ 0,  0],\n",
       "       [ 2, 27]])"
      ]
     },
     "execution_count": 94,
     "metadata": {},
     "output_type": "execute_result"
    }
   ],
   "source": [
    "from sklearn import metrics\n",
    "m = metrics.confusion_matrix(y_true, y_predict, labels=[True, False])\n",
    "m"
   ]
  },
  {
   "cell_type": "code",
   "execution_count": 64,
   "metadata": {
    "collapsed": false
   },
   "outputs": [
    {
     "data": {
      "text/plain": [
       "2"
      ]
     },
     "execution_count": 64,
     "metadata": {},
     "output_type": "execute_result"
    }
   ],
   "source": [
    "sum(m[:,0])"
   ]
  },
  {
   "cell_type": "code",
   "execution_count": 89,
   "metadata": {
    "collapsed": false
   },
   "outputs": [
    {
     "ename": "TypeError",
     "evalue": "unsupported operand type(s) for -: 'list' and 'list'",
     "output_type": "error",
     "traceback": [
      "\u001b[0;31m---------------------------------------------------------------------------\u001b[0m",
      "\u001b[0;31mTypeError\u001b[0m                                 Traceback (most recent call last)",
      "\u001b[0;32m<ipython-input-89-adf69891cba8>\u001b[0m in \u001b[0;36m<module>\u001b[0;34m()\u001b[0m\n\u001b[0;32m----> 1\u001b[0;31m \u001b[0;34m[\u001b[0m\u001b[0;36m2\u001b[0m\u001b[0;34m,\u001b[0m\u001b[0;36m3\u001b[0m\u001b[0;34m]\u001b[0m\u001b[0;34m-\u001b[0m\u001b[0;34m[\u001b[0m\u001b[0;36m2\u001b[0m\u001b[0;34m]\u001b[0m\u001b[0;34m\u001b[0m\u001b[0m\n\u001b[0m",
      "\u001b[0;31mTypeError\u001b[0m: unsupported operand type(s) for -: 'list' and 'list'"
     ]
    }
   ],
   "source": [
    "[2,3]-[2]"
   ]
  },
  {
   "cell_type": "code",
   "execution_count": 47,
   "metadata": {
    "collapsed": false
   },
   "outputs": [
    {
     "data": {
      "text/plain": [
       "56"
      ]
     },
     "execution_count": 47,
     "metadata": {},
     "output_type": "execute_result"
    }
   ],
   "source": [
    "88-32"
   ]
  },
  {
   "cell_type": "code",
   "execution_count": 262,
   "metadata": {
    "collapsed": false
   },
   "outputs": [],
   "source": [
    "Y_test['prediction'] = pd.DataFrame(clf.predict(X_test))"
   ]
  },
  {
   "cell_type": "code",
   "execution_count": 264,
   "metadata": {
    "collapsed": false
   },
   "outputs": [
    {
     "ename": "TypeError",
     "evalue": "unsupported operand type(s) for +: 'int' and 'str'",
     "output_type": "error",
     "traceback": [
      "\u001b[0;31m---------------------------------------------------------------------------\u001b[0m",
      "\u001b[0;31mTypeError\u001b[0m                                 Traceback (most recent call last)",
      "\u001b[0;32m<ipython-input-264-ffc60959b6a1>\u001b[0m in \u001b[0;36m<module>\u001b[0;34m()\u001b[0m\n\u001b[0;32m----> 1\u001b[0;31m \u001b[0msum\u001b[0m\u001b[0;34m(\u001b[0m\u001b[0mY_test\u001b[0m\u001b[0;34m[\u001b[0m\u001b[0mY_test\u001b[0m\u001b[0;34m.\u001b[0m\u001b[0msticking\u001b[0m\u001b[0;34m==\u001b[0m\u001b[0mY_test\u001b[0m\u001b[0;34m.\u001b[0m\u001b[0mprediction\u001b[0m\u001b[0;34m]\u001b[0m\u001b[0;34m)\u001b[0m\u001b[0;34m\u001b[0m\u001b[0m\n\u001b[0m",
      "\u001b[0;31mTypeError\u001b[0m: unsupported operand type(s) for +: 'int' and 'str'"
     ]
    }
   ],
   "source": [
    "sum(Y_test[Y_test.sticking==Y_test.prediction])"
   ]
  },
  {
   "cell_type": "code",
   "execution_count": null,
   "metadata": {
    "collapsed": false
   },
   "outputs": [],
   "source": [
    "data = []\n",
    "prediction = []\n",
    "for coil in range(88):\n",
    "    try:\n",
    "        df = mpd.importPeak(coil)\n",
    "        Xi = zip(\n",
    "                list(df['Ximf0']), list(df['Yimf0']), \n",
    "                list(df['Ximf1']), list(df['Yimf1']), \n",
    "                list(df['Ximf2']), list(df['Yimf2'])\n",
    "                )\n",
    "        Yi = list(df['sticking'])\n",
    "        data.append(sum(Yi)>0)\n",
    "        prediction.append(sum(clf.predict(Xi))>5)\n",
    "        print coil, sum(Yi), sum(clf.predict(Xi))\n",
    "    except:\n",
    "        pass\n",
    "data = np.array(data)\n",
    "prediction = np.array(prediction)\n",
    "sum(data), sum(prediction)\n",
    "sum(data==prediction)/88.*100"
   ]
  },
  {
   "cell_type": "code",
   "execution_count": null,
   "metadata": {
    "collapsed": false
   },
   "outputs": [],
   "source": [
    "sum(data)"
   ]
  },
  {
   "cell_type": "code",
   "execution_count": null,
   "metadata": {
    "collapsed": false
   },
   "outputs": [],
   "source": [
    "x_index = 2\n",
    "y_index = 3\n",
    "\n",
    "x = np.array(X)\n",
    "y = np.logical_and(pp.is_between(x[:,x_index], 3, 5), x[:,y_index]>10)\n",
    "\n",
    "xx = x[:,2:4]\n",
    "\n",
    "# this formatter will label the colorbar with the correct target names\n",
    "# formatter = plt.FuncFormatter(lambda i, *args: iris.target_names[int(i)])\n",
    "\n",
    "plt.scatter(x[:,x_index], x[:,y_index], c=y)\n",
    "plt.colorbar(ticks=[0, 1])\n",
    "#plt.xlabel(iris.feature_names[x_index])\n",
    "#plt.ylabel(iris.feature_names[y_index])\n",
    "clf = tree.DecisionTreeClassifier()\n",
    "clf = clf.fit(xx, y)"
   ]
  },
  {
   "cell_type": "code",
   "execution_count": null,
   "metadata": {
    "collapsed": false
   },
   "outputs": [],
   "source": [
    "data = []\n",
    "prediction = []\n",
    "for coil in range(88):\n",
    "    try:\n",
    "        df = mpd.importPeak(coil)\n",
    "        Xi = zip(df['Ximf1'].values, df['Yimf1'].values)\n",
    "        Yi = df['sticking'].values\n",
    "        print coil, sum(Yi), sum(clf.predict(Xi))\n",
    "        data.append(sum(Yi)>0)\n",
    "        prediction.append(sum(clf.predict(Xi))>5)\n",
    "    except:\n",
    "        pass\n",
    "data = np.array(data)\n",
    "prediction = np.array(prediction)\n",
    "sum(data), sum(prediction)\n",
    "sum(data==prediction)/88.*100"
   ]
  },
  {
   "cell_type": "code",
   "execution_count": null,
   "metadata": {
    "collapsed": false
   },
   "outputs": [],
   "source": [
    "xx"
   ]
  },
  {
   "cell_type": "code",
   "execution_count": null,
   "metadata": {
    "collapsed": false
   },
   "outputs": [],
   "source": [
    "df = mpd.importPeak(28)\n",
    "Xi = zip(df['Ximf1'].values, df['Yimf1'].values)\n",
    "Xi\n",
    "sum(clf.predict(Xi))"
   ]
  },
  {
   "cell_type": "code",
   "execution_count": null,
   "metadata": {
    "collapsed": false
   },
   "outputs": [],
   "source": [
    "a = zip([5,6],[5,6])"
   ]
  },
  {
   "cell_type": "code",
   "execution_count": null,
   "metadata": {
    "collapsed": false
   },
   "outputs": [],
   "source": [
    "a"
   ]
  },
  {
   "cell_type": "code",
   "execution_count": null,
   "metadata": {
    "collapsed": false
   },
   "outputs": [],
   "source": [
    "list(a[0])"
   ]
  },
  {
   "cell_type": "code",
   "execution_count": null,
   "metadata": {
    "collapsed": false
   },
   "outputs": [],
   "source": [
    "x = np.array(X)\n",
    "y = np.array(Y)"
   ]
  },
  {
   "cell_type": "code",
   "execution_count": null,
   "metadata": {
    "collapsed": false
   },
   "outputs": [],
   "source": [
    "x.shape"
   ]
  },
  {
   "cell_type": "code",
   "execution_count": null,
   "metadata": {
    "collapsed": false
   },
   "outputs": [],
   "source": [
    "x[0,0]"
   ]
  },
  {
   "cell_type": "code",
   "execution_count": null,
   "metadata": {
    "collapsed": false
   },
   "outputs": [],
   "source": [
    "data = np.array(data)\n",
    "prediction = np.array(prediction)\n",
    "sum(data), sum(prediction)\n",
    "sum(data==prediction)"
   ]
  },
  {
   "cell_type": "code",
   "execution_count": null,
   "metadata": {
    "collapsed": false
   },
   "outputs": [],
   "source": [
    "sum(data==prediction)"
   ]
  },
  {
   "cell_type": "code",
   "execution_count": null,
   "metadata": {
    "collapsed": false
   },
   "outputs": [],
   "source": [
    "x[:,0]>20"
   ]
  },
  {
   "cell_type": "code",
   "execution_count": null,
   "metadata": {
    "collapsed": true
   },
   "outputs": [],
   "source": []
  }
 ],
 "metadata": {
  "kernelspec": {
   "display_name": "Python 2",
   "language": "python",
   "name": "python2"
  },
  "language_info": {
   "codemirror_mode": {
    "name": "ipython",
    "version": 2
   },
   "file_extension": ".py",
   "mimetype": "text/x-python",
   "name": "python",
   "nbconvert_exporter": "python",
   "pygments_lexer": "ipython2",
   "version": "2.7.12"
  }
 },
 "nbformat": 4,
 "nbformat_minor": 1
}
