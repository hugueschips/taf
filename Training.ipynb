{
 "cells": [
  {
   "cell_type": "code",
   "execution_count": 1,
   "metadata": {
    "collapsed": false
   },
   "outputs": [],
   "source": [
    "import random\n",
    "import numpy as np\n",
    "import pandas as pd\n",
    "import manage_data as md\n",
    "import managePeakData as mpd\n",
    "import preprocessing as pp\n",
    "%matplotlib inline\n",
    "import matplotlib.pyplot as plt"
   ]
  },
  {
   "cell_type": "code",
   "execution_count": 62,
   "metadata": {
    "collapsed": false
   },
   "outputs": [],
   "source": [
    "learning_coils = [0,1,28,44,8,9,7,49,50,78,79,81]\n",
    "testing_coils = list(set(range(88)) - set(learning_coils) - set({31}))"
   ]
  },
  {
   "cell_type": "code",
   "execution_count": 63,
   "metadata": {
    "collapsed": true
   },
   "outputs": [],
   "source": [
    "def concat_df(coil_list):\n",
    "    big_df = mpd.importPeak(coil_list[0]).dropna()\n",
    "    for coil in coil_list[1:]:\n",
    "        df = mpd.importPeak(coil).dropna()\n",
    "        big_df = pd.concat([big_df, df], ignore_index=True)\n",
    "    return big_df"
   ]
  },
  {
   "cell_type": "code",
   "execution_count": 64,
   "metadata": {
    "collapsed": false
   },
   "outputs": [
    {
     "name": "stdout",
     "output_type": "stream",
     "text": [
      "155\n"
     ]
    },
    {
     "data": {
      "text/plain": [
       "coil\n",
       "0     25\n",
       "1     21\n",
       "7     28\n",
       "8     24\n",
       "9     20\n",
       "28    28\n",
       "44    27\n",
       "49    29\n",
       "50    25\n",
       "78    29\n",
       "79    26\n",
       "81    28\n",
       "dtype: int64"
      ]
     },
     "execution_count": 64,
     "metadata": {},
     "output_type": "execute_result"
    }
   ],
   "source": [
    "df = concat_df(learning_coils)\n",
    "sticking_index = list(df[df.sticking==True].index)\n",
    "non_sticking_index = list(df[df.sticking==False].index)\n",
    "group_of_items = non_sticking_index               # a sequence or set will work here.\n",
    "num_to_select = len(df[df.sticking==True])        # set the number to select here.\n",
    "list_of_random_items = random.sample(group_of_items, num_to_select)\n",
    "list_of_random_items\n",
    "ind = sticking_index+list_of_random_items\n",
    "df_random = df.loc[ind]\n",
    "print (len(df_random[df_random.sticking==True]))\n",
    "df_random.groupby('coil').size()"
   ]
  },
  {
   "cell_type": "code",
   "execution_count": 65,
   "metadata": {
    "collapsed": false
   },
   "outputs": [
    {
     "data": {
      "text/plain": [
       "155"
      ]
     },
     "execution_count": 65,
     "metadata": {},
     "output_type": "execute_result"
    }
   ],
   "source": [
    "len(df[df.sticking==True])"
   ]
  },
  {
   "cell_type": "code",
   "execution_count": 66,
   "metadata": {
    "collapsed": false
   },
   "outputs": [
    {
     "data": {
      "text/html": [
       "<div>\n",
       "<table border=\"1\" class=\"dataframe\">\n",
       "  <thead>\n",
       "    <tr style=\"text-align: right;\">\n",
       "      <th></th>\n",
       "      <th>Ximf0</th>\n",
       "      <th>Ximf1</th>\n",
       "      <th>Ximf2</th>\n",
       "      <th>Yimf0</th>\n",
       "      <th>Yimf1</th>\n",
       "      <th>Yimf2</th>\n",
       "      <th>coil</th>\n",
       "      <th>speed</th>\n",
       "      <th>sticking</th>\n",
       "      <th>thickness</th>\n",
       "      <th>time_begin</th>\n",
       "      <th>time_end</th>\n",
       "    </tr>\n",
       "  </thead>\n",
       "  <tbody>\n",
       "    <tr>\n",
       "      <th>63</th>\n",
       "      <td>1.60016</td>\n",
       "      <td>4.00040</td>\n",
       "      <td>4.00040</td>\n",
       "      <td>2.159633</td>\n",
       "      <td>15.810453</td>\n",
       "      <td>15.122418</td>\n",
       "      <td>28</td>\n",
       "      <td>1198.821656</td>\n",
       "      <td>True</td>\n",
       "      <td>0.7</td>\n",
       "      <td>96.0</td>\n",
       "      <td>100.0</td>\n",
       "    </tr>\n",
       "    <tr>\n",
       "      <th>64</th>\n",
       "      <td>4.00040</td>\n",
       "      <td>4.00040</td>\n",
       "      <td>4.00040</td>\n",
       "      <td>9.725138</td>\n",
       "      <td>39.541426</td>\n",
       "      <td>78.219214</td>\n",
       "      <td>28</td>\n",
       "      <td>1198.593447</td>\n",
       "      <td>True</td>\n",
       "      <td>0.7</td>\n",
       "      <td>100.0</td>\n",
       "      <td>104.0</td>\n",
       "    </tr>\n",
       "    <tr>\n",
       "      <th>65</th>\n",
       "      <td>4.00040</td>\n",
       "      <td>4.00040</td>\n",
       "      <td>4.00040</td>\n",
       "      <td>28.248364</td>\n",
       "      <td>40.767361</td>\n",
       "      <td>56.944011</td>\n",
       "      <td>28</td>\n",
       "      <td>1198.680533</td>\n",
       "      <td>True</td>\n",
       "      <td>0.7</td>\n",
       "      <td>104.0</td>\n",
       "      <td>108.0</td>\n",
       "    </tr>\n",
       "    <tr>\n",
       "      <th>66</th>\n",
       "      <td>4.00040</td>\n",
       "      <td>4.00040</td>\n",
       "      <td>4.00040</td>\n",
       "      <td>33.609731</td>\n",
       "      <td>58.345937</td>\n",
       "      <td>58.870689</td>\n",
       "      <td>28</td>\n",
       "      <td>1198.696552</td>\n",
       "      <td>True</td>\n",
       "      <td>0.7</td>\n",
       "      <td>108.0</td>\n",
       "      <td>112.0</td>\n",
       "    </tr>\n",
       "    <tr>\n",
       "      <th>67</th>\n",
       "      <td>4.40044</td>\n",
       "      <td>4.40044</td>\n",
       "      <td>4.40044</td>\n",
       "      <td>68.611115</td>\n",
       "      <td>70.142810</td>\n",
       "      <td>57.679230</td>\n",
       "      <td>28</td>\n",
       "      <td>1198.534788</td>\n",
       "      <td>True</td>\n",
       "      <td>0.7</td>\n",
       "      <td>112.0</td>\n",
       "      <td>116.0</td>\n",
       "    </tr>\n",
       "  </tbody>\n",
       "</table>\n",
       "</div>"
      ],
      "text/plain": [
       "      Ximf0    Ximf1    Ximf2      Yimf0      Yimf1      Yimf2  coil  \\\n",
       "63  1.60016  4.00040  4.00040   2.159633  15.810453  15.122418    28   \n",
       "64  4.00040  4.00040  4.00040   9.725138  39.541426  78.219214    28   \n",
       "65  4.00040  4.00040  4.00040  28.248364  40.767361  56.944011    28   \n",
       "66  4.00040  4.00040  4.00040  33.609731  58.345937  58.870689    28   \n",
       "67  4.40044  4.40044  4.40044  68.611115  70.142810  57.679230    28   \n",
       "\n",
       "          speed sticking  thickness  time_begin  time_end  \n",
       "63  1198.821656     True        0.7        96.0     100.0  \n",
       "64  1198.593447     True        0.7       100.0     104.0  \n",
       "65  1198.680533     True        0.7       104.0     108.0  \n",
       "66  1198.696552     True        0.7       108.0     112.0  \n",
       "67  1198.534788     True        0.7       112.0     116.0  "
      ]
     },
     "execution_count": 66,
     "metadata": {},
     "output_type": "execute_result"
    }
   ],
   "source": [
    "df_random.head()"
   ]
  },
  {
   "cell_type": "code",
   "execution_count": 67,
   "metadata": {
    "collapsed": true
   },
   "outputs": [],
   "source": [
    "def create_DB(df):\n",
    "    feature_col = ['Ximf0', 'Ximf1', 'Ximf2', 'Yimf0', 'Yimf1', 'Yimf2', 'thickness', 'speed']\n",
    "    X = df[feature_col].values\n",
    "    Y = df[['sticking']]\n",
    "    Y = np.array(Y.sticking.values[:], dtype=bool)\n",
    "    return X, Y"
   ]
  },
  {
   "cell_type": "code",
   "execution_count": 68,
   "metadata": {
    "collapsed": false
   },
   "outputs": [],
   "source": [
    "X_train, Y_train = create_DB(df_random)\n",
    "from sklearn import tree\n",
    "clf = tree.DecisionTreeClassifier()\n",
    "clf = clf.fit(X_train, Y_train)"
   ]
  },
  {
   "cell_type": "code",
   "execution_count": 69,
   "metadata": {
    "collapsed": false
   },
   "outputs": [
    {
     "name": "stdout",
     "output_type": "stream",
     "text": [
      "True\n"
     ]
    },
    {
     "data": {
      "text/plain": [
       "sticking\n",
       "False    228\n",
       "True     228\n",
       "dtype: int64"
      ]
     },
     "execution_count": 69,
     "metadata": {},
     "output_type": "execute_result"
    }
   ],
   "source": [
    "df = concat_df(testing_coils)\n",
    "sticking_index = list(df[df.sticking==True].index)\n",
    "non_sticking_index = list(df[df.sticking==False].index)\n",
    "group_of_items = non_sticking_index               # a sequence or set will work here.\n",
    "num_to_select = len(df[df.sticking==True])        # set the number to select here.\n",
    "list_of_random_items = random.sample(group_of_items, num_to_select)\n",
    "list_of_random_items\n",
    "ind = sticking_index+list_of_random_items\n",
    "df_random_test = df.loc[ind]\n",
    "print (len(df_random[df_random.sticking==False])==len(df_random[df_random.sticking==True]))\n",
    "df_random_test.groupby('sticking').size()"
   ]
  },
  {
   "cell_type": "code",
   "execution_count": 78,
   "metadata": {
    "collapsed": false
   },
   "outputs": [
    {
     "data": {
      "text/plain": [
       "array([[156,  72],\n",
       "       [136,  92]])"
      ]
     },
     "execution_count": 78,
     "metadata": {},
     "output_type": "execute_result"
    }
   ],
   "source": [
    "X_train, Y_train = create_DB(df_random)\n",
    "X_test, Y_true = create_DB(df_random_test)\n",
    "from sklearn import tree\n",
    "from sklearn import metrics\n",
    "clf = tree.DecisionTreeClassifier()\n",
    "clf = clf.fit(X_train, Y_train)\n",
    "Y_predict = clf.predict(X_test)\n",
    "m = metrics.confusion_matrix(Y_true, Y_predict, labels=[True, False])\n",
    "m"
   ]
  },
  {
   "cell_type": "code",
   "execution_count": 71,
   "metadata": {
    "collapsed": false
   },
   "outputs": [
    {
     "data": {
      "text/plain": [
       "coil\n",
       "2      8\n",
       "3     14\n",
       "4      6\n",
       "13     6\n",
       "20    11\n",
       "21     7\n",
       "29    13\n",
       "34     4\n",
       "37     5\n",
       "38    14\n",
       "40    11\n",
       "43     2\n",
       "52     4\n",
       "53     8\n",
       "62    10\n",
       "65    18\n",
       "66     9\n",
       "71     8\n",
       "72    15\n",
       "74    12\n",
       "80    15\n",
       "82    16\n",
       "83    12\n",
       "dtype: int64"
      ]
     },
     "execution_count": 71,
     "metadata": {},
     "output_type": "execute_result"
    }
   ],
   "source": [
    "df[df.sticking==True].groupby('coil').size()"
   ]
  },
  {
   "cell_type": "code",
   "execution_count": 72,
   "metadata": {
    "collapsed": false
   },
   "outputs": [],
   "source": [
    "df = mpd.importPeak(28).dropna()"
   ]
  },
  {
   "cell_type": "code",
   "execution_count": 73,
   "metadata": {
    "collapsed": false
   },
   "outputs": [
    {
     "data": {
      "text/plain": [
       "array(['Ximf0', 'Ximf1', 'Ximf2', 'Yimf0', 'Yimf1', 'Yimf2', 'coil',\n",
       "       'speed', 'sticking', 'thickness', 'time_begin', 'time_end'], dtype=object)"
      ]
     },
     "execution_count": 73,
     "metadata": {},
     "output_type": "execute_result"
    }
   ],
   "source": [
    "df.columns.values"
   ]
  },
  {
   "cell_type": "code",
   "execution_count": 74,
   "metadata": {
    "collapsed": false
   },
   "outputs": [],
   "source": [
    "def create_XY_df(coil_list):\n",
    "    feature_col = ['Ximf0', 'Ximf1', 'Ximf2', 'Yimf0', 'Yimf1', 'Yimf2', 'thickness', 'speed']\n",
    "    X = pd.DataFrame(columns=feature_col)\n",
    "    Y = pd.DataFrame(columns=['sticking'])\n",
    "    for coil in coil_list:\n",
    "        df = mpd.importPeak(coil).dropna()\n",
    "        X = X.append(df[feature_col])\n",
    "        Y = Y.append(df[['sticking']])\n",
    "    X_out = X.values\n",
    "    Y_out = np.array(Y.sticking.values[:], dtype=bool)\n",
    "    return X,Y\n",
    "\n",
    "def create_XY(coil_list):\n",
    "    X, Y = create_XY_df(coil_list)\n",
    "    X_out = X.values\n",
    "    Y_out = np.array(Y.sticking.values[:], dtype=bool)\n",
    "    return X_out, Y_out"
   ]
  },
  {
   "cell_type": "code",
   "execution_count": 75,
   "metadata": {
    "collapsed": false
   },
   "outputs": [
    {
     "ename": "NameError",
     "evalue": "name 'learn_list' is not defined",
     "output_type": "error",
     "traceback": [
      "\u001b[0;31m---------------------------------------------------------------------------\u001b[0m",
      "\u001b[0;31mNameError\u001b[0m                                 Traceback (most recent call last)",
      "\u001b[0;32m<ipython-input-75-5488b936f3e9>\u001b[0m in \u001b[0;36m<module>\u001b[0;34m()\u001b[0m\n\u001b[1;32m      1\u001b[0m \u001b[0mlearning_coils\u001b[0m \u001b[0;34m=\u001b[0m \u001b[0;34m[\u001b[0m\u001b[0;36m0\u001b[0m\u001b[0;34m,\u001b[0m\u001b[0;36m1\u001b[0m\u001b[0;34m,\u001b[0m\u001b[0;36m28\u001b[0m\u001b[0;34m,\u001b[0m\u001b[0;36m44\u001b[0m\u001b[0;34m,\u001b[0m\u001b[0;36m8\u001b[0m\u001b[0;34m,\u001b[0m\u001b[0;36m9\u001b[0m\u001b[0;34m]\u001b[0m\u001b[0;34m\u001b[0m\u001b[0m\n\u001b[0;32m----> 2\u001b[0;31m \u001b[0mX_train\u001b[0m\u001b[0;34m,\u001b[0m \u001b[0mY_train\u001b[0m \u001b[0;34m=\u001b[0m \u001b[0mcreate_XY\u001b[0m\u001b[0;34m(\u001b[0m\u001b[0mlearn_list\u001b[0m\u001b[0;34m)\u001b[0m\u001b[0;34m\u001b[0m\u001b[0m\n\u001b[0m\u001b[1;32m      3\u001b[0m \u001b[0mX_train\u001b[0m\u001b[0;34m.\u001b[0m\u001b[0mshape\u001b[0m\u001b[0;34m,\u001b[0m \u001b[0mY_train\u001b[0m\u001b[0;34m.\u001b[0m\u001b[0mshape\u001b[0m\u001b[0;34m\u001b[0m\u001b[0m\n",
      "\u001b[0;31mNameError\u001b[0m: name 'learn_list' is not defined"
     ]
    }
   ],
   "source": [
    "learning_coils = [0,1,28,44,8,9]\n",
    "X_train, Y_train = create_XY(learn_list)\n",
    "X_train.shape, Y_train.shape"
   ]
  },
  {
   "cell_type": "code",
   "execution_count": null,
   "metadata": {
    "collapsed": false
   },
   "outputs": [],
   "source": [
    "from sklearn import tree\n",
    "clf = tree.DecisionTreeClassifier()\n",
    "clf = clf.fit(X_train, Y_train)"
   ]
  },
  {
   "cell_type": "code",
   "execution_count": null,
   "metadata": {
    "collapsed": false
   },
   "outputs": [],
   "source": [
    "coil_list = [54,27,10,11,6,7,19]\n",
    "coil_list = range(2,8)+range(10,28)+range(32,44)+range(45,88)\n",
    "X_test, Y_true = create_XY(coil_list)\n",
    "Y_predict = clf.predict(X_test)"
   ]
  },
  {
   "cell_type": "code",
   "execution_count": null,
   "metadata": {
    "collapsed": false
   },
   "outputs": [],
   "source": [
    "from sklearn import metrics\n",
    "m = metrics.confusion_matrix(Y_true, Y_predict, labels=[True, False])\n",
    "m"
   ]
  },
  {
   "cell_type": "code",
   "execution_count": null,
   "metadata": {
    "collapsed": false
   },
   "outputs": [],
   "source": [
    "coil_list = [54,27,10,11,6,7,19,20,21,33]\n",
    "testing_coils = range(2,8)+range(10,28)+range(32,44)+range(45,88)\n",
    "sum_true = []\n",
    "sum_predict = []\n",
    "for coil in test_list:\n",
    "    X_test, Y_true = create_XY([coil])\n",
    "    Y_predict = clf.predict(X_test)\n",
    "    sum_true.append(sum(Y_true))\n",
    "    sum_predict.append(sum(Y_predict))\n",
    "len(sum_true)"
   ]
  },
  {
   "cell_type": "code",
   "execution_count": null,
   "metadata": {
    "collapsed": false
   },
   "outputs": [],
   "source": [
    "diff = np.abs(np.array(sum_true)-np.array(sum_predict))\n",
    "sum(diff<=5)*1./len(diff)*100"
   ]
  },
  {
   "cell_type": "code",
   "execution_count": null,
   "metadata": {
    "collapsed": true
   },
   "outputs": [],
   "source": [
    "x = sum_true\n",
    "y = sum_predict\n",
    "bins = range(len(sum_true))\n",
    "plt.figure(figsize=(16,9))\n",
    "plt.bar(bins, x, alpha=0.5, label='Truth')\n",
    "plt.bar(bins, y, alpha=0.5, label='Prediction', color='g')\n",
    "plt.legend(loc='upper right')\n",
    "plt.xlabel('Coil')\n",
    "plt.ylabel('Number of sticking sequences')\n",
    "plt.title('Learning coils '+str(learn_list)+' with confusion matrix \\n'+str(m))\n",
    "plt.show()\n",
    "plt.savefig('./images/bars/learning'+str(learn_list)+'.png')"
   ]
  },
  {
   "cell_type": "code",
   "execution_count": null,
   "metadata": {
    "collapsed": false
   },
   "outputs": [],
   "source": [
    "is_sticking = np.greater(sum_true,0)\n",
    "is_predicted = np.greater(sum_predict,1)"
   ]
  },
  {
   "cell_type": "code",
   "execution_count": null,
   "metadata": {
    "collapsed": false
   },
   "outputs": [],
   "source": [
    "m = metrics.confusion_matrix(is_sticking, is_predicted, labels=[True, False])\n",
    "m"
   ]
  },
  {
   "cell_type": "code",
   "execution_count": null,
   "metadata": {
    "collapsed": true
   },
   "outputs": [],
   "source": [
    "x = is_sticking==is_predicted\n",
    "y = is_predicted\n",
    "bins = range(len(sum_true))\n",
    "plt.figure(figsize=(16,9))\n",
    "plt.bar(bins, x, alpha=0.5, label='Truth')\n",
    "#plt.bar(bins, y, alpha=0.5, label='Prediction', color='g')\n",
    "plt.legend(loc='upper right')\n",
    "plt.xlabel('Coil')\n",
    "plt.ylabel('Sticking label')\n",
    "plt.title('Learning coils '+str(learn_list)+' with confusion matrix \\n'+str(m))\n",
    "plt.show()\n",
    "plt.savefig('./images/bars/prediction '+str(learn_list)+'.png')"
   ]
  },
  {
   "cell_type": "code",
   "execution_count": null,
   "metadata": {
    "collapsed": false
   },
   "outputs": [],
   "source": [
    "def plot_confusion_matrix(cm, title='Confusion matrix', cmap=plt.cm.Blues):\n",
    "    plt.imshow(cm, interpolation='nearest', cmap=cmap)\n",
    "    plt.title(title)\n",
    "    plt.colorbar()\n",
    "    #tick_marks = np.arange(len(iris.target_names))\n",
    "    #plt.xticks(tick_marks, iris.target_names, rotation=45)\n",
    "    #plt.yticks(tick_marks, iris.target_names)\n",
    "    plt.tight_layout()\n",
    "    plt.ylabel('True label')\n",
    "    plt.xlabel('Predicted label')"
   ]
  },
  {
   "cell_type": "code",
   "execution_count": null,
   "metadata": {
    "collapsed": false
   },
   "outputs": [],
   "source": [
    "plot_confusion_matrix(m)"
   ]
  },
  {
   "cell_type": "code",
   "execution_count": null,
   "metadata": {
    "collapsed": false
   },
   "outputs": [],
   "source": [
    "df['sticking'==True]"
   ]
  },
  {
   "cell_type": "code",
   "execution_count": null,
   "metadata": {
    "collapsed": false
   },
   "outputs": [],
   "source": [
    "df.sort_values('sticking')"
   ]
  },
  {
   "cell_type": "code",
   "execution_count": null,
   "metadata": {
    "collapsed": false
   },
   "outputs": [],
   "source": [
    "type(set())"
   ]
  },
  {
   "cell_type": "code",
   "execution_count": null,
   "metadata": {
    "collapsed": true
   },
   "outputs": [],
   "source": [
    "import random\n",
    "group_of_items = {1, 2, 3, 4}               # a sequence or set will work here.\n",
    "num_to_select = 2                           # set the number to select here.\n",
    "list_of_random_items = random.sample(group_of_items, num_to_select)\n",
    "first_random_item = list_of_random_items[0]\n",
    "second_random_item = list_of_random_items[1] "
   ]
  },
  {
   "cell_type": "code",
   "execution_count": null,
   "metadata": {
    "collapsed": false
   },
   "outputs": [],
   "source": [
    "list_of_random_items"
   ]
  },
  {
   "cell_type": "code",
   "execution_count": null,
   "metadata": {
    "collapsed": true
   },
   "outputs": [],
   "source": []
  }
 ],
 "metadata": {
  "kernelspec": {
   "display_name": "Python 2",
   "language": "python",
   "name": "python2"
  },
  "language_info": {
   "codemirror_mode": {
    "name": "ipython",
    "version": 2
   },
   "file_extension": ".py",
   "mimetype": "text/x-python",
   "name": "python",
   "nbconvert_exporter": "python",
   "pygments_lexer": "ipython2",
   "version": "2.7.12"
  }
 },
 "nbformat": 4,
 "nbformat_minor": 1
}
