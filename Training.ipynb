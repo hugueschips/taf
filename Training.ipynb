{
 "cells": [
  {
   "cell_type": "code",
   "execution_count": 3,
   "metadata": {
    "collapsed": true
   },
   "outputs": [],
   "source": [
    "import numpy as np\n",
    "import pandas as pd\n",
    "\n",
    "def importPeak(coil=28, filename='peaks.h5', path='./output/'):\n",
    "    store = pd.HDFStore(path+filename)\n",
    "    df = store['coil_'+str(coil)]\n",
    "    store.close()\n",
    "    return df"
   ]
  },
  {
   "cell_type": "code",
   "execution_count": 4,
   "metadata": {
    "collapsed": true
   },
   "outputs": [],
   "source": [
    "df = importPeak(8)"
   ]
  },
  {
   "cell_type": "code",
   "execution_count": 5,
   "metadata": {
    "collapsed": false
   },
   "outputs": [
    {
     "data": {
      "text/html": [
       "<div>\n",
       "<table border=\"1\" class=\"dataframe\">\n",
       "  <thead>\n",
       "    <tr style=\"text-align: right;\">\n",
       "      <th></th>\n",
       "      <th>Ximf0</th>\n",
       "      <th>Ximf1</th>\n",
       "      <th>Ximf2</th>\n",
       "      <th>Yimf0</th>\n",
       "      <th>Yimf1</th>\n",
       "      <th>Yimf2</th>\n",
       "      <th>sticking</th>\n",
       "    </tr>\n",
       "  </thead>\n",
       "  <tbody>\n",
       "    <tr>\n",
       "      <th>0</th>\n",
       "      <td>3.600432</td>\n",
       "      <td>1.600192</td>\n",
       "      <td>1.600192</td>\n",
       "      <td>6.908102</td>\n",
       "      <td>16.563769</td>\n",
       "      <td>48.249377</td>\n",
       "      <td>False</td>\n",
       "    </tr>\n",
       "    <tr>\n",
       "      <th>1</th>\n",
       "      <td>4.800576</td>\n",
       "      <td>1.600192</td>\n",
       "      <td>1.600192</td>\n",
       "      <td>4.057013</td>\n",
       "      <td>8.747449</td>\n",
       "      <td>44.160810</td>\n",
       "      <td>False</td>\n",
       "    </tr>\n",
       "    <tr>\n",
       "      <th>2</th>\n",
       "      <td>1.600192</td>\n",
       "      <td>1.600192</td>\n",
       "      <td>1.600192</td>\n",
       "      <td>8.941772</td>\n",
       "      <td>7.611612</td>\n",
       "      <td>25.299740</td>\n",
       "      <td>False</td>\n",
       "    </tr>\n",
       "    <tr>\n",
       "      <th>3</th>\n",
       "      <td>2.400288</td>\n",
       "      <td>2.400288</td>\n",
       "      <td>2.400288</td>\n",
       "      <td>2.752444</td>\n",
       "      <td>4.468868</td>\n",
       "      <td>15.909080</td>\n",
       "      <td>False</td>\n",
       "    </tr>\n",
       "    <tr>\n",
       "      <th>4</th>\n",
       "      <td>7.200864</td>\n",
       "      <td>1.600192</td>\n",
       "      <td>1.600192</td>\n",
       "      <td>2.601460</td>\n",
       "      <td>4.951648</td>\n",
       "      <td>22.938451</td>\n",
       "      <td>False</td>\n",
       "    </tr>\n",
       "    <tr>\n",
       "      <th>5</th>\n",
       "      <td>2.000240</td>\n",
       "      <td>2.000240</td>\n",
       "      <td>2.000240</td>\n",
       "      <td>2.122284</td>\n",
       "      <td>14.853788</td>\n",
       "      <td>21.763343</td>\n",
       "      <td>False</td>\n",
       "    </tr>\n",
       "    <tr>\n",
       "      <th>6</th>\n",
       "      <td>9.201104</td>\n",
       "      <td>2.400288</td>\n",
       "      <td>2.400288</td>\n",
       "      <td>2.425545</td>\n",
       "      <td>10.493586</td>\n",
       "      <td>34.060803</td>\n",
       "      <td>False</td>\n",
       "    </tr>\n",
       "    <tr>\n",
       "      <th>7</th>\n",
       "      <td>5.200624</td>\n",
       "      <td>2.800336</td>\n",
       "      <td>2.800336</td>\n",
       "      <td>2.371374</td>\n",
       "      <td>28.225146</td>\n",
       "      <td>31.613150</td>\n",
       "      <td>False</td>\n",
       "    </tr>\n",
       "    <tr>\n",
       "      <th>8</th>\n",
       "      <td>2.800336</td>\n",
       "      <td>3.200384</td>\n",
       "      <td>3.200384</td>\n",
       "      <td>3.870864</td>\n",
       "      <td>31.730431</td>\n",
       "      <td>29.749363</td>\n",
       "      <td>True</td>\n",
       "    </tr>\n",
       "    <tr>\n",
       "      <th>9</th>\n",
       "      <td>2.400288</td>\n",
       "      <td>3.600432</td>\n",
       "      <td>3.600432</td>\n",
       "      <td>2.613745</td>\n",
       "      <td>28.157694</td>\n",
       "      <td>22.696154</td>\n",
       "      <td>True</td>\n",
       "    </tr>\n",
       "    <tr>\n",
       "      <th>10</th>\n",
       "      <td>7.600912</td>\n",
       "      <td>4.000480</td>\n",
       "      <td>4.000480</td>\n",
       "      <td>6.558240</td>\n",
       "      <td>22.385689</td>\n",
       "      <td>14.806383</td>\n",
       "      <td>True</td>\n",
       "    </tr>\n",
       "    <tr>\n",
       "      <th>11</th>\n",
       "      <td>4.000480</td>\n",
       "      <td>4.000480</td>\n",
       "      <td>4.000480</td>\n",
       "      <td>3.599814</td>\n",
       "      <td>17.618540</td>\n",
       "      <td>22.132574</td>\n",
       "      <td>True</td>\n",
       "    </tr>\n",
       "    <tr>\n",
       "      <th>12</th>\n",
       "      <td>8.000960</td>\n",
       "      <td>4.000480</td>\n",
       "      <td>4.000480</td>\n",
       "      <td>4.383938</td>\n",
       "      <td>17.686047</td>\n",
       "      <td>6.614866</td>\n",
       "      <td>True</td>\n",
       "    </tr>\n",
       "    <tr>\n",
       "      <th>13</th>\n",
       "      <td>9.201104</td>\n",
       "      <td>4.400528</td>\n",
       "      <td>2.800336</td>\n",
       "      <td>2.834829</td>\n",
       "      <td>14.078934</td>\n",
       "      <td>3.362034</td>\n",
       "      <td>True</td>\n",
       "    </tr>\n",
       "    <tr>\n",
       "      <th>14</th>\n",
       "      <td>2.800336</td>\n",
       "      <td>4.800576</td>\n",
       "      <td>2.400288</td>\n",
       "      <td>2.320471</td>\n",
       "      <td>8.885659</td>\n",
       "      <td>5.668072</td>\n",
       "      <td>True</td>\n",
       "    </tr>\n",
       "    <tr>\n",
       "      <th>15</th>\n",
       "      <td>4.800576</td>\n",
       "      <td>4.800576</td>\n",
       "      <td>4.800576</td>\n",
       "      <td>3.589369</td>\n",
       "      <td>7.422423</td>\n",
       "      <td>2.046399</td>\n",
       "      <td>False</td>\n",
       "    </tr>\n",
       "    <tr>\n",
       "      <th>16</th>\n",
       "      <td>4.800576</td>\n",
       "      <td>4.800576</td>\n",
       "      <td>6.000720</td>\n",
       "      <td>2.983306</td>\n",
       "      <td>7.318659</td>\n",
       "      <td>2.319959</td>\n",
       "      <td>False</td>\n",
       "    </tr>\n",
       "    <tr>\n",
       "      <th>17</th>\n",
       "      <td>5.200624</td>\n",
       "      <td>4.800576</td>\n",
       "      <td>6.800816</td>\n",
       "      <td>6.847478</td>\n",
       "      <td>5.272396</td>\n",
       "      <td>2.946874</td>\n",
       "      <td>False</td>\n",
       "    </tr>\n",
       "    <tr>\n",
       "      <th>18</th>\n",
       "      <td>5.200624</td>\n",
       "      <td>5.200624</td>\n",
       "      <td>3.200384</td>\n",
       "      <td>11.980261</td>\n",
       "      <td>6.547050</td>\n",
       "      <td>3.631825</td>\n",
       "      <td>False</td>\n",
       "    </tr>\n",
       "    <tr>\n",
       "      <th>19</th>\n",
       "      <td>5.200624</td>\n",
       "      <td>5.200624</td>\n",
       "      <td>2.000240</td>\n",
       "      <td>8.403470</td>\n",
       "      <td>8.085479</td>\n",
       "      <td>3.556428</td>\n",
       "      <td>False</td>\n",
       "    </tr>\n",
       "    <tr>\n",
       "      <th>20</th>\n",
       "      <td>5.200624</td>\n",
       "      <td>6.800816</td>\n",
       "      <td>7.600912</td>\n",
       "      <td>6.498911</td>\n",
       "      <td>4.039967</td>\n",
       "      <td>3.027767</td>\n",
       "      <td>False</td>\n",
       "    </tr>\n",
       "    <tr>\n",
       "      <th>21</th>\n",
       "      <td>5.200624</td>\n",
       "      <td>5.200624</td>\n",
       "      <td>7.600912</td>\n",
       "      <td>5.403532</td>\n",
       "      <td>4.624348</td>\n",
       "      <td>3.119614</td>\n",
       "      <td>False</td>\n",
       "    </tr>\n",
       "    <tr>\n",
       "      <th>22</th>\n",
       "      <td>5.600672</td>\n",
       "      <td>6.000720</td>\n",
       "      <td>5.600672</td>\n",
       "      <td>8.994208</td>\n",
       "      <td>5.264604</td>\n",
       "      <td>6.561528</td>\n",
       "      <td>False</td>\n",
       "    </tr>\n",
       "    <tr>\n",
       "      <th>23</th>\n",
       "      <td>5.600672</td>\n",
       "      <td>8.801056</td>\n",
       "      <td>5.600672</td>\n",
       "      <td>2.087446</td>\n",
       "      <td>4.325233</td>\n",
       "      <td>2.446612</td>\n",
       "      <td>False</td>\n",
       "    </tr>\n",
       "    <tr>\n",
       "      <th>24</th>\n",
       "      <td>5.600672</td>\n",
       "      <td>6.000720</td>\n",
       "      <td>6.000720</td>\n",
       "      <td>3.392836</td>\n",
       "      <td>4.897853</td>\n",
       "      <td>2.559370</td>\n",
       "      <td>False</td>\n",
       "    </tr>\n",
       "    <tr>\n",
       "      <th>25</th>\n",
       "      <td>6.000720</td>\n",
       "      <td>1.600192</td>\n",
       "      <td>6.000720</td>\n",
       "      <td>3.119289</td>\n",
       "      <td>2.543729</td>\n",
       "      <td>3.449978</td>\n",
       "      <td>False</td>\n",
       "    </tr>\n",
       "    <tr>\n",
       "      <th>26</th>\n",
       "      <td>5.600672</td>\n",
       "      <td>2.400288</td>\n",
       "      <td>5.600672</td>\n",
       "      <td>2.558321</td>\n",
       "      <td>2.677992</td>\n",
       "      <td>2.625331</td>\n",
       "      <td>False</td>\n",
       "    </tr>\n",
       "    <tr>\n",
       "      <th>27</th>\n",
       "      <td>6.000720</td>\n",
       "      <td>6.400768</td>\n",
       "      <td>2.000240</td>\n",
       "      <td>4.465830</td>\n",
       "      <td>5.581876</td>\n",
       "      <td>4.153826</td>\n",
       "      <td>False</td>\n",
       "    </tr>\n",
       "    <tr>\n",
       "      <th>28</th>\n",
       "      <td>4.800576</td>\n",
       "      <td>4.400528</td>\n",
       "      <td>3.200384</td>\n",
       "      <td>3.009345</td>\n",
       "      <td>2.054503</td>\n",
       "      <td>3.431468</td>\n",
       "      <td>False</td>\n",
       "    </tr>\n",
       "    <tr>\n",
       "      <th>29</th>\n",
       "      <td>6.400768</td>\n",
       "      <td>6.000720</td>\n",
       "      <td>3.600432</td>\n",
       "      <td>1.556181</td>\n",
       "      <td>3.027546</td>\n",
       "      <td>2.623280</td>\n",
       "      <td>False</td>\n",
       "    </tr>\n",
       "    <tr>\n",
       "      <th>30</th>\n",
       "      <td>2.000240</td>\n",
       "      <td>1.600192</td>\n",
       "      <td>1.600192</td>\n",
       "      <td>8.501943</td>\n",
       "      <td>10.454596</td>\n",
       "      <td>3.951057</td>\n",
       "      <td>False</td>\n",
       "    </tr>\n",
       "    <tr>\n",
       "      <th>31</th>\n",
       "      <td>6.800816</td>\n",
       "      <td>6.800816</td>\n",
       "      <td>1.600192</td>\n",
       "      <td>2.440341</td>\n",
       "      <td>3.120822</td>\n",
       "      <td>2.128500</td>\n",
       "      <td>False</td>\n",
       "    </tr>\n",
       "  </tbody>\n",
       "</table>\n",
       "</div>"
      ],
      "text/plain": [
       "       Ximf0     Ximf1     Ximf2      Yimf0      Yimf1      Yimf2 sticking\n",
       "0   3.600432  1.600192  1.600192   6.908102  16.563769  48.249377    False\n",
       "1   4.800576  1.600192  1.600192   4.057013   8.747449  44.160810    False\n",
       "2   1.600192  1.600192  1.600192   8.941772   7.611612  25.299740    False\n",
       "3   2.400288  2.400288  2.400288   2.752444   4.468868  15.909080    False\n",
       "4   7.200864  1.600192  1.600192   2.601460   4.951648  22.938451    False\n",
       "5   2.000240  2.000240  2.000240   2.122284  14.853788  21.763343    False\n",
       "6   9.201104  2.400288  2.400288   2.425545  10.493586  34.060803    False\n",
       "7   5.200624  2.800336  2.800336   2.371374  28.225146  31.613150    False\n",
       "8   2.800336  3.200384  3.200384   3.870864  31.730431  29.749363     True\n",
       "9   2.400288  3.600432  3.600432   2.613745  28.157694  22.696154     True\n",
       "10  7.600912  4.000480  4.000480   6.558240  22.385689  14.806383     True\n",
       "11  4.000480  4.000480  4.000480   3.599814  17.618540  22.132574     True\n",
       "12  8.000960  4.000480  4.000480   4.383938  17.686047   6.614866     True\n",
       "13  9.201104  4.400528  2.800336   2.834829  14.078934   3.362034     True\n",
       "14  2.800336  4.800576  2.400288   2.320471   8.885659   5.668072     True\n",
       "15  4.800576  4.800576  4.800576   3.589369   7.422423   2.046399    False\n",
       "16  4.800576  4.800576  6.000720   2.983306   7.318659   2.319959    False\n",
       "17  5.200624  4.800576  6.800816   6.847478   5.272396   2.946874    False\n",
       "18  5.200624  5.200624  3.200384  11.980261   6.547050   3.631825    False\n",
       "19  5.200624  5.200624  2.000240   8.403470   8.085479   3.556428    False\n",
       "20  5.200624  6.800816  7.600912   6.498911   4.039967   3.027767    False\n",
       "21  5.200624  5.200624  7.600912   5.403532   4.624348   3.119614    False\n",
       "22  5.600672  6.000720  5.600672   8.994208   5.264604   6.561528    False\n",
       "23  5.600672  8.801056  5.600672   2.087446   4.325233   2.446612    False\n",
       "24  5.600672  6.000720  6.000720   3.392836   4.897853   2.559370    False\n",
       "25  6.000720  1.600192  6.000720   3.119289   2.543729   3.449978    False\n",
       "26  5.600672  2.400288  5.600672   2.558321   2.677992   2.625331    False\n",
       "27  6.000720  6.400768  2.000240   4.465830   5.581876   4.153826    False\n",
       "28  4.800576  4.400528  3.200384   3.009345   2.054503   3.431468    False\n",
       "29  6.400768  6.000720  3.600432   1.556181   3.027546   2.623280    False\n",
       "30  2.000240  1.600192  1.600192   8.501943  10.454596   3.951057    False\n",
       "31  6.800816  6.800816  1.600192   2.440341   3.120822   2.128500    False"
      ]
     },
     "execution_count": 5,
     "metadata": {},
     "output_type": "execute_result"
    }
   ],
   "source": [
    "df"
   ]
  },
  {
   "cell_type": "code",
   "execution_count": 2,
   "metadata": {
    "collapsed": false
   },
   "outputs": [
    {
     "ename": "NameError",
     "evalue": "name 'df' is not defined",
     "output_type": "error",
     "traceback": [
      "\u001b[0;31m---------------------------------------------------------------------------\u001b[0m",
      "\u001b[0;31mNameError\u001b[0m                                 Traceback (most recent call last)",
      "\u001b[0;32m<ipython-input-2-0fe90f8063b0>\u001b[0m in \u001b[0;36m<module>\u001b[0;34m()\u001b[0m\n\u001b[0;32m----> 1\u001b[0;31m \u001b[0mdf\u001b[0m\u001b[0;34m.\u001b[0m\u001b[0mshape\u001b[0m\u001b[0;34m\u001b[0m\u001b[0m\n\u001b[0m",
      "\u001b[0;31mNameError\u001b[0m: name 'df' is not defined"
     ]
    }
   ],
   "source": [
    "df.shape"
   ]
  },
  {
   "cell_type": "code",
   "execution_count": 5,
   "metadata": {
    "collapsed": true
   },
   "outputs": [],
   "source": [
    "dfa = np.asarray(df)"
   ]
  },
  {
   "cell_type": "code",
   "execution_count": 6,
   "metadata": {
    "collapsed": false
   },
   "outputs": [
    {
     "data": {
      "text/plain": [
       "array([[   8.0008    ,    2.0002    ,    4.0004    ,    2.14634999,\n",
       "           4.27680479,    6.79411607],\n",
       "       [   8.0008    ,    8.0008    ,    8.0008    ,    2.56169147,\n",
       "           9.63439037,    7.31037065],\n",
       "       [   4.0004    ,    4.0004    ,    4.0004    ,    2.41044876,\n",
       "          25.14451282,   41.62835842],\n",
       "       [   4.0004    ,    4.0004    ,    4.0004    ,   22.21953366,\n",
       "          59.1980845 ,   82.77698118],\n",
       "       [   4.0004    ,    4.0004    ,    4.0004    ,   34.23275134,\n",
       "          39.82980491,   54.14790647],\n",
       "       [   4.40044   ,    4.40044   ,    4.40044   ,   47.71857616,\n",
       "          49.61006433,   50.56690832],\n",
       "       [   4.40044   ,    4.40044   ,    4.40044   ,   83.08718027,\n",
       "          76.60272963,   94.32177238],\n",
       "       [   4.40044   ,    4.40044   ,    4.40044   ,  159.78880255,\n",
       "         135.31492763,  109.27005451],\n",
       "       [   4.40044   ,    4.40044   ,    4.40044   ,  139.69484773,\n",
       "         106.72734093,   72.40046975],\n",
       "       [   4.40044   ,    4.40044   ,    4.80048   ,   46.26648569,\n",
       "          71.14363037,   17.96648001],\n",
       "       [   4.40044   ,    4.80048   ,    4.80048   ,   19.6210183 ,\n",
       "          46.1432291 ,   32.60670155],\n",
       "       [   4.80048   ,    4.80048   ,    4.80048   ,   28.50478255,\n",
       "          52.56663894,   29.72929647],\n",
       "       [   4.80048   ,    4.80048   ,    1.60016   ,    8.24600058,\n",
       "          31.12706859,   13.34677362],\n",
       "       [   4.80048   ,    4.80048   ,    7.20072   ,    4.74385213,\n",
       "           6.76600842,    3.99601697]])"
      ]
     },
     "execution_count": 6,
     "metadata": {},
     "output_type": "execute_result"
    }
   ],
   "source": [
    "dfa"
   ]
  },
  {
   "cell_type": "code",
   "execution_count": 8,
   "metadata": {
    "collapsed": false
   },
   "outputs": [
    {
     "data": {
      "text/plain": [
       "8.0007999999999999"
      ]
     },
     "execution_count": 8,
     "metadata": {},
     "output_type": "execute_result"
    }
   ],
   "source": [
    "dfa[1,0]"
   ]
  },
  {
   "cell_type": "code",
   "execution_count": 12,
   "metadata": {
    "collapsed": true
   },
   "outputs": [],
   "source": [
    "def is_sticking_on_window(\n",
    "                        window_start, window_end,\n",
    "                        sticking_start, sticking_end\n",
    "                        ):\n",
    "    return sticking_start<=window_start and window_end<=sticking_end"
   ]
  },
  {
   "cell_type": "code",
   "execution_count": 13,
   "metadata": {
    "collapsed": false
   },
   "outputs": [
    {
     "data": {
      "text/plain": [
       "True"
      ]
     },
     "execution_count": 13,
     "metadata": {},
     "output_type": "execute_result"
    }
   ],
   "source": [
    "is_sticking_on_window(250,260,90,260)"
   ]
  },
  {
   "cell_type": "code",
   "execution_count": 21,
   "metadata": {
    "collapsed": false
   },
   "outputs": [],
   "source": [
    "coil_dict = {}\n",
    "coil_dict['28'] = {'Coil' : 0, 'Time' : [90,150]}\n",
    "coil_dict['1'] = {'Coil' : 1, 'Time' : [120,160]}\n",
    "            "
   ]
  },
  {
   "cell_type": "code",
   "execution_count": 22,
   "metadata": {
    "collapsed": false
   },
   "outputs": [
    {
     "data": {
      "text/plain": [
       "['1', '0']"
      ]
     },
     "execution_count": 22,
     "metadata": {},
     "output_type": "execute_result"
    }
   ],
   "source": [
    "coil_dict.keys()"
   ]
  },
  {
   "cell_type": "code",
   "execution_count": 27,
   "metadata": {
    "collapsed": false
   },
   "outputs": [
    {
     "name": "stdout",
     "output_type": "stream",
     "text": [
      "[120, 160]\n",
      "[90, 150]\n"
     ]
    }
   ],
   "source": [
    "for coil in coil_dict:\n",
    "    print coil_dict[coil]['Time']"
   ]
  },
  {
   "cell_type": "code",
   "execution_count": null,
   "metadata": {
    "collapsed": true
   },
   "outputs": [],
   "source": []
  }
 ],
 "metadata": {
  "kernelspec": {
   "display_name": "Python 2",
   "language": "python",
   "name": "python2"
  },
  "language_info": {
   "codemirror_mode": {
    "name": "ipython",
    "version": 2
   },
   "file_extension": ".py",
   "mimetype": "text/x-python",
   "name": "python",
   "nbconvert_exporter": "python",
   "pygments_lexer": "ipython2",
   "version": "2.7.12"
  }
 },
 "nbformat": 4,
 "nbformat_minor": 1
}
