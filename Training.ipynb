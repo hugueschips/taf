{
 "cells": [
  {
   "cell_type": "code",
   "execution_count": 1,
   "metadata": {
    "collapsed": true
   },
   "outputs": [],
   "source": [
    "import numpy as np\n",
    "import pandas as pd\n",
    "import managePeakData as mpd"
   ]
  },
  {
   "cell_type": "code",
   "execution_count": 2,
   "metadata": {
    "collapsed": false
   },
   "outputs": [],
   "source": [
    "df = mpd.importPeak(1)"
   ]
  },
  {
   "cell_type": "code",
   "execution_count": 3,
   "metadata": {
    "collapsed": false
   },
   "outputs": [
    {
     "data": {
      "text/html": [
       "<div>\n",
       "<table border=\"1\" class=\"dataframe\">\n",
       "  <thead>\n",
       "    <tr style=\"text-align: right;\">\n",
       "      <th></th>\n",
       "      <th>Ximf0</th>\n",
       "      <th>Ximf1</th>\n",
       "      <th>Ximf2</th>\n",
       "      <th>Yimf0</th>\n",
       "      <th>Yimf1</th>\n",
       "      <th>Yimf2</th>\n",
       "      <th>sticking</th>\n",
       "      <th>time_begin</th>\n",
       "      <th>time_end</th>\n",
       "    </tr>\n",
       "  </thead>\n",
       "  <tbody>\n",
       "    <tr>\n",
       "      <th>0</th>\n",
       "      <td>4.00048</td>\n",
       "      <td>4.00048</td>\n",
       "      <td>4.00048</td>\n",
       "      <td>10.997140</td>\n",
       "      <td>53.246311</td>\n",
       "      <td>27.099370</td>\n",
       "      <td>False</td>\n",
       "      <td>90.0</td>\n",
       "      <td>94.0</td>\n",
       "    </tr>\n",
       "    <tr>\n",
       "      <th>1</th>\n",
       "      <td>4.00048</td>\n",
       "      <td>4.00048</td>\n",
       "      <td>4.00048</td>\n",
       "      <td>23.328407</td>\n",
       "      <td>42.661419</td>\n",
       "      <td>32.425791</td>\n",
       "      <td>False</td>\n",
       "      <td>94.0</td>\n",
       "      <td>98.0</td>\n",
       "    </tr>\n",
       "    <tr>\n",
       "      <th>2</th>\n",
       "      <td>4.00048</td>\n",
       "      <td>4.00048</td>\n",
       "      <td>4.00048</td>\n",
       "      <td>16.354136</td>\n",
       "      <td>67.408223</td>\n",
       "      <td>28.528204</td>\n",
       "      <td>False</td>\n",
       "      <td>98.0</td>\n",
       "      <td>102.0</td>\n",
       "    </tr>\n",
       "    <tr>\n",
       "      <th>3</th>\n",
       "      <td>4.00048</td>\n",
       "      <td>4.00048</td>\n",
       "      <td>4.00048</td>\n",
       "      <td>12.281024</td>\n",
       "      <td>25.186493</td>\n",
       "      <td>24.820231</td>\n",
       "      <td>False</td>\n",
       "      <td>102.0</td>\n",
       "      <td>106.0</td>\n",
       "    </tr>\n",
       "    <tr>\n",
       "      <th>4</th>\n",
       "      <td>4.00048</td>\n",
       "      <td>4.00048</td>\n",
       "      <td>4.00048</td>\n",
       "      <td>10.416508</td>\n",
       "      <td>26.581959</td>\n",
       "      <td>15.601763</td>\n",
       "      <td>False</td>\n",
       "      <td>106.0</td>\n",
       "      <td>110.0</td>\n",
       "    </tr>\n",
       "  </tbody>\n",
       "</table>\n",
       "</div>"
      ],
      "text/plain": [
       "     Ximf0    Ximf1    Ximf2      Yimf0      Yimf1      Yimf2 sticking  \\\n",
       "0  4.00048  4.00048  4.00048  10.997140  53.246311  27.099370    False   \n",
       "1  4.00048  4.00048  4.00048  23.328407  42.661419  32.425791    False   \n",
       "2  4.00048  4.00048  4.00048  16.354136  67.408223  28.528204    False   \n",
       "3  4.00048  4.00048  4.00048  12.281024  25.186493  24.820231    False   \n",
       "4  4.00048  4.00048  4.00048  10.416508  26.581959  15.601763    False   \n",
       "\n",
       "   time_begin  time_end  \n",
       "0        90.0      94.0  \n",
       "1        94.0      98.0  \n",
       "2        98.0     102.0  \n",
       "3       102.0     106.0  \n",
       "4       106.0     110.0  "
      ]
     },
     "execution_count": 3,
     "metadata": {},
     "output_type": "execute_result"
    }
   ],
   "source": [
    "df.head()"
   ]
  },
  {
   "cell_type": "code",
   "execution_count": 6,
   "metadata": {
    "collapsed": false
   },
   "outputs": [
    {
     "data": {
      "text/plain": [
       "47"
      ]
     },
     "execution_count": 6,
     "metadata": {},
     "output_type": "execute_result"
    }
   ],
   "source": [
    "from sklearn import tree\n",
    "X = []\n",
    "Y = []\n",
    "for coil in [1,8,9,28,44,5,6,10,11,20,29,58,25,14,15,16,18]:\n",
    "    df = mpd.importPeak(coil)\n",
    "    Xi = zip(\n",
    "            list(df['Ximf0']), list(df['Yimf0']), \n",
    "            list(df['Ximf1']), list(df['Yimf1']), \n",
    "            list(df['Ximf2']), list(df['Yimf2'])\n",
    "            )\n",
    "    Yi = list(df['sticking'])\n",
    "    X += Xi\n",
    "    Y += Yi\n",
    "clf = tree.DecisionTreeClassifier()\n",
    "clf = clf.fit(X, Y)\n",
    "sum(Y)"
   ]
  },
  {
   "cell_type": "code",
   "execution_count": 7,
   "metadata": {
    "collapsed": false
   },
   "outputs": [
    {
     "name": "stdout",
     "output_type": "stream",
     "text": [
      "0 0 4\n",
      "1 0 0\n",
      "2 8 1\n",
      "3 14 1\n",
      "4 6 2\n",
      "5 0 0\n",
      "6 0 0\n",
      "7 27 26\n",
      "8 7 7\n",
      "9 1 1\n",
      "10 0 0\n",
      "11 0 0\n",
      "12 0 1\n",
      "13 7 1\n",
      "14 0 0\n",
      "15 0 0\n",
      "16 0 0\n",
      "17 0 1\n",
      "18 0 0\n",
      "19 0 1\n",
      "20 11 11\n",
      "21 7 1\n",
      "22 0 1\n",
      "23 0 4\n",
      "24 0 0\n",
      "25 0 0\n",
      "26 0 0\n",
      "27 0 6\n",
      "28 13 13\n",
      "29 13 13\n",
      "30 0 3\n",
      "32 0 0\n",
      "33 0 3\n",
      "34 4 4\n",
      "35 0 1\n",
      "36 0 3\n",
      "37 5 1\n",
      "38 14 9\n",
      "39 0 1\n",
      "40 12 4\n",
      "41 0 4\n",
      "42 0 0\n",
      "43 3 2\n",
      "44 2 2\n",
      "45 0 5\n",
      "46 0 9\n",
      "47 0 2\n",
      "48 0 1\n",
      "49 29 3\n",
      "50 10 2\n",
      "51 0 6\n",
      "52 4 3\n",
      "53 8 2\n",
      "54 0 1\n",
      "55 0 4\n",
      "56 0 5\n",
      "57 0 6\n",
      "58 0 0\n",
      "59 0 1\n",
      "60 0 0\n",
      "61 0 1\n",
      "62 10 7\n",
      "63 0 2\n",
      "64 0 5\n",
      "65 18 2\n",
      "66 9 1\n",
      "67 0 1\n",
      "68 0 7\n",
      "69 0 1\n",
      "70 0 4\n",
      "71 8 5\n",
      "72 16 5\n",
      "73 0 2\n",
      "74 12 6\n",
      "75 0 1\n",
      "76 0 0\n",
      "77 0 19\n",
      "78 29 4\n",
      "79 15 1\n",
      "80 15 3\n",
      "81 27 5\n",
      "82 17 2\n",
      "83 12 2\n",
      "84 0 3\n",
      "85 0 5\n",
      "86 0 5\n",
      "87 0 0\n"
     ]
    }
   ],
   "source": [
    "for coil in range(88):\n",
    "    try:\n",
    "        df = mpd.importPeak(coil)\n",
    "        X = zip(\n",
    "                list(df['Ximf0']), list(df['Yimf0']), \n",
    "                list(df['Ximf1']), list(df['Yimf1']), \n",
    "                list(df['Ximf2']), list(df['Yimf2'])\n",
    "                )\n",
    "        Y = list(df['sticking'])\n",
    "        print coil, sum(Y), sum(clf.predict(X))\n",
    "    except:\n",
    "        pass"
   ]
  },
  {
   "cell_type": "code",
   "execution_count": null,
   "metadata": {
    "collapsed": true
   },
   "outputs": [],
   "source": []
  }
 ],
 "metadata": {
  "kernelspec": {
   "display_name": "Python 2",
   "language": "python",
   "name": "python2"
  },
  "language_info": {
   "codemirror_mode": {
    "name": "ipython",
    "version": 2
   },
   "file_extension": ".py",
   "mimetype": "text/x-python",
   "name": "python",
   "nbconvert_exporter": "python",
   "pygments_lexer": "ipython2",
   "version": "2.7.12"
  }
 },
 "nbformat": 4,
 "nbformat_minor": 1
}
