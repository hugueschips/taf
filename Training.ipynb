{
 "cells": [
  {
   "cell_type": "code",
   "execution_count": 1,
   "metadata": {
    "collapsed": true
   },
   "outputs": [],
   "source": [
    "import numpy as np\n",
    "import pandas as pd\n",
    "\n",
    "def importPeak(coil=28, filename='peaks.h5', path='./output/'):\n",
    "    store = pd.HDFStore(path+filename)\n",
    "    df = store['coil_'+str(coil)]\n",
    "    store.close()\n",
    "    return df"
   ]
  },
  {
   "cell_type": "code",
   "execution_count": 28,
   "metadata": {
    "collapsed": true
   },
   "outputs": [],
   "source": [
    "df = importPeak(0)"
   ]
  },
  {
   "cell_type": "code",
   "execution_count": 31,
   "metadata": {
    "collapsed": false
   },
   "outputs": [
    {
     "data": {
      "text/html": [
       "<div>\n",
       "<table border=\"1\" class=\"dataframe\">\n",
       "  <thead>\n",
       "    <tr style=\"text-align: right;\">\n",
       "      <th></th>\n",
       "      <th>Ximf0</th>\n",
       "      <th>Ximf1</th>\n",
       "      <th>Ximf2</th>\n",
       "      <th>Yimf0</th>\n",
       "      <th>Yimf1</th>\n",
       "      <th>Yimf2</th>\n",
       "      <th>sticking</th>\n",
       "    </tr>\n",
       "  </thead>\n",
       "  <tbody>\n",
       "    <tr>\n",
       "      <th>76</th>\n",
       "      <td>3.60036</td>\n",
       "      <td>7.60076</td>\n",
       "      <td>7.60076</td>\n",
       "      <td>2.355885</td>\n",
       "      <td>4.255379</td>\n",
       "      <td>9.659693</td>\n",
       "      <td>False</td>\n",
       "    </tr>\n",
       "    <tr>\n",
       "      <th>77</th>\n",
       "      <td>8.40084</td>\n",
       "      <td>7.60076</td>\n",
       "      <td>8.40084</td>\n",
       "      <td>4.683073</td>\n",
       "      <td>21.636660</td>\n",
       "      <td>6.656499</td>\n",
       "      <td>False</td>\n",
       "    </tr>\n",
       "    <tr>\n",
       "      <th>78</th>\n",
       "      <td>7.60076</td>\n",
       "      <td>4.80048</td>\n",
       "      <td>4.00040</td>\n",
       "      <td>5.673011</td>\n",
       "      <td>5.678770</td>\n",
       "      <td>8.015245</td>\n",
       "      <td>False</td>\n",
       "    </tr>\n",
       "    <tr>\n",
       "      <th>79</th>\n",
       "      <td>3.20032</td>\n",
       "      <td>6.80068</td>\n",
       "      <td>6.80068</td>\n",
       "      <td>15.558661</td>\n",
       "      <td>15.293764</td>\n",
       "      <td>6.988810</td>\n",
       "      <td>False</td>\n",
       "    </tr>\n",
       "    <tr>\n",
       "      <th>80</th>\n",
       "      <td>1.60016</td>\n",
       "      <td>2.00020</td>\n",
       "      <td>2.00020</td>\n",
       "      <td>1.041949</td>\n",
       "      <td>5.415186</td>\n",
       "      <td>9.279924</td>\n",
       "      <td>False</td>\n",
       "    </tr>\n",
       "    <tr>\n",
       "      <th>81</th>\n",
       "      <td>1.60016</td>\n",
       "      <td>1.60016</td>\n",
       "      <td>1.60016</td>\n",
       "      <td>8.688471</td>\n",
       "      <td>29.589863</td>\n",
       "      <td>75.496520</td>\n",
       "      <td>False</td>\n",
       "    </tr>\n",
       "    <tr>\n",
       "      <th>82</th>\n",
       "      <td>1.60016</td>\n",
       "      <td>1.60016</td>\n",
       "      <td>1.60016</td>\n",
       "      <td>10.265772</td>\n",
       "      <td>45.571369</td>\n",
       "      <td>67.557651</td>\n",
       "      <td>False</td>\n",
       "    </tr>\n",
       "    <tr>\n",
       "      <th>83</th>\n",
       "      <td>4.40044</td>\n",
       "      <td>2.00020</td>\n",
       "      <td>1.60016</td>\n",
       "      <td>12.842994</td>\n",
       "      <td>22.275142</td>\n",
       "      <td>25.088917</td>\n",
       "      <td>False</td>\n",
       "    </tr>\n",
       "    <tr>\n",
       "      <th>84</th>\n",
       "      <td>1.60016</td>\n",
       "      <td>1.60016</td>\n",
       "      <td>1.60016</td>\n",
       "      <td>17.882145</td>\n",
       "      <td>25.177470</td>\n",
       "      <td>28.647542</td>\n",
       "      <td>False</td>\n",
       "    </tr>\n",
       "    <tr>\n",
       "      <th>85</th>\n",
       "      <td>1.60016</td>\n",
       "      <td>1.60016</td>\n",
       "      <td>1.60016</td>\n",
       "      <td>119.957056</td>\n",
       "      <td>167.031151</td>\n",
       "      <td>206.214111</td>\n",
       "      <td>False</td>\n",
       "    </tr>\n",
       "  </tbody>\n",
       "</table>\n",
       "</div>"
      ],
      "text/plain": [
       "      Ximf0    Ximf1    Ximf2       Yimf0       Yimf1       Yimf2 sticking\n",
       "76  3.60036  7.60076  7.60076    2.355885    4.255379    9.659693    False\n",
       "77  8.40084  7.60076  8.40084    4.683073   21.636660    6.656499    False\n",
       "78  7.60076  4.80048  4.00040    5.673011    5.678770    8.015245    False\n",
       "79  3.20032  6.80068  6.80068   15.558661   15.293764    6.988810    False\n",
       "80  1.60016  2.00020  2.00020    1.041949    5.415186    9.279924    False\n",
       "81  1.60016  1.60016  1.60016    8.688471   29.589863   75.496520    False\n",
       "82  1.60016  1.60016  1.60016   10.265772   45.571369   67.557651    False\n",
       "83  4.40044  2.00020  1.60016   12.842994   22.275142   25.088917    False\n",
       "84  1.60016  1.60016  1.60016   17.882145   25.177470   28.647542    False\n",
       "85  1.60016  1.60016  1.60016  119.957056  167.031151  206.214111    False"
      ]
     },
     "execution_count": 31,
     "metadata": {},
     "output_type": "execute_result"
    }
   ],
   "source": [
    "df.tail(10)"
   ]
  },
  {
   "cell_type": "code",
   "execution_count": 4,
   "metadata": {
    "collapsed": false
   },
   "outputs": [
    {
     "data": {
      "text/plain": [
       "(14, 6)"
      ]
     },
     "execution_count": 4,
     "metadata": {},
     "output_type": "execute_result"
    }
   ],
   "source": [
    "df.shape"
   ]
  },
  {
   "cell_type": "code",
   "execution_count": 5,
   "metadata": {
    "collapsed": true
   },
   "outputs": [],
   "source": [
    "dfa = np.asarray(df)"
   ]
  },
  {
   "cell_type": "code",
   "execution_count": 6,
   "metadata": {
    "collapsed": false
   },
   "outputs": [
    {
     "data": {
      "text/plain": [
       "array([[   8.0008    ,    2.0002    ,    4.0004    ,    2.14634999,\n",
       "           4.27680479,    6.79411607],\n",
       "       [   8.0008    ,    8.0008    ,    8.0008    ,    2.56169147,\n",
       "           9.63439037,    7.31037065],\n",
       "       [   4.0004    ,    4.0004    ,    4.0004    ,    2.41044876,\n",
       "          25.14451282,   41.62835842],\n",
       "       [   4.0004    ,    4.0004    ,    4.0004    ,   22.21953366,\n",
       "          59.1980845 ,   82.77698118],\n",
       "       [   4.0004    ,    4.0004    ,    4.0004    ,   34.23275134,\n",
       "          39.82980491,   54.14790647],\n",
       "       [   4.40044   ,    4.40044   ,    4.40044   ,   47.71857616,\n",
       "          49.61006433,   50.56690832],\n",
       "       [   4.40044   ,    4.40044   ,    4.40044   ,   83.08718027,\n",
       "          76.60272963,   94.32177238],\n",
       "       [   4.40044   ,    4.40044   ,    4.40044   ,  159.78880255,\n",
       "         135.31492763,  109.27005451],\n",
       "       [   4.40044   ,    4.40044   ,    4.40044   ,  139.69484773,\n",
       "         106.72734093,   72.40046975],\n",
       "       [   4.40044   ,    4.40044   ,    4.80048   ,   46.26648569,\n",
       "          71.14363037,   17.96648001],\n",
       "       [   4.40044   ,    4.80048   ,    4.80048   ,   19.6210183 ,\n",
       "          46.1432291 ,   32.60670155],\n",
       "       [   4.80048   ,    4.80048   ,    4.80048   ,   28.50478255,\n",
       "          52.56663894,   29.72929647],\n",
       "       [   4.80048   ,    4.80048   ,    1.60016   ,    8.24600058,\n",
       "          31.12706859,   13.34677362],\n",
       "       [   4.80048   ,    4.80048   ,    7.20072   ,    4.74385213,\n",
       "           6.76600842,    3.99601697]])"
      ]
     },
     "execution_count": 6,
     "metadata": {},
     "output_type": "execute_result"
    }
   ],
   "source": [
    "dfa"
   ]
  },
  {
   "cell_type": "code",
   "execution_count": 8,
   "metadata": {
    "collapsed": false
   },
   "outputs": [
    {
     "data": {
      "text/plain": [
       "8.0007999999999999"
      ]
     },
     "execution_count": 8,
     "metadata": {},
     "output_type": "execute_result"
    }
   ],
   "source": [
    "dfa[1,0]"
   ]
  },
  {
   "cell_type": "code",
   "execution_count": 12,
   "metadata": {
    "collapsed": true
   },
   "outputs": [],
   "source": [
    "def is_sticking_on_window(\n",
    "                        window_start, window_end,\n",
    "                        sticking_start, sticking_end\n",
    "                        ):\n",
    "    return sticking_start<=window_start and window_end<=sticking_end"
   ]
  },
  {
   "cell_type": "code",
   "execution_count": 13,
   "metadata": {
    "collapsed": false
   },
   "outputs": [
    {
     "data": {
      "text/plain": [
       "True"
      ]
     },
     "execution_count": 13,
     "metadata": {},
     "output_type": "execute_result"
    }
   ],
   "source": [
    "is_sticking_on_window(250,260,90,260)"
   ]
  },
  {
   "cell_type": "code",
   "execution_count": 21,
   "metadata": {
    "collapsed": false
   },
   "outputs": [],
   "source": [
    "coil_dict = {}\n",
    "coil_dict['0'] = {'Coil' : 0, 'Time' : [90,150]}\n",
    "coil_dict['1'] = {'Coil' : 1, 'Time' : [120,160]}\n",
    "            "
   ]
  },
  {
   "cell_type": "code",
   "execution_count": 22,
   "metadata": {
    "collapsed": false
   },
   "outputs": [
    {
     "data": {
      "text/plain": [
       "['1', '0']"
      ]
     },
     "execution_count": 22,
     "metadata": {},
     "output_type": "execute_result"
    }
   ],
   "source": [
    "coil_dict.keys()"
   ]
  },
  {
   "cell_type": "code",
   "execution_count": 27,
   "metadata": {
    "collapsed": false
   },
   "outputs": [
    {
     "name": "stdout",
     "output_type": "stream",
     "text": [
      "[120, 160]\n",
      "[90, 150]\n"
     ]
    }
   ],
   "source": [
    "for coil in coil_dict:\n",
    "    print coil_dict[coil]['Time']"
   ]
  },
  {
   "cell_type": "code",
   "execution_count": null,
   "metadata": {
    "collapsed": true
   },
   "outputs": [],
   "source": []
  }
 ],
 "metadata": {
  "kernelspec": {
   "display_name": "Python 2",
   "language": "python",
   "name": "python2"
  },
  "language_info": {
   "codemirror_mode": {
    "name": "ipython",
    "version": 2
   },
   "file_extension": ".py",
   "mimetype": "text/x-python",
   "name": "python",
   "nbconvert_exporter": "python",
   "pygments_lexer": "ipython2",
   "version": "2.7.12"
  }
 },
 "nbformat": 4,
 "nbformat_minor": 1
}
